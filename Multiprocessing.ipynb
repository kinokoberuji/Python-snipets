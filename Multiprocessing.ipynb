{
 "cells": [
  {
   "cell_type": "markdown",
   "metadata": {},
   "source": [
    "# Multiprocessing sử dụng concurrent.futures\n",
    "\n",
    "### Lê Ngọc Khả Nhi\n",
    "\n",
    "Trong bài thực hành ngắn hôm nay, Nhi sẽ hướng dẫn các bạn sử dụng module trong Python để thực hiện tính toán song song trên nhiều CPU (Multiprocessing) nhằm tăng tốc độ của các quy trình phân tích dữ liệu."
   ]
  },
  {
   "cell_type": "code",
   "execution_count": 1,
   "metadata": {},
   "outputs": [],
   "source": [
    "import time\n",
    "import multiprocessing as mp\n",
    "import numpy as np\n",
    "import inspect"
   ]
  },
  {
   "cell_type": "markdown",
   "metadata": {},
   "source": [
    "Giả sử ta có một hàm large_array_mean, với tính năng như sau: nhận vào 2 arguments là giá trị mu, sigma, hàm sẽ tạo một 2D array với kích thước 10000 x 10000 chứa tất cả giá trị ngẫu nhiên từ phân phối Gaussian(mu, sigma), sau đó tính trung bình của mỗi hàng trong array.\n",
    "\n",
    "Như vậy, đây là một quy trình tính toán khá nặng, hiệu năng về thời gian của nó phụ thuộc vào CPU."
   ]
  },
  {
   "cell_type": "code",
   "execution_count": 2,
   "metadata": {},
   "outputs": [],
   "source": [
    "def large_array_mean(mu : float, sigma: float):\n",
    "    array = np.random.normal(mu, sigma,(10000,10000))\n",
    "    return array.mean(axis = 1)"
   ]
  },
  {
   "cell_type": "markdown",
   "metadata": {},
   "source": [
    "Mỗi lượt thi hành của quy trình mất khoảng 2 giây:"
   ]
  },
  {
   "cell_type": "code",
   "execution_count": 3,
   "metadata": {},
   "outputs": [
    {
     "name": "stdout",
     "output_type": "stream",
     "text": [
      "[5.02750666 4.98018274 5.0229275  ... 5.01515793 4.98121049 5.00093053]\n",
      "Thi hành mất 2.53 giây\n"
     ]
    }
   ],
   "source": [
    "start = time.perf_counter()\n",
    "\n",
    "res = large_array_mean(5., 2.)\n",
    "print(res)\n",
    "\n",
    "end = time.perf_counter()\n",
    "\n",
    "print(f'Thi hành mất {round(end - start, 2)} giây')"
   ]
  },
  {
   "cell_type": "markdown",
   "metadata": {},
   "source": [
    "Giả sử bạn cần thi hành 50 lượt quy trình này, từ 2 list chứa 50 giá trị mu và sigma khác nhau, cách làm thông thường là sử dụng vòng lặp for hoặc hàm map. Tuy nhiên cả 2 cách này đều rất chậm, vì 50 tác vụ được thi hành tuần tự, phải chờ tác vụ trước kết thúc thì tác vụ sau mới được khởi động. Do đó, tổng thời gian thi hành sẽ lên đến 126 giây."
   ]
  },
  {
   "cell_type": "code",
   "execution_count": 4,
   "metadata": {},
   "outputs": [],
   "source": [
    "mu_list = list(np.random.uniform(5,100,50))\n",
    "\n",
    "sigma_list = list(np.random.uniform(2,50,50))"
   ]
  },
  {
   "cell_type": "markdown",
   "metadata": {},
   "source": [
    "## Sử dụng vòng lặp for"
   ]
  },
  {
   "cell_type": "code",
   "execution_count": 5,
   "metadata": {},
   "outputs": [
    {
     "name": "stdout",
     "output_type": "stream",
     "text": [
      "Thi hành mất 126.52 giây\n"
     ]
    }
   ],
   "source": [
    "start = time.perf_counter()\n",
    "\n",
    "results = []\n",
    "for i,j in zip(mu_list, sigma_list):\n",
    "    res = large_array_mean(i, j)\n",
    "    results.append(res)\n",
    "    \n",
    "end = time.perf_counter()\n",
    "\n",
    "print(f'Thi hành mất {round(end - start, 2)} giây')"
   ]
  },
  {
   "cell_type": "markdown",
   "metadata": {},
   "source": [
    "## Sử dụng hàm map"
   ]
  },
  {
   "cell_type": "code",
   "execution_count": 6,
   "metadata": {},
   "outputs": [
    {
     "name": "stdout",
     "output_type": "stream",
     "text": [
      "Thi hành mất 111.72 giây\n"
     ]
    }
   ],
   "source": [
    "start = time.perf_counter()\n",
    "\n",
    "results = [res for res in map(large_array_mean, mu_list, sigma_list)]\n",
    "\n",
    "end = time.perf_counter()\n",
    "\n",
    "print(f'Thi hành mất {round(end - start, 2)} giây')"
   ]
  },
  {
   "cell_type": "markdown",
   "metadata": {},
   "source": [
    "# Multiprocessing \n",
    "\n",
    "Ta có thể thực hiện tính toán song song 50 tác vụ trên nhiều CPU một cách rất đơn giản, nhờ vào method ProcessPoolExecutor của module concurrent.futures.\n",
    "\n",
    "Lưu ý: Không thể dùng concurrent.futures trực tiếp trên jupyter notebook, do đó các bạn cần viết 1 module rời, thí dụ tên là parallel, đặt trong cùng thư mục hiện hành. Nội dung code của module này như sau:"
   ]
  },
  {
   "cell_type": "code",
   "execution_count": 39,
   "metadata": {},
   "outputs": [],
   "source": [
    "import concurrent.futures as cf\n",
    "import numpy as np\n",
    "\n",
    "def large_array_mean(mu : float, sigma: float):\n",
    "    array = np.random.normal(mu, sigma,(10000,10000))\n",
    "    return array.mean(axis = 1)\n",
    "\n",
    "def parallel_func(*args):\n",
    "    with cf.ProcessPoolExecutor() as pool:\n",
    "        results = pool.map(large_array_mean, *args)\n",
    "\n",
    "    return results"
   ]
  },
  {
   "cell_type": "markdown",
   "metadata": {},
   "source": [
    "Như vậy, ta dùng context manager để tạo 1 pool từ class ProcessPoolExecutor(), sau đó dùng method map của class này theo cùng nguyên tắc như hàm map, với target function là large_array_mean, theo sau là danh sách các arguments.\n",
    "\n",
    "Ta import module vừa tạo ra vào notebook:"
   ]
  },
  {
   "cell_type": "code",
   "execution_count": 7,
   "metadata": {},
   "outputs": [],
   "source": [
    "import parallel as para"
   ]
  },
  {
   "cell_type": "markdown",
   "metadata": {},
   "source": [
    "Lúc này, ta có thể dùng hàm parallel_func trong module vừa tạo ra, cho 2 list mu và sigma, và đóng gói kết quả vào list results bằng list comprehension:"
   ]
  },
  {
   "cell_type": "code",
   "execution_count": 8,
   "metadata": {},
   "outputs": [
    {
     "name": "stdout",
     "output_type": "stream",
     "text": [
      "Thi hành mất 14.58 giây\n"
     ]
    }
   ],
   "source": [
    "start = time.perf_counter()\n",
    "\n",
    "results = [r for r in para.parallel_func(mu_list,sigma_list)]\n",
    "\n",
    "end = time.perf_counter()\n",
    "\n",
    "print(f'Thi hành mất {round(end - start, 2)} giây')"
   ]
  },
  {
   "cell_type": "markdown",
   "metadata": {},
   "source": [
    "Như ta thấy, khi áp dụng Multiprocessing, 50 tác vụ được chia ra thi hành song song trên nhiều CPU, do đó rút ngắn đáng kể thời gian xuống chỉ còn 14.5 giây, như vậy nhanh hơn gấp 8-9 lần so với cách làm thông thường.\n",
    "\n",
    "Bài thực hành kết thúc ở đây, chúc các bạn thí nghiệm vui."
   ]
  },
  {
   "cell_type": "code",
   "execution_count": null,
   "metadata": {},
   "outputs": [],
   "source": []
  }
 ],
 "metadata": {
  "kernelspec": {
   "display_name": "Python 3",
   "language": "python",
   "name": "python3"
  },
  "language_info": {
   "codemirror_mode": {
    "name": "ipython",
    "version": 3
   },
   "file_extension": ".py",
   "mimetype": "text/x-python",
   "name": "python",
   "nbconvert_exporter": "python",
   "pygments_lexer": "ipython3",
   "version": "3.8.3"
  },
  "toc": {
   "base_numbering": 1,
   "nav_menu": {},
   "number_sections": true,
   "sideBar": true,
   "skip_h1_title": false,
   "title_cell": "Table of Contents",
   "title_sidebar": "Contents",
   "toc_cell": false,
   "toc_position": {},
   "toc_section_display": true,
   "toc_window_display": false
  }
 },
 "nbformat": 4,
 "nbformat_minor": 4
}
