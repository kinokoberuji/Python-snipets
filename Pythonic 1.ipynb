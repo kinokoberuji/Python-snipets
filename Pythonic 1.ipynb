{
 "cells": [
  {
   "cell_type": "markdown",
   "metadata": {},
   "source": [
    "# Dấu ấn pythonic\n",
    "\n",
    "### BS. Lê Ngọc Khả Nhi\n",
    "\n",
    "Trước khi làm quen Python, Nhi đã dùng R trong 5 năm, nên dù Python là một ngôn ngữ rất dễ hiểu, đơn giản, Nhi đã không thể dùng nó một cách trôi chảy, cho đến khi Nhi tiếp cận một vài giáo trình tâm huyết của chính những tiền bối lập trình viên Python biên soạn, trong đó họ đặc biệt nhấn mạnh về những nét đặc thù của ngôn ngữ này. Một số giảng viên luyện phỏng vấn tuyển dụng thì truyền cho học viên những mẹo khi viết code, để gây ấn tượng cho giám khảo về kinh nghiệm dày dặn của một người lâu năm trong nghề. Những thứ này được gọi bằng một từ khá bí hiểm là 'Pythonic'.\n",
    "\n",
    "Trong bài này Nhi sẽ liệt kê một số (chưa phải tất cả) 'dấu ấn Pythonic' cho phép nhận diện người đã có kinh nghiệm dùng Python lâu, và/hoặc nắm vững những công cụ đặc thù mà ngôn ngữ này cung cấp."
   ]
  },
  {
   "cell_type": "markdown",
   "metadata": {},
   "source": [
    "# Comprehension\n",
    "\n",
    "Comprehension là một cấu trúc cú pháp với công dụng tạo ra một danh sách mới từ một danh sách đã có. Mặc dù việc này khả thi trong rất nhiều ngôn ngữ lập trình, tuy nhiên hiếm ngôn ngữ nào đạt đến sự đơn giản, ngắn gọn về cú pháp về comprehension như Python. \n",
    "\n",
    "Có thể phân biệt giữa người mới chuyển từ ngôn ngữ khác (thí dụ R) sang Python, và người đã dùng Python lâu năm, dựa vào cách họ thực hiện comprehension cho list, nhất là trong những vấn đề phức tạp như xét điều kiện (if). Những người mới học có khuynh hướng tạo holder rỗng, rồi dùng vòng lặp for loop gán kết quả tuần tự, còn 'Pythonista' thực sự sẽ code ngắn gọn hơn nhiều.\n",
    "\n",
    "Python hỗ trợ comprehension cho cả 3 cấu trúc dữ liệu list, dictionary và set\n",
    "\n",
    "\n",
    "## List comprehension\n",
    "\n",
    "Thí dụ minh họa: chuyển 1 list chứa giá trị huyết áp tâm thu thành 1 list nhãn chẩn đoán tăng huyết áp hay bình thường: ta chỉ cần 1 dòng code:"
   ]
  },
  {
   "cell_type": "code",
   "execution_count": 5,
   "metadata": {},
   "outputs": [
    {
     "data": {
      "text/plain": [
       "['BT', 'BT', 'THA', 'BT', 'THA', 'THA', 'BT', 'BT']"
      ]
     },
     "execution_count": 5,
     "metadata": {},
     "output_type": "execute_result"
    }
   ],
   "source": [
    "sys_bp = [128, 137, 142, 134, 145, 150, 138, 122]\n",
    "\n",
    "recode = ['THA' if i > 139 else 'BT' for i in sys_bp]\n",
    "\n",
    "recode"
   ]
  },
  {
   "cell_type": "markdown",
   "metadata": {},
   "source": [
    "## Dictionary comprehension\n",
    "\n",
    "Thí dụ minh họa: Từ 3 list: tên bệnh nhân, dữ liệu huyết áp tâm thu và tâm trương, ta muốn tạo ra 1 dictionary có cấu trúc: Key là tên bệnh nhân, value là 1 tuple chứa HATT/HATtr"
   ]
  },
  {
   "cell_type": "code",
   "execution_count": 6,
   "metadata": {},
   "outputs": [
    {
     "data": {
      "text/plain": [
       "{'Patient_A': (128, 72),\n",
       " 'Patient_B': (137, 83),\n",
       " 'Patient_C': (142, 86),\n",
       " 'Patient_D': (134, 68),\n",
       " 'Patient_E': (145, 90),\n",
       " 'Patient_F': (150, 82),\n",
       " 'Patient_G': (138, 81),\n",
       " 'Patient_H': (122, 74)}"
      ]
     },
     "execution_count": 6,
     "metadata": {},
     "output_type": "execute_result"
    }
   ],
   "source": [
    "pat_id = list('ABCDEFGH')\n",
    "sys_bp = [128, 137, 142, 134, 145, 150, 138, 122]\n",
    "dia_bp = [72, 83, 86, 68, 90, 82, 81, 74]\n",
    "\n",
    "bp_dict = {f\"Patient_{k}\":(s,d) for k,s,d in zip(pat_id, sys_bp, dia_bp)}\n",
    "\n",
    "bp_dict"
   ]
  },
  {
   "cell_type": "markdown",
   "metadata": {},
   "source": [
    "Phức tạp hơn 1 chút: Ta chỉ muốn giữ lại trong dictionary những bệnh nhân có HATT cao hơn 139:"
   ]
  },
  {
   "cell_type": "code",
   "execution_count": 19,
   "metadata": {},
   "outputs": [
    {
     "data": {
      "text/plain": [
       "{'Patient_C': (142, 86), 'Patient_E': (145, 90), 'Patient_F': (150, 82)}"
      ]
     },
     "execution_count": 19,
     "metadata": {},
     "output_type": "execute_result"
    }
   ],
   "source": [
    "hta_dict = {f\"Patient_{k}\":(s,d) for k,s,d in zip(pat_id, sys_bp, dia_bp) if s > 139}\n",
    "\n",
    "hta_dict"
   ]
  },
  {
   "cell_type": "markdown",
   "metadata": {},
   "source": [
    "Tương tự: Tạo ra dictionary gồm key = tên bệnh nhân, và value là chẩn đoán tăng huyết áp:"
   ]
  },
  {
   "cell_type": "code",
   "execution_count": 22,
   "metadata": {},
   "outputs": [
    {
     "data": {
      "text/plain": [
       "{'Patient_A': 'BT',\n",
       " 'Patient_B': 'BT',\n",
       " 'Patient_C': 'THA',\n",
       " 'Patient_D': 'BT',\n",
       " 'Patient_E': 'THA',\n",
       " 'Patient_F': 'THA',\n",
       " 'Patient_G': 'BT',\n",
       " 'Patient_H': 'BT'}"
      ]
     },
     "execution_count": 22,
     "metadata": {},
     "output_type": "execute_result"
    }
   ],
   "source": [
    "hta_dict = {f\"Patient_{k}\":('THA' if s > 139 else 'BT') \n",
    "            for k,s in zip(pat_id, sys_bp)}\n",
    "\n",
    "hta_dict"
   ]
  },
  {
   "cell_type": "markdown",
   "metadata": {},
   "source": [
    "## Set comprehension\n",
    "\n",
    "Set là một cấu trúc dữ liệu rất thú vị trong Python, vì mỗi phần tử chỉ hiện diện 1 lần, do đó set rất hữu dụng khi ta chỉ cần biết có bao nhiêu loại/kiểu/giá trị duy nhất trong dữ liệu\n",
    "\n",
    "Thí dụ: ta có 1 array gồm 1000 giá trị BMI được sinh ra ngẫu nhiên từ phân phối có trung bình = 25 và SD = 5, ta muốn làm tròn và nhận diện có bao nhiêu giá trị cao hơn 29.99"
   ]
  },
  {
   "cell_type": "code",
   "execution_count": 50,
   "metadata": {},
   "outputs": [
    {
     "data": {
      "text/plain": [
       "{30, 31, 32, 33, 34, 35, 36, 37, 38, 39, 40}"
      ]
     },
     "execution_count": 50,
     "metadata": {},
     "output_type": "execute_result"
    }
   ],
   "source": [
    "import numpy as np\n",
    "\n",
    "bmi = np.random.normal(25,5, 1000).astype('int8')\n",
    "\n",
    "{i for i in bmi if i>29.99}"
   ]
  },
  {
   "cell_type": "markdown",
   "metadata": {},
   "source": [
    "Tương tự, ta có 2 arrays, mỗi chuỗi chứa 1000 giá trị huyết áp tâm thu và tâm trương của 1000 người, ta muốn lọc ra những cặp giá trị HATT/HATtr nào thỏa điều kiện HATT cao hơn 139 mmHg và HATtr cao hơn 89 mmHg."
   ]
  },
  {
   "cell_type": "code",
   "execution_count": 62,
   "metadata": {},
   "outputs": [
    {
     "data": {
      "text/plain": [
       "{(140, 93),\n",
       " (141, 90),\n",
       " (141, 99),\n",
       " (142, 93),\n",
       " (142, 100),\n",
       " (143, 92),\n",
       " (144, 90),\n",
       " (145, 102),\n",
       " (146, 100),\n",
       " (148, 97)}"
      ]
     },
     "execution_count": 62,
     "metadata": {},
     "output_type": "execute_result"
    }
   ],
   "source": [
    "sys_bp = np.random.normal(125,10,1000).astype('int16')\n",
    "dia_bp = np.random.normal(80,10,1000).astype('int16')\n",
    "\n",
    "{(s,d) for s,d in zip(sys_bp, dia_bp) if s>139 and d > 89}"
   ]
  },
  {
   "cell_type": "markdown",
   "metadata": {},
   "source": [
    "# f-string\n",
    "\n",
    "Trong lịch sử phát triển của Python, có đến 4 phương pháp format string khác nhau; tuy nhiên phương pháp hiện đại và tối ưu nhất chính là f-string, chỉ mới xuất hiện từ phiên bản Python 3.6; do đó khi đọc code ta có thể nhận biết tác giả là người dùng Python lâu năm, hay mới làm quen với Python gần đây hoặc đã có cập nhật kiến thức thường xuyên. Không chỉ đơn giản là 1 phong cách/thói quen hay lựa chọn cá nhân, mà chắc chắn là các bạn nên dùng f-string vì nó ngắn gọn, tường minh hơn rất nhiều so với cách làm cũ. Các bạn cần chú ý về điểm này khi đọc những giáo trình dựa trên phiên bản Python cũ.\n",
    "\n",
    "f-string có rất nhiều ứng dụng, thí dụ đơn giản nhất là để in nội dung feed back của một hàm, vòng lặp..."
   ]
  },
  {
   "cell_type": "code",
   "execution_count": 34,
   "metadata": {},
   "outputs": [
    {
     "name": "stdout",
     "output_type": "stream",
     "text": [
      "Bệnh nhân thứ 1 có huyết áp bình thường = 128 mmHg\n",
      "Bệnh nhân thứ 2 có huyết áp bình thường = 137 mmHg\n",
      "Bệnh nhân thứ 3 có huyết áp cao = 142 mmHg\n",
      "Bệnh nhân thứ 4 có huyết áp bình thường = 134 mmHg\n",
      "Bệnh nhân thứ 5 có huyết áp cao = 145 mmHg\n",
      "Bệnh nhân thứ 6 có huyết áp cao = 150 mmHg\n",
      "Bệnh nhân thứ 7 có huyết áp bình thường = 138 mmHg\n",
      "Bệnh nhân thứ 8 có huyết áp bình thường = 122 mmHg\n"
     ]
    }
   ],
   "source": [
    "sys_bp = [128, 137, 142, 134, 145, 150, 138, 122]\n",
    "recode = ['cao' if i > 139 else 'bình thường' for i in sys_bp]\n",
    "\n",
    "for i, v in enumerate(sys_bp):\n",
    "    print(f\"Bệnh nhân thứ {i+1} có huyết áp {recode[i]} = {v} mmHg\")"
   ]
  },
  {
   "cell_type": "markdown",
   "metadata": {},
   "source": [
    "Bất cứ khi nào bạn cần dùng string trong dữ liệu, hàm, kết quả:"
   ]
  },
  {
   "cell_type": "code",
   "execution_count": 35,
   "metadata": {},
   "outputs": [
    {
     "data": {
      "text/plain": [
       "{'BN_0': 128,\n",
       " 'BN_1': 137,\n",
       " 'BN_2': 142,\n",
       " 'BN_3': 134,\n",
       " 'BN_4': 145,\n",
       " 'BN_5': 150,\n",
       " 'BN_6': 138,\n",
       " 'BN_7': 122}"
      ]
     },
     "execution_count": 35,
     "metadata": {},
     "output_type": "execute_result"
    }
   ],
   "source": [
    "{f'BN_{i}': v for i,v in enumerate(sys_bp)}"
   ]
  },
  {
   "cell_type": "markdown",
   "metadata": {},
   "source": [
    "Hoặc dùng cho method repr khi lập trình class, để mô tả thông tin về object theo cách bạn muốn:"
   ]
  },
  {
   "cell_type": "code",
   "execution_count": 24,
   "metadata": {},
   "outputs": [],
   "source": [
    "import numpy as np\n",
    "\n",
    "class matrix_2D:\n",
    "    \n",
    "    def __init__(self, x):\n",
    "        self.data = x\n",
    "        \n",
    "    def __repr__(self):\n",
    "        s = self.data.shape\n",
    "        return f\"Ma trận {s[0]} hàng x {s[1]} cột\""
   ]
  },
  {
   "cell_type": "code",
   "execution_count": 28,
   "metadata": {},
   "outputs": [
    {
     "name": "stdout",
     "output_type": "stream",
     "text": [
      "Ma trận 6 hàng x 7 cột\n"
     ]
    }
   ],
   "source": [
    "obj = matrix_2D(np.random.normal(5,10, size = (6,7)))\n",
    "\n",
    "print(obj)"
   ]
  },
  {
   "cell_type": "markdown",
   "metadata": {},
   "source": [
    "# Hàm lambda\n",
    "\n",
    "Hàm lambda là một cấu trúc cú pháp thú vị khác, khái niệm về lamnda calculus có lịch sử từ thập niên 30; và được kế thừa một cách trực tiếp trong nhiều ngôn ngữ lập trình hàm. Biểu thức lambda có trong tất cả ngôn ngữ lập trình, từ C, java đến Python. Do Python không hoàn toàn là một ngôn ngữ lập trình hàm, Lambda expression chỉ được tạo ra từ năm 1994 cùng với các công cụ lập trình hàm khác như map(), filter(), reduce().\n",
    "\n",
    "Biểu thức lambda là 1 hàm vô danh, không có argument, nhận trực tiếp một object x và làm 1 công việc duy nhất, chỉ sử dụng 1 lần. Lưu ý là không bắt buộc dùng biểu thức lambda, thậm chí một số người chọn cách viết hàm rời, vì tường minh và dễ debug hơn, chứ hoàn toàn không thích dùng lambda. Tuy nhiên, giáo trình Python dùng nhiều thí dụ kinh điển cho thấy lambda có thể giúp rút ngắn thời gian code và số dòng code ra sao: \n",
    "\n",
    "## Lambda + map\n",
    "\n",
    "Trong thí dụ này, ta có 1 array dữ liệu là những con số 0,1,2,3,4,5; và ta muốn hoán chuyển bằng hàm logarith, tuy nhiên hàm log không dùng được cho 0, do đó ta muốn cộng thêm 1 giá trị rát nhỏ là 0.000001 vào những giá trị 0, ta kết hợp map và lambda để làm việc này. Lưu ý là map tạo ra generator, do đó ta dùng list comprehension để mở gói generator này;"
   ]
  },
  {
   "cell_type": "code",
   "execution_count": 85,
   "metadata": {},
   "outputs": [
    {
     "name": "stderr",
     "output_type": "stream",
     "text": [
      "<ipython-input-85-af67b06d8a5b>:6: RuntimeWarning: divide by zero encountered in log\n",
      "  np.log(y).min()\n"
     ]
    },
    {
     "data": {
      "text/plain": [
       "-inf"
      ]
     },
     "execution_count": 85,
     "metadata": {},
     "output_type": "execute_result"
    }
   ],
   "source": [
    "y = np.random.choice([0,1,2,3,4,5], \n",
    "                 replace=True,\n",
    "                 p=[0.1,0.18,0.18,0.18,0.18,0.18], \n",
    "                 size = 100)\n",
    "\n",
    "np.log(y).min()"
   ]
  },
  {
   "cell_type": "code",
   "execution_count": 86,
   "metadata": {},
   "outputs": [
    {
     "name": "stderr",
     "output_type": "stream",
     "text": [
      "<ipython-input-86-f6e7c0610b57>:1: RuntimeWarning: divide by zero encountered in log\n",
      "  np.log(0)\n"
     ]
    },
    {
     "data": {
      "text/plain": [
       "-inf"
      ]
     },
     "execution_count": 86,
     "metadata": {},
     "output_type": "execute_result"
    }
   ],
   "source": [
    "np.log(0)"
   ]
  },
  {
   "cell_type": "code",
   "execution_count": 89,
   "metadata": {},
   "outputs": [
    {
     "data": {
      "text/plain": [
       "-13.815510557964274"
      ]
     },
     "execution_count": 89,
     "metadata": {},
     "output_type": "execute_result"
    }
   ],
   "source": [
    "adj_y = [i for i in map(lambda x: x+0.000001, y)]\n",
    "\n",
    "np.log(adj_y).min()"
   ]
  },
  {
   "cell_type": "markdown",
   "metadata": {},
   "source": [
    "## Lambda + sorted\n",
    "\n",
    "Một thí dụ kinh điển khác, là dùng lambda như 1 key để xếp thứ tự cho dữ liệu, như trong thí dụ này, ta muốn xếp thứ tự các bệnh nhân trong dictionary bp_dict theo giá trị huyết áp tâm thu từ cao nhất đến thấp nhất:"
   ]
  },
  {
   "cell_type": "code",
   "execution_count": 1,
   "metadata": {},
   "outputs": [
    {
     "data": {
      "text/plain": [
       "{'Patient_A': (128, 72),\n",
       " 'Patient_B': (137, 83),\n",
       " 'Patient_C': (142, 86),\n",
       " 'Patient_D': (134, 68),\n",
       " 'Patient_E': (145, 90),\n",
       " 'Patient_F': (150, 82),\n",
       " 'Patient_G': (138, 81),\n",
       " 'Patient_H': (122, 74)}"
      ]
     },
     "execution_count": 1,
     "metadata": {},
     "output_type": "execute_result"
    }
   ],
   "source": [
    "pat_id = list('ABCDEFGH')\n",
    "sys_bp = [128, 137, 142, 134, 145, 150, 138, 122]\n",
    "dia_bp = [72, 83, 86, 68, 90, 82, 81, 74]\n",
    "\n",
    "bp_dict = {f\"Patient_{k}\":(s,d) for k,s,d in zip(pat_id, sys_bp, dia_bp)}\n",
    "\n",
    "bp_dict"
   ]
  },
  {
   "cell_type": "code",
   "execution_count": 7,
   "metadata": {},
   "outputs": [
    {
     "data": {
      "text/plain": [
       "{'Patient_F': (150, 82),\n",
       " 'Patient_E': (145, 90),\n",
       " 'Patient_C': (142, 86),\n",
       " 'Patient_G': (138, 81),\n",
       " 'Patient_B': (137, 83),\n",
       " 'Patient_D': (134, 68),\n",
       " 'Patient_A': (128, 72),\n",
       " 'Patient_H': (122, 74)}"
      ]
     },
     "execution_count": 7,
     "metadata": {},
     "output_type": "execute_result"
    }
   ],
   "source": [
    "dict(sorted(bp_dict.items(), key = lambda d: d[1][0], reverse= True))"
   ]
  },
  {
   "cell_type": "markdown",
   "metadata": {},
   "source": [
    "# Generator\n",
    "\n",
    "Generator là một quy trình kiểm soát hành vi của một vòng lặp. Thay vì để phép lặp xuất ra toàn bộ kết quả và lưu vào bộ nhớ, generator chỉ xuất ra kết quả tuần tự, theo nhu cầu khi người dùng ra lệnh, do đó mang lại hiệu suất cao về không gian lưu trữ. \n",
    "\n",
    "Một khi được tạo ra, generator cho phép truy xuất tuần tự (gọi là tiêu thụ), phần tử nào được tiêu thụ sẽ bị xóa khỏi tập hợp, cho đến khi toàn bộ generator tiêu thụ hết. Do đó generator chỉ dùng được 1 lần.\n",
    "\n",
    "Trong thí dụ này, ta muốn tạo ra 1 danh sách 999999 số ngẫu nhiên trong khoảng 120-150; nếu không dùng generator, danh sách sp_sample_lst này chiếm rất nhiều bộ nhớ, nhưng khi dùng generator sp_sample chỉ chiếm 112 Kb."
   ]
  },
  {
   "cell_type": "code",
   "execution_count": 50,
   "metadata": {},
   "outputs": [
    {
     "data": {
      "text/plain": [
       "112"
      ]
     },
     "execution_count": 50,
     "metadata": {},
     "output_type": "execute_result"
    }
   ],
   "source": [
    "import random\n",
    "import sys\n",
    "\n",
    "sp_sample = (i for i in random.choices(range(120,150),k=999999))\n",
    "\n",
    "sys.getsizeof(sp_sample)"
   ]
  },
  {
   "cell_type": "code",
   "execution_count": 51,
   "metadata": {},
   "outputs": [
    {
     "data": {
      "text/plain": [
       "8697456"
      ]
     },
     "execution_count": 51,
     "metadata": {},
     "output_type": "execute_result"
    }
   ],
   "source": [
    "sp_sample_lst = [i for i in random.choices(range(120,150),k=999999)]\n",
    "\n",
    "sys.getsizeof(sp_sample_lst)"
   ]
  },
  {
   "cell_type": "markdown",
   "metadata": {},
   "source": [
    "Tuy rất nhỏ, nhưng sp_sample cho ra kết quả tương đương với 1 list thực sự khi dùng với các hàm thực hiện phép lặp (iteration), thí dụ kiểm kê bằng Counter:"
   ]
  },
  {
   "cell_type": "code",
   "execution_count": 52,
   "metadata": {},
   "outputs": [
    {
     "data": {
      "text/plain": [
       "Counter({133: 33356,\n",
       "         129: 33300,\n",
       "         132: 33452,\n",
       "         148: 33409,\n",
       "         126: 33012,\n",
       "         127: 33700,\n",
       "         149: 33145,\n",
       "         134: 33415,\n",
       "         121: 33507,\n",
       "         141: 32870,\n",
       "         136: 33251,\n",
       "         130: 33045,\n",
       "         125: 33326,\n",
       "         137: 33125,\n",
       "         128: 33548,\n",
       "         142: 33313,\n",
       "         123: 33463,\n",
       "         138: 33379,\n",
       "         120: 33483,\n",
       "         143: 33386,\n",
       "         131: 33308,\n",
       "         122: 33179,\n",
       "         135: 32993,\n",
       "         147: 33478,\n",
       "         144: 33517,\n",
       "         146: 33347,\n",
       "         145: 33529,\n",
       "         140: 33370,\n",
       "         139: 33346,\n",
       "         124: 33447})"
      ]
     },
     "execution_count": 52,
     "metadata": {},
     "output_type": "execute_result"
    }
   ],
   "source": [
    "from collections import Counter\n",
    "\n",
    "Counter(sp_sample)"
   ]
  },
  {
   "cell_type": "markdown",
   "metadata": {},
   "source": [
    "Ngoài generator bằng biểu thức (đặt vòng lặp trong ngoặc đơn), ta còn có thể tạo generator hàm, khi thay return bằng yield.\n",
    "\n",
    "Trong thí dụ này, ta kết hợp 1 hàm generator và generator expression để sinh ra nhãn kết quả chẩn đoán tăng huyết áp cho 999999 giá trị huyết áp, sau đó tiêu thụ cả 2 trong phép đếm của Counter:"
   ]
  },
  {
   "cell_type": "code",
   "execution_count": 91,
   "metadata": {},
   "outputs": [
    {
     "data": {
      "text/plain": [
       "<generator object <genexpr> at 0x000001E7EB669E40>"
      ]
     },
     "execution_count": 91,
     "metadata": {},
     "output_type": "execute_result"
    }
   ],
   "source": [
    "def hta_diag(x = None):\n",
    "    yield 'THA' if x > 139 else 'BT'\n",
    "\n",
    "bp_samp = (next(hta_diag(i)) for i in random.choices(range(120,150),k=999999))\n",
    "\n",
    "bp_samp"
   ]
  },
  {
   "cell_type": "code",
   "execution_count": 93,
   "metadata": {},
   "outputs": [
    {
     "data": {
      "text/plain": [
       "112"
      ]
     },
     "execution_count": 93,
     "metadata": {},
     "output_type": "execute_result"
    }
   ],
   "source": [
    "sys.getsizeof(bp_samp)"
   ]
  },
  {
   "cell_type": "code",
   "execution_count": 94,
   "metadata": {},
   "outputs": [
    {
     "data": {
      "text/plain": [
       "Counter({'THA': 333367, 'BT': 666632})"
      ]
     },
     "execution_count": 94,
     "metadata": {},
     "output_type": "execute_result"
    }
   ],
   "source": [
    "Counter(bp_samp)"
   ]
  },
  {
   "cell_type": "markdown",
   "metadata": {},
   "source": [
    "Trong bài này Nhi chỉ mới liệt kê lột vài thứ 'Pythonic' đơn giản, những yếu tố khác nằm trong các packages như itertools, collections, functools..., hoàn toàn đặc thù cho Python."
   ]
  },
  {
   "cell_type": "code",
   "execution_count": null,
   "metadata": {},
   "outputs": [],
   "source": []
  }
 ],
 "metadata": {
  "kernelspec": {
   "display_name": "Python 3",
   "language": "python",
   "name": "python3"
  },
  "language_info": {
   "codemirror_mode": {
    "name": "ipython",
    "version": 3
   },
   "file_extension": ".py",
   "mimetype": "text/x-python",
   "name": "python",
   "nbconvert_exporter": "python",
   "pygments_lexer": "ipython3",
   "version": "3.8.3"
  },
  "toc": {
   "base_numbering": 1,
   "nav_menu": {},
   "number_sections": true,
   "sideBar": true,
   "skip_h1_title": false,
   "title_cell": "Table of Contents",
   "title_sidebar": "Contents",
   "toc_cell": false,
   "toc_position": {},
   "toc_section_display": true,
   "toc_window_display": false
  }
 },
 "nbformat": 4,
 "nbformat_minor": 4
}
