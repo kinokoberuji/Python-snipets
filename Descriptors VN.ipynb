{
 "cells": [
  {
   "cell_type": "markdown",
   "id": "hungry-affiliate",
   "metadata": {},
   "source": [
    "# Python descriptors - Bài 1: Giao thức và methods\n",
    "\n",
    "**BS. Lê Ngọc Khả Nhi**\n",
    "\n",
    "Descriptor là một giao thức lập trình hướng đối tượng (OOP) trong ngôn ngữ Python. Mạnh mẽ và đa dụng, descriptor chính là cơ chế đằng sau của nhiều khái niệm trong OOP như static/class methods, super(), properties ...\n",
    "\n",
    "Descriptor ít được đề cập trong những giáo trình về OOP cơ bản, một số bài giảng khác lại trình bày về descriptor một cách khó hiểu. Với loạt bài này, Nhi sẽ giới thiệu về descriptor và cách sử dụng nó một cách dễ hiểu nhất có thể. Trong bài đầu tiên, Nhi sẽ trình bày khái quát về cơ chế của một giao thức descriptor, và 4 methods chính của nó.\n",
    "\n",
    "# Cấu trúc tổng quát của giao thức descriptor\n",
    "\n",
    "Một giao thức sử dụng descriptor cần ít nhất 2 classes:\n",
    "\n",
    "+ 1 class là DescriptorClass, bên trong gồm các methods chuyên biệt quy định công dụng/hiệu ứng mà ta cần descriptor này thực thi.\n",
    "\n",
    "+ 1 class còn lại, tạm gọi là ClientClass, là chủ thể tiêu thụ hay vận dụng tính năng của descriptor, là instance của descriptor class nói trên.\n",
    "\n",
    "descriptor chỉ đơn giản là instance của một class có chứa một hay nhiều method đặc trưng cho descriptor protocol, bao gồm: \n",
    "\n",
    "__ get __, \n",
    "\n",
    "__ set __,\n",
    "\n",
    "__ delete __ \n",
    "\n",
    "__ set_name __\n",
    "\n",
    "descriptor bắt buộc phải được áp dụng như 1 atribute, và ở cấp độ class của ClientClass (thiết lập ngay từ khi xây dựng ClientClass, không phải là attribute của 1 instance client). \n",
    "\n",
    "Ngoài ra descriptor attribute này phải nằm ngoài method __ init __\n",
    "\n",
    "Nội dung code như sau:"
   ]
  },
  {
   "cell_type": "code",
   "execution_count": null,
   "id": "pregnant-vaccine",
   "metadata": {},
   "outputs": [],
   "source": [
    "class DescriptorClass:\n",
    "    ... # Sử dụng ít nhất 1 trong 4 methods chuyên biệt\n",
    "\n",
    "class ClientClass:\n",
    "    \n",
    "    descriptorf __init__(self,...):\n",
    "        ...\n",
    "    \n",
    "    descriptor = DescriptorClass() \n",
    "    # descriptor là instance của DescriptorClass, \n",
    "    # được gán cho attribute của ClientClass\n",
    "    \n",
    "client = ClientClass() # client là 1 object của ClientClass"
   ]
  },
  {
   "cell_type": "markdown",
   "id": "cooperative-analyst",
   "metadata": {},
   "source": [
    "Khác biệt của descriptor và phép gán attribute thông thường: \n",
    "\n",
    "Khi không sử dụng descriptor, ta vẫn có thể gán instance của 1 class A (thí dụ Patient) vào attribute (case) của 1 class B (Database), tuy nhiên khi ta truy nhập vào attribute case trong class B này, ta chỉ nhận được 1 object (instance) của class A; nếu truy nhập sâu hơn nữa thì ta mới lấy được giá trị (properties) của object đó, thí dụ case.group"
   ]
  },
  {
   "cell_type": "code",
   "execution_count": 2,
   "id": "infectious-poster",
   "metadata": {},
   "outputs": [
    {
     "name": "stdout",
     "output_type": "stream",
     "text": [
      "<__main__.Patient object at 0x0000020CAE787040>\n",
      "ABC\n"
     ]
    }
   ],
   "source": [
    "class Patient:\n",
    "    group = 'ABC'\n",
    "\n",
    "class Database:\n",
    "    case = Patient()\n",
    "    \n",
    "pat_db = Database()\n",
    "\n",
    "print(pat_db.case)\n",
    "\n",
    "print(pat_db.case.group)"
   ]
  },
  {
   "cell_type": "markdown",
   "id": "discrete-absorption",
   "metadata": {},
   "source": [
    "Trong khi đó, nếu áp dụng 1 descriptor đơn giản nhất với method __ get __ , ta có thể gán cho 1 attribute trong class B ***bất cứ thứ gì ta muốn*** (xuất ra từ method __ get __ ) chứ không chỉ là 1 object cố định.\n",
    "\n",
    "Tuy đơn giản, thí dụ này cho thấy tiềm năng quan trọng của Descriptor, cho phép điều khiển control flow của chương trình theo bất cứ cách nào ta muốn, và người dùng ở cấp độ client sẽ không hay biết về cơ chế đằng sau (cơ chế này thậm chí còn mạnh hơn decorator hay nested function)\n",
    "\n",
    "Trong thí dụ sau: Med_record là 1 DescriptorClass, method __ get __ bên trong nó được debug qua hàm print, và return 1 thông điệp : bạn có thể xuất ra bất cứ thứ gì bạn muốn. Sau đó 1 instance của Med_record sẽ được áp dụng để tạo ra attribute có tên là case trong Database"
   ]
  },
  {
   "cell_type": "code",
   "execution_count": 3,
   "id": "passive-caution",
   "metadata": {},
   "outputs": [],
   "source": [
    "class Med_record:\n",
    "    \n",
    "    def __get__(self, instance, owner):\n",
    "        \n",
    "        if instance is None:\n",
    "            return self\n",
    "        print(f\"Gọi method __get__ từ  Descriptor '{self.__class__.__name__}'\")\n",
    "        print(f\"instance = {instance}\")\n",
    "        print(f\"owner = {owner}\")\n",
    "        \n",
    "        return 'Bất cứ thứ gì ta muốn'\n",
    "    \n",
    "class Database:\n",
    "    case = Med_record()"
   ]
  },
  {
   "cell_type": "markdown",
   "id": "accessory-mystery",
   "metadata": {},
   "source": [
    "Khi tạo 1 instance pat_db của Database class, ta chú ý rằng attribute case chưa hề có trong dictionary của class này (vì nó kg được khởi tạo bằng method __ init __ ):"
   ]
  },
  {
   "cell_type": "code",
   "execution_count": 5,
   "id": "invisible-invention",
   "metadata": {},
   "outputs": [
    {
     "data": {
      "text/plain": [
       "{}"
      ]
     },
     "execution_count": 5,
     "metadata": {},
     "output_type": "execute_result"
    }
   ],
   "source": [
    "pat_db = Database()\n",
    "\n",
    "pat_db.__dict__"
   ]
  },
  {
   "cell_type": "markdown",
   "id": "general-prompt",
   "metadata": {},
   "source": [
    "Nhưng ta vẫn có thể truy nhập case, và nó xuất ra thông điệp từ descriptor..."
   ]
  },
  {
   "cell_type": "code",
   "execution_count": 6,
   "id": "operating-sponsorship",
   "metadata": {},
   "outputs": [
    {
     "name": "stdout",
     "output_type": "stream",
     "text": [
      "Gọi method __get__ từ  Descriptor 'Med_record'\n",
      "instance = <__main__.Database object at 0x0000020CAE787B80>\n",
      "owner = <class '__main__.Database'>\n"
     ]
    },
    {
     "data": {
      "text/plain": [
       "'Bất cứ thứ gì ta muốn'"
      ]
     },
     "execution_count": 6,
     "metadata": {},
     "output_type": "execute_result"
    }
   ],
   "source": [
    "pat_db.case"
   ]
  },
  {
   "cell_type": "markdown",
   "id": "european-minority",
   "metadata": {},
   "source": [
    "Bây giờ, ta bắt đầu tìm hiểu về cú pháp và công dụng của 4 descriptor methods nhé:\n",
    "\n",
    "# Những method của descriptor\n",
    "\n",
    "## __ get __\n",
    "\n",
    "Method __ get __ được vận dụng trong DescriptorClass với cú pháp như sau:"
   ]
  },
  {
   "cell_type": "code",
   "execution_count": null,
   "id": "hydraulic-italic",
   "metadata": {},
   "outputs": [],
   "source": [
    "__get__(self, instance, owner)"
   ]
  },
  {
   "cell_type": "markdown",
   "id": "wicked-region",
   "metadata": {},
   "source": [
    "Vì descriptor là instance của DescriptorClass, tất cả 4 methods đều bắt đầu bằng **self**, self đại diện cho descriptor object.\n",
    "\n",
    "**instance** là object của ClientClass mà descroptor được gọi (áp dụng), như trong thí dụ trên, instance là pat_db, một object của class Recording;\n",
    "\n",
    "**owner** chính là ClientClass, trong thí dụ trên, owner là class Recording\n",
    "\n",
    "bên trong ClientClass, ta áp dụng descriptor có method __ get __ như sau:"
   ]
  },
  {
   "cell_type": "code",
   "execution_count": null,
   "id": "comic-terrorist",
   "metadata": {},
   "outputs": [],
   "source": [
    "class Descriptor:\n",
    "    def __get__(self, instance, owner):\n",
    "        ...\n",
    "        return something\n",
    "    \n",
    "class ClientClass:\n",
    "    \n",
    "    attribute = Descriptor()\n",
    "    \n",
    "client = ClientClass()\n",
    "\n",
    "client.attriute # something"
   ]
  },
  {
   "cell_type": "markdown",
   "id": "honest-vegetation",
   "metadata": {},
   "source": [
    "Trong thí dụ sau, ta có 1 class Recording với 2 attributes là 2 đoạn tín hiệu xuất ra từ 1 cảm biến, raw chứa dữ liệu trên bệnh nhân, calib chứa dữ liệu cân chỉnh thiết bị. Ta lại có 1 descriptorClass là Calibration, bên trong có method __ get __ , sẽ xuất ra giá trị tín hiệu sau khi cân chỉnh theo công thức: (raw - mean(calib))"
   ]
  },
  {
   "cell_type": "code",
   "execution_count": 10,
   "id": "rubber-olive",
   "metadata": {},
   "outputs": [],
   "source": [
    "import numpy as np\n",
    "\n",
    "import matplotlib.pyplot as plt"
   ]
  },
  {
   "cell_type": "code",
   "execution_count": 7,
   "id": "headed-cameroon",
   "metadata": {},
   "outputs": [],
   "source": [
    "class Calibration:\n",
    "    \n",
    "    def __repr__(self):\n",
    "        return f\"descriptor object của DescriptorClass (Calibration)\"\n",
    "    \n",
    "    def __get__(self, instance, owner):\n",
    "        \n",
    "        if instance is None:\n",
    "            return self\n",
    "        print(f'''Gọi method __get__ từ  Descriptor '{self.__class__.__name__},\n",
    "              instance là {instance},\n",
    "              owner là {owner}''')\n",
    "        \n",
    "        calibrated = instance.raw - instance.calib.mean()\n",
    "        \n",
    "        print(f\"descriptor xuất kết quả calibrated = raw - mean(calib)\")\n",
    "        \n",
    "        return calibrated\n",
    "    \n",
    "class Recording:\n",
    "    \n",
    "    def __repr__(self):\n",
    "        return f'''instance của class {self.__class__.__name__}, \n",
    "                   với dữ liệu raw dài {self.raw.shape[0]} \n",
    "                   và calib có trung bình = {self.calib.mean():.3f}'''\n",
    "    \n",
    "    def __init__(self, \n",
    "                 raw: np.array, \n",
    "                 calib: np.array):\n",
    "        \n",
    "        self.raw = raw\n",
    "        self.calib = calib\n",
    "    \n",
    "    calibrated = Calibration()"
   ]
  },
  {
   "cell_type": "markdown",
   "id": "oriental-revolution",
   "metadata": {},
   "source": [
    "Khi truy xuất thuộc tính calibrated từ Recording (ClientClass) thay vì instance của nó, ta sẽ thấy nó gọi 1 descriptor object của DescriptorClass:"
   ]
  },
  {
   "cell_type": "code",
   "execution_count": 8,
   "id": "resident-dancing",
   "metadata": {},
   "outputs": [
    {
     "data": {
      "text/plain": [
       "descriptor object của DescriptorClass (Calibration)"
      ]
     },
     "execution_count": 8,
     "metadata": {},
     "output_type": "execute_result"
    }
   ],
   "source": [
    "Recording.calibrated"
   ]
  },
  {
   "cell_type": "markdown",
   "id": "dried-bidder",
   "metadata": {},
   "source": [
    "Khi mới khởi tạo, instance pat_db chỉ chứa 2 attribute là raw và calib, không có calibrated."
   ]
  },
  {
   "cell_type": "code",
   "execution_count": 14,
   "id": "coral-williams",
   "metadata": {},
   "outputs": [
    {
     "data": {
      "text/plain": [
       "{'raw': array([4.97743809, 4.10391807, 7.3859995 , 4.12615492, 7.15499242,\n",
       "        5.15917206, 5.80117787, 5.49869014, 5.12723543, 3.98888312,\n",
       "        4.78806452, 5.97808604, 5.63547677, 5.37902737, 6.79755773,\n",
       "        4.95073926, 4.48135239, 4.31893478, 3.76857595, 4.86693848,\n",
       "        4.57128517, 4.76688585, 6.42278784, 6.14796984, 5.20803749,\n",
       "        5.72520847, 5.63652165, 4.28248262, 4.2983135 , 5.87082892,\n",
       "        6.66590535, 4.93598307, 4.86281877, 5.13902701, 6.99744803,\n",
       "        7.1956045 , 6.05806519, 6.75768824, 6.60912273, 3.73126705,\n",
       "        3.33063177, 5.11454146, 5.41922244, 3.48259748, 5.20599598,\n",
       "        4.29460521, 5.18802819, 5.4384406 , 4.77281356, 5.44125908,\n",
       "        2.79153296, 2.45231884, 5.15436319, 3.63522302, 6.25456293,\n",
       "        7.11744982, 6.10754785, 2.63385269, 5.47275342, 4.7574672 ,\n",
       "        5.33044237, 3.72714479, 4.98738393, 5.20241757, 3.89284443,\n",
       "        4.83378042, 3.89075653, 5.35971865, 5.13563189, 5.65323377,\n",
       "        4.61527185, 4.45216943, 3.50724762, 4.45806072, 6.10343783,\n",
       "        3.68726241, 4.45478335, 4.51828129, 4.21088358, 4.3720933 ,\n",
       "        4.69070628, 5.23304572, 5.10454795, 5.52172338, 4.49817795,\n",
       "        5.0015905 , 5.59456153, 4.23016707, 5.71583553, 6.36069141,\n",
       "        3.81474159, 4.66662127, 5.66117258, 5.33211145, 4.79689018,\n",
       "        4.10612701, 6.00220077, 4.0172648 , 5.8891143 , 6.67459732]),\n",
       " 'calib': array([0.98665158, 2.61293698, 0.97017786, 1.27853593, 1.90035205,\n",
       "        3.77965456, 3.32812211, 3.45659722, 3.21787879, 1.2970156 ,\n",
       "        3.06659948, 0.80271886, 1.35934721, 2.23854021, 0.91547284,\n",
       "        1.22979309, 0.68608233, 0.79776712, 1.22348732, 2.52878174])}"
      ]
     },
     "execution_count": 14,
     "metadata": {},
     "output_type": "execute_result"
    }
   ],
   "source": [
    "pat_db = Recording(raw = np.random.normal(5,1,100),\n",
    "                   calib = np.random.normal(2,1,20))\n",
    "\n",
    "pat_db.__dict__"
   ]
  },
  {
   "cell_type": "markdown",
   "id": "capital-female",
   "metadata": {},
   "source": [
    "Khi truy xuất calibrated từ 1 instance của Recording class (ClientClass), method __ get __ được gọi và thi hành chức năng của nó và gán kết quả cho thuộc tính calibrated"
   ]
  },
  {
   "cell_type": "code",
   "execution_count": 15,
   "id": "requested-birthday",
   "metadata": {},
   "outputs": [
    {
     "name": "stdout",
     "output_type": "stream",
     "text": [
      "Gọi method __get__ từ  Descriptor 'Calibration,\n",
      "              instance là instance của class Recording, \n",
      "                   với dữ liệu raw dài 100 \n",
      "                   và calib có trung bình = 1.884,\n",
      "              owner là <class '__main__.Recording'>\n",
      "descriptor xuất kết quả calibrated = raw - mean(calib)\n"
     ]
    },
    {
     "data": {
      "text/plain": [
       "array([3.09361245, 2.22009243, 5.50217386, 2.24232928, 5.27116678,\n",
       "       3.27534642, 3.91735223, 3.6148645 , 3.24340979, 2.10505748,\n",
       "       2.90423887, 4.0942604 , 3.75165113, 3.49520172, 4.91373209,\n",
       "       3.06691362, 2.59752675, 2.43510914, 1.88475031, 2.98311284,\n",
       "       2.68745953, 2.88306021, 4.5389622 , 4.2641442 , 3.32421185,\n",
       "       3.84138283, 3.75269601, 2.39865698, 2.41448786, 3.98700328,\n",
       "       4.78207971, 3.05215743, 2.97899312, 3.25520136, 5.11362239,\n",
       "       5.31177885, 4.17423954, 4.8738626 , 4.72529708, 1.84744141,\n",
       "       1.44680613, 3.23071582, 3.5353968 , 1.59877183, 3.32217034,\n",
       "       2.41077956, 3.30420255, 3.55461496, 2.88898791, 3.55743344,\n",
       "       0.90770732, 0.5684932 , 3.27053755, 1.75139737, 4.37073729,\n",
       "       5.23362417, 4.22372221, 0.75002705, 3.58892778, 2.87364155,\n",
       "       3.44661672, 1.84331915, 3.10355829, 3.31859193, 2.00901878,\n",
       "       2.94995477, 2.00693088, 3.475893  , 3.25180625, 3.76940812,\n",
       "       2.7314462 , 2.56834379, 1.62342197, 2.57423508, 4.21961219,\n",
       "       1.80343677, 2.5709577 , 2.63445564, 2.32705793, 2.48826766,\n",
       "       2.80688063, 3.34922008, 3.22072231, 3.63789774, 2.61435231,\n",
       "       3.11776486, 3.71073589, 2.34634143, 3.83200988, 4.47686577,\n",
       "       1.93091595, 2.78279563, 3.77734694, 3.44828581, 2.91306454,\n",
       "       2.22230137, 4.11837512, 2.13343916, 4.00528866, 4.79077167])"
      ]
     },
     "execution_count": 15,
     "metadata": {},
     "output_type": "execute_result"
    }
   ],
   "source": [
    "pat_db.calibrated"
   ]
  },
  {
   "cell_type": "markdown",
   "id": "handy-intervention",
   "metadata": {},
   "source": [
    "Nhưng calibrated không hề có trong dictionary, nó chỉ được tạo ra khi cần..."
   ]
  },
  {
   "cell_type": "code",
   "execution_count": 17,
   "id": "attached-firmware",
   "metadata": {},
   "outputs": [
    {
     "data": {
      "text/plain": [
       "{'raw': array([4.97743809, 4.10391807, 7.3859995 , 4.12615492, 7.15499242,\n",
       "        5.15917206, 5.80117787, 5.49869014, 5.12723543, 3.98888312,\n",
       "        4.78806452, 5.97808604, 5.63547677, 5.37902737, 6.79755773,\n",
       "        4.95073926, 4.48135239, 4.31893478, 3.76857595, 4.86693848,\n",
       "        4.57128517, 4.76688585, 6.42278784, 6.14796984, 5.20803749,\n",
       "        5.72520847, 5.63652165, 4.28248262, 4.2983135 , 5.87082892,\n",
       "        6.66590535, 4.93598307, 4.86281877, 5.13902701, 6.99744803,\n",
       "        7.1956045 , 6.05806519, 6.75768824, 6.60912273, 3.73126705,\n",
       "        3.33063177, 5.11454146, 5.41922244, 3.48259748, 5.20599598,\n",
       "        4.29460521, 5.18802819, 5.4384406 , 4.77281356, 5.44125908,\n",
       "        2.79153296, 2.45231884, 5.15436319, 3.63522302, 6.25456293,\n",
       "        7.11744982, 6.10754785, 2.63385269, 5.47275342, 4.7574672 ,\n",
       "        5.33044237, 3.72714479, 4.98738393, 5.20241757, 3.89284443,\n",
       "        4.83378042, 3.89075653, 5.35971865, 5.13563189, 5.65323377,\n",
       "        4.61527185, 4.45216943, 3.50724762, 4.45806072, 6.10343783,\n",
       "        3.68726241, 4.45478335, 4.51828129, 4.21088358, 4.3720933 ,\n",
       "        4.69070628, 5.23304572, 5.10454795, 5.52172338, 4.49817795,\n",
       "        5.0015905 , 5.59456153, 4.23016707, 5.71583553, 6.36069141,\n",
       "        3.81474159, 4.66662127, 5.66117258, 5.33211145, 4.79689018,\n",
       "        4.10612701, 6.00220077, 4.0172648 , 5.8891143 , 6.67459732]),\n",
       " 'calib': array([0.98665158, 2.61293698, 0.97017786, 1.27853593, 1.90035205,\n",
       "        3.77965456, 3.32812211, 3.45659722, 3.21787879, 1.2970156 ,\n",
       "        3.06659948, 0.80271886, 1.35934721, 2.23854021, 0.91547284,\n",
       "        1.22979309, 0.68608233, 0.79776712, 1.22348732, 2.52878174])}"
      ]
     },
     "execution_count": 17,
     "metadata": {},
     "output_type": "execute_result"
    }
   ],
   "source": [
    "pat_db.__dict__"
   ]
  },
  {
   "cell_type": "code",
   "execution_count": 11,
   "id": "pharmaceutical-december",
   "metadata": {},
   "outputs": [
    {
     "name": "stdout",
     "output_type": "stream",
     "text": [
      "Gọi method __get__ từ  Descriptor 'Calibration,\n",
      "              instance là instance của class Recording, \n",
      "                   với dữ liệu raw dài 100 \n",
      "                   và calib có trung bình = 1.372,\n",
      "              owner là <class '__main__.Recording'>\n",
      "descriptor xuất kết quả calibrated = raw - mean(calib)\n"
     ]
    },
    {
     "data": {
      "image/png": "[encoded data removed]",
      "text/plain": [
       "<Figure size 432x288 with 1 Axes>"
      ]
     },
     "metadata": {
      "needs_background": "light"
     },
     "output_type": "display_data"
    }
   ],
   "source": [
    "plt.plot(pat_db.calibrated, label = 'Raw')\n",
    "plt.plot(pat_db.raw, label = 'Calibrated')\n",
    "plt.legend()\n",
    "plt.show()"
   ]
  },
  {
   "cell_type": "markdown",
   "id": "lovely-scout",
   "metadata": {},
   "source": [
    "Cẩn thận: Nếu ta gán 1 attribute trùng tên với descriptor, là calibrated, nó sẽ được ghi vào dictionary:"
   ]
  },
  {
   "cell_type": "code",
   "execution_count": 20,
   "id": "freelance-franchise",
   "metadata": {},
   "outputs": [
    {
     "data": {
      "text/plain": [
       "{'raw': array([4.97743809, 4.10391807, 7.3859995 , 4.12615492, 7.15499242,\n",
       "        5.15917206, 5.80117787, 5.49869014, 5.12723543, 3.98888312,\n",
       "        4.78806452, 5.97808604, 5.63547677, 5.37902737, 6.79755773,\n",
       "        4.95073926, 4.48135239, 4.31893478, 3.76857595, 4.86693848,\n",
       "        4.57128517, 4.76688585, 6.42278784, 6.14796984, 5.20803749,\n",
       "        5.72520847, 5.63652165, 4.28248262, 4.2983135 , 5.87082892,\n",
       "        6.66590535, 4.93598307, 4.86281877, 5.13902701, 6.99744803,\n",
       "        7.1956045 , 6.05806519, 6.75768824, 6.60912273, 3.73126705,\n",
       "        3.33063177, 5.11454146, 5.41922244, 3.48259748, 5.20599598,\n",
       "        4.29460521, 5.18802819, 5.4384406 , 4.77281356, 5.44125908,\n",
       "        2.79153296, 2.45231884, 5.15436319, 3.63522302, 6.25456293,\n",
       "        7.11744982, 6.10754785, 2.63385269, 5.47275342, 4.7574672 ,\n",
       "        5.33044237, 3.72714479, 4.98738393, 5.20241757, 3.89284443,\n",
       "        4.83378042, 3.89075653, 5.35971865, 5.13563189, 5.65323377,\n",
       "        4.61527185, 4.45216943, 3.50724762, 4.45806072, 6.10343783,\n",
       "        3.68726241, 4.45478335, 4.51828129, 4.21088358, 4.3720933 ,\n",
       "        4.69070628, 5.23304572, 5.10454795, 5.52172338, 4.49817795,\n",
       "        5.0015905 , 5.59456153, 4.23016707, 5.71583553, 6.36069141,\n",
       "        3.81474159, 4.66662127, 5.66117258, 5.33211145, 4.79689018,\n",
       "        4.10612701, 6.00220077, 4.0172648 , 5.8891143 , 6.67459732]),\n",
       " 'calib': array([0.98665158, 2.61293698, 0.97017786, 1.27853593, 1.90035205,\n",
       "        3.77965456, 3.32812211, 3.45659722, 3.21787879, 1.2970156 ,\n",
       "        3.06659948, 0.80271886, 1.35934721, 2.23854021, 0.91547284,\n",
       "        1.22979309, 0.68608233, 0.79776712, 1.22348732, 2.52878174]),\n",
       " 'calibrated': [1, 2, 3, 4, 5]}"
      ]
     },
     "execution_count": 20,
     "metadata": {},
     "output_type": "execute_result"
    }
   ],
   "source": [
    "pat_db.calibrated = [1,2,3,4,5]\n",
    "\n",
    "pat_db.__dict__"
   ]
  },
  {
   "cell_type": "markdown",
   "id": "spiritual-woman",
   "metadata": {},
   "source": [
    "Lúc này ta đã xóa descriptor, vì giá trị [1,2,2,4,5] đã ghi chèn lên attribute calibrated."
   ]
  },
  {
   "cell_type": "code",
   "execution_count": 21,
   "id": "matched-cover",
   "metadata": {},
   "outputs": [
    {
     "data": {
      "text/plain": [
       "[1, 2, 3, 4, 5]"
      ]
     },
     "execution_count": 21,
     "metadata": {},
     "output_type": "execute_result"
    }
   ],
   "source": [
    "pat_db.calibrated"
   ]
  },
  {
   "cell_type": "markdown",
   "id": "unlike-exemption",
   "metadata": {},
   "source": [
    "##  __ set __\n",
    "\n",
    "__ set __ là method thứ 2, nó cho phép gán một nội dung mới, thay đổi nội dung hiện hành của attribute, thông qua descriptor. \n",
    "\n",
    "Cú pháp của method __ set __ trong DescriptorClass như sau:"
   ]
  },
  {
   "cell_type": "code",
   "execution_count": null,
   "id": "caroline-cartoon",
   "metadata": {},
   "outputs": [],
   "source": [
    "__set__(self, instance, value)"
   ]
  },
  {
   "cell_type": "markdown",
   "id": "applicable-julian",
   "metadata": {},
   "source": [
    "Ý nghĩa của **self** vẫn như trên, chính là object của DescriptorClass, \n",
    "\n",
    "**instance** ở đây là một client object của ClientClass,\n",
    "\n",
    "**value** là giá trị/nội dung mới mà ta gán / thay thế cho nội dung cũ của atribute đích trong instance.\n",
    "\n",
    "trên một client object, method __ set __ cho phép ta gán 1 value bất kì vào attribute đích bằng cú pháp:"
   ]
  },
  {
   "cell_type": "code",
   "execution_count": null,
   "id": "liquid-banana",
   "metadata": {},
   "outputs": [],
   "source": [
    "client.attribute = value"
   ]
  },
  {
   "cell_type": "markdown",
   "id": "chubby-triumph",
   "metadata": {},
   "source": [
    "Trong thí dụ sau, Nhi muốn method __ set __ trong descriptor MinMaxScaler gán bất cứ giá trị mới value nào vào vị trí 'scaled' trong dictionary của pat_db là instance của class Recording:"
   ]
  },
  {
   "cell_type": "code",
   "execution_count": 23,
   "id": "israeli-swift",
   "metadata": {},
   "outputs": [],
   "source": [
    "class MinMaxScaler:\n",
    "    \n",
    "    def __get__(self, instance, owner):\n",
    "        \n",
    "        print(f'''Gọi method __get__ từ  Descriptor '{self.__class__.__name__},\n",
    "              instance là {instance},\n",
    "              owner là {owner}''')\n",
    "        \n",
    "        if instance is None:\n",
    "            return self\n",
    "        \n",
    "        X = instance.__dict__['raw']\n",
    "        \n",
    "        X_std = (X - X.min()) / (X.max() - X.min())\n",
    "        X_scaled = X_std * (1 - 0)\n",
    "        \n",
    "        return X_scaled\n",
    "    \n",
    "    def __set__(self, instance, value):\n",
    "        \n",
    "        print(f'''Gọi method __set__ từ  Descriptor '{self.__class__.__name__},\n",
    "              instance là {instance},\n",
    "              value là {value}''')\n",
    "        \n",
    "        instance.__dict__['scaled'] = value            \n",
    "    \n",
    "class Recording:\n",
    "        \n",
    "    def __init__(self,\n",
    "                 raw: np.array,):\n",
    "        self.raw = raw\n",
    "\n",
    "    scaled = MinMaxScaler()"
   ]
  },
  {
   "cell_type": "markdown",
   "id": "induced-moore",
   "metadata": {},
   "source": [
    "Khi mới khởi tạo, object pat_db không có attribute scaled mà chỉ có chuỗi giá trị raw"
   ]
  },
  {
   "cell_type": "code",
   "execution_count": 24,
   "id": "cardiovascular-rough",
   "metadata": {},
   "outputs": [
    {
     "data": {
      "text/plain": [
       "{'raw': array([3.09299174, 6.3472796 , 4.82339571, 6.09929773, 4.66696783,\n",
       "        5.21625232, 3.07301279, 3.46794908, 5.17653391, 5.37773044])}"
      ]
     },
     "execution_count": 24,
     "metadata": {},
     "output_type": "execute_result"
    }
   ],
   "source": [
    "pat_db = Recording(raw = np.random.normal(5,1,10))\n",
    "\n",
    "pat_db.__dict__"
   ]
  },
  {
   "cell_type": "markdown",
   "id": "verified-couple",
   "metadata": {},
   "source": [
    "Khi gọi attribute scale, method __ get __ được gọi và xuất ra giá trị scaled"
   ]
  },
  {
   "cell_type": "code",
   "execution_count": 25,
   "id": "extra-aspect",
   "metadata": {},
   "outputs": [
    {
     "name": "stdout",
     "output_type": "stream",
     "text": [
      "Gọi method __get__ từ  Descriptor 'MinMaxScaler,\n",
      "              instance là <__main__.Recording object at 0x0000020CD1B99670>,\n",
      "              owner là <class '__main__.Recording'>\n"
     ]
    },
    {
     "data": {
      "text/plain": [
       "array([0.00610181, 1.        , 0.53458775, 0.92426339, 0.48681281,\n",
       "       0.65457083, 0.        , 0.12061823, 0.64244035, 0.70388816])"
      ]
     },
     "execution_count": 25,
     "metadata": {},
     "output_type": "execute_result"
    }
   ],
   "source": [
    "pat_db.scaled"
   ]
  },
  {
   "cell_type": "markdown",
   "id": "completed-sender",
   "metadata": {},
   "source": [
    "scaled vẫn không có trong dictionary"
   ]
  },
  {
   "cell_type": "code",
   "execution_count": 26,
   "id": "revised-favorite",
   "metadata": {},
   "outputs": [
    {
     "data": {
      "text/plain": [
       "{'raw': array([3.09299174, 6.3472796 , 4.82339571, 6.09929773, 4.66696783,\n",
       "        5.21625232, 3.07301279, 3.46794908, 5.17653391, 5.37773044])}"
      ]
     },
     "execution_count": 26,
     "metadata": {},
     "output_type": "execute_result"
    }
   ],
   "source": [
    "pat_db.__dict__"
   ]
  },
  {
   "cell_type": "markdown",
   "id": "stainless-exposure",
   "metadata": {},
   "source": [
    "Bây giờ ta gán 1 giá trị bất kì, thí dụ 'ABC' cho attribute scaled, lúc này method __ set __ được gọi và scaled được lưu vào dictionary:"
   ]
  },
  {
   "cell_type": "code",
   "execution_count": 27,
   "id": "thorough-franklin",
   "metadata": {},
   "outputs": [
    {
     "name": "stdout",
     "output_type": "stream",
     "text": [
      "Gọi method __set__ từ  Descriptor 'MinMaxScaler,\n",
      "              instance là <__main__.Recording object at 0x0000020CD1B99670>,\n",
      "              value là ABC\n"
     ]
    },
    {
     "data": {
      "text/plain": [
       "{'raw': array([3.09299174, 6.3472796 , 4.82339571, 6.09929773, 4.66696783,\n",
       "        5.21625232, 3.07301279, 3.46794908, 5.17653391, 5.37773044]),\n",
       " 'scaled': 'ABC'}"
      ]
     },
     "execution_count": 27,
     "metadata": {},
     "output_type": "execute_result"
    }
   ],
   "source": [
    "pat_db.scaled = 'ABC'\n",
    "\n",
    "pat_db.__dict__"
   ]
  },
  {
   "cell_type": "markdown",
   "id": "distributed-multimedia",
   "metadata": {},
   "source": [
    "Tuy nhiên, khi ta truy nhập scale lần nữa, method __ get __ được gọi và vẫn xuất ra một chuỗi số là kết quả của min-max scaler, nhưng attribute scaled trong dict thì vẫn là 'ABC'; hành vi kì lạ này chính là thứ phân biệt giữa 2 loại descriptor: data và non-data mà ta sẽ tìm hiểu trong bài tiếp theo. Data descriptor vận dụng method __ set __ và lưu vĩnh viễn giá trị vào dictionary, lúc này nó trở thành dữ liệu."
   ]
  },
  {
   "cell_type": "code",
   "execution_count": 29,
   "id": "reported-jefferson",
   "metadata": {},
   "outputs": [
    {
     "name": "stdout",
     "output_type": "stream",
     "text": [
      "Gọi method __get__ từ  Descriptor 'MinMaxScaler,\n",
      "              instance là <__main__.Recording object at 0x0000020CD1B99670>,\n",
      "              owner là <class '__main__.Recording'>\n"
     ]
    },
    {
     "data": {
      "text/plain": [
       "{'raw': array([3.09299174, 6.3472796 , 4.82339571, 6.09929773, 4.66696783,\n",
       "        5.21625232, 3.07301279, 3.46794908, 5.17653391, 5.37773044]),\n",
       " 'scaled': 'ABC'}"
      ]
     },
     "execution_count": 29,
     "metadata": {},
     "output_type": "execute_result"
    }
   ],
   "source": [
    "pat_db.scaled\n",
    "\n",
    "pat_db.__dict__"
   ]
  },
  {
   "cell_type": "markdown",
   "id": "covered-johns",
   "metadata": {},
   "source": [
    "Lưu ý: Như đã thấy ở phần method __ get __ , nếu Descriptor không chứa method __ set __ , khi ta gán 1 value mới vào attribute của client object, value này sẽ vô hiệu hóa descriptor object, do đó ta luôn phải thiết kế Descriptor có method __ set __ , ngay cả khi không cho phép người dùng thay đổi nội dung của attribute mục tiêu:\n",
    "\n",
    "Thí dụ sau không có có method __ set __ , do đó khi gán giá trị mới vào att, descriptor bị xóa sạch:"
   ]
  },
  {
   "cell_type": "code",
   "execution_count": 30,
   "id": "operational-provision",
   "metadata": {},
   "outputs": [
    {
     "data": {
      "text/plain": [
       "'Giá trị mặc định'"
      ]
     },
     "execution_count": 30,
     "metadata": {},
     "output_type": "execute_result"
    }
   ],
   "source": [
    "class Descriptor:\n",
    "    \n",
    "    def __get__(self, instance, owner):\n",
    "        return 'Giá trị mặc định'\n",
    "    \n",
    "class ClientClass:\n",
    "    \n",
    "    att = Descriptor()\n",
    "    \n",
    "client = ClientClass()\n",
    "\n",
    "client.att "
   ]
  },
  {
   "cell_type": "code",
   "execution_count": 31,
   "id": "coordinated-halifax",
   "metadata": {},
   "outputs": [
    {
     "data": {
      "text/plain": [
       "{'att': 'Giá trị mới'}"
      ]
     },
     "execution_count": 31,
     "metadata": {},
     "output_type": "execute_result"
    }
   ],
   "source": [
    "client.att = 'Giá trị mới'\n",
    "\n",
    "client.__dict__"
   ]
  },
  {
   "cell_type": "code",
   "execution_count": 32,
   "id": "hairy-tiger",
   "metadata": {},
   "outputs": [
    {
     "data": {
      "text/plain": [
       "'Giá trị mới'"
      ]
     },
     "execution_count": 32,
     "metadata": {},
     "output_type": "execute_result"
    }
   ],
   "source": [
    "client.att"
   ]
  },
  {
   "cell_type": "markdown",
   "id": "italic-court",
   "metadata": {},
   "source": [
    "Trái lại trong thí dụ sau, Descriptor có method __ set __ nhưng nó bị khóa, nên ta không thể gán bất cứ giá trị nào thay thế cho descriptor attribute att"
   ]
  },
  {
   "cell_type": "code",
   "execution_count": 33,
   "id": "amber-consideration",
   "metadata": {},
   "outputs": [
    {
     "data": {
      "text/plain": [
       "'Giá trị mặc định'"
      ]
     },
     "execution_count": 33,
     "metadata": {},
     "output_type": "execute_result"
    }
   ],
   "source": [
    "class Descriptor:\n",
    "    \n",
    "    def __get__(self, instance, owner):\n",
    "        return 'Giá trị mặc định'\n",
    "    \n",
    "    def __set__(self, instance, value):\n",
    "        print(f\"Không cho phép thay đổi giá trị mặc định\")\n",
    "    \n",
    "class ClientClass:\n",
    "    \n",
    "    att = Descriptor()\n",
    "    \n",
    "client = ClientClass()\n",
    "\n",
    "client.att "
   ]
  },
  {
   "cell_type": "code",
   "execution_count": 34,
   "id": "structured-crystal",
   "metadata": {},
   "outputs": [
    {
     "name": "stdout",
     "output_type": "stream",
     "text": [
      "Không cho phép thay đổi giá trị mặc định\n"
     ]
    },
    {
     "data": {
      "text/plain": [
       "'Giá trị mặc định'"
      ]
     },
     "execution_count": 34,
     "metadata": {},
     "output_type": "execute_result"
    }
   ],
   "source": [
    "client.att = 'Giá trị mới'\n",
    "\n",
    "client.att"
   ]
  },
  {
   "cell_type": "markdown",
   "id": "cheap-elephant",
   "metadata": {},
   "source": [
    "## __ delete __ \n",
    "\n",
    "Đây là method dễ hiểu và đơn giản, nó cho phép người dùng xóa 1 attribute; cú pháp của method __ delete __ như sau:"
   ]
  },
  {
   "cell_type": "code",
   "execution_count": null,
   "id": "senior-beatles",
   "metadata": {},
   "outputs": [],
   "source": [
    "__delete__(self, instance)"
   ]
  },
  {
   "cell_type": "markdown",
   "id": "western-berry",
   "metadata": {},
   "source": [
    "Trong đó, self chính là descriptor object của DescriptorClass, còn instance là object của ClientClass.\n",
    "\n",
    "Cú pháp xóa attribute như sau:"
   ]
  },
  {
   "cell_type": "code",
   "execution_count": null,
   "id": "neither-parish",
   "metadata": {},
   "outputs": [],
   "source": [
    "del client.att"
   ]
  },
  {
   "cell_type": "markdown",
   "id": "military-maine",
   "metadata": {},
   "source": [
    "Hành vi của method __ delete __ cũng tương tự như __ set __ , tức là nó sẽ làm thay đổi nội dung attribute bên trong dictionary của object, nhưng method __ get __ vẫn hoạt động độc lập"
   ]
  },
  {
   "cell_type": "code",
   "execution_count": 42,
   "id": "failing-dynamics",
   "metadata": {},
   "outputs": [],
   "source": [
    "class MinMaxScaler:\n",
    "    \n",
    "    def __get__(self, instance, owner):\n",
    "        if instance is None:\n",
    "            return self\n",
    "        \n",
    "        X = instance.__dict__['raw']\n",
    "        \n",
    "        X_std = (X - X.min()) / (X.max() - X.min())\n",
    "        X_scaled = X_std * (1 - 0)\n",
    "                \n",
    "        return X_scaled\n",
    "    \n",
    "    def __set__(self, instance, value):\n",
    "        print('Không cho phép ghi chèn dữ liệu')\n",
    "        \n",
    "    def __delete__(self, instance):\n",
    "        print(f\"Xóa dữ liệu scaled\")\n",
    "        instance.__dict__['scaled'] = None\n",
    "\n",
    "class Recording:\n",
    "        \n",
    "    def __init__(self,\n",
    "                 raw: np.array,\n",
    "                 calib: np.array):\n",
    "        self.raw = raw\n",
    "        self.calib = calib\n",
    "\n",
    "    scaled = MinMaxScaler()\n",
    "    calibrated = Calibration()"
   ]
  },
  {
   "cell_type": "code",
   "execution_count": 36,
   "id": "absolute-catholic",
   "metadata": {},
   "outputs": [
    {
     "data": {
      "text/plain": [
       "{'raw': array([3.9375719 , 5.56802556, 3.6744827 , 5.63525472, 5.96129558,\n",
       "        6.12168467, 5.60918319, 5.73084226, 5.34231263, 5.34993042]),\n",
       " 'calib': array([ 0.84248585,  1.23345815,  1.44826357,  2.18860041,  6.55191981,\n",
       "        -0.72197297,  0.90676786, -2.15422452,  1.65935262, -0.51715315])}"
      ]
     },
     "execution_count": 36,
     "metadata": {},
     "output_type": "execute_result"
    }
   ],
   "source": [
    "pat_db = Recording(np.random.normal(5,1,10), \n",
    "                   np.random.normal(1,2,10))\n",
    "\n",
    "pat_db.__dict__"
   ]
  },
  {
   "cell_type": "code",
   "execution_count": 37,
   "id": "metallic-venice",
   "metadata": {},
   "outputs": [
    {
     "data": {
      "text/plain": [
       "array([0.10750613, 0.77375831, 0.        , 0.80123016, 0.93446021,\n",
       "       1.        , 0.79057655, 0.84029009, 0.68152525, 0.6846381 ])"
      ]
     },
     "execution_count": 37,
     "metadata": {},
     "output_type": "execute_result"
    }
   ],
   "source": [
    "pat_db.scaled"
   ]
  },
  {
   "cell_type": "code",
   "execution_count": 38,
   "id": "remarkable-corrections",
   "metadata": {},
   "outputs": [
    {
     "data": {
      "text/plain": [
       "{'raw': array([3.9375719 , 5.56802556, 3.6744827 , 5.63525472, 5.96129558,\n",
       "        6.12168467, 5.60918319, 5.73084226, 5.34231263, 5.34993042]),\n",
       " 'calib': array([ 0.84248585,  1.23345815,  1.44826357,  2.18860041,  6.55191981,\n",
       "        -0.72197297,  0.90676786, -2.15422452,  1.65935262, -0.51715315])}"
      ]
     },
     "execution_count": 38,
     "metadata": {},
     "output_type": "execute_result"
    }
   ],
   "source": [
    "pat_db.__dict__"
   ]
  },
  {
   "cell_type": "code",
   "execution_count": 39,
   "id": "vietnamese-acquisition",
   "metadata": {},
   "outputs": [
    {
     "name": "stdout",
     "output_type": "stream",
     "text": [
      "Xóa dữ liệu scaled\n"
     ]
    }
   ],
   "source": [
    "del pat_db.scaled"
   ]
  },
  {
   "cell_type": "code",
   "execution_count": 40,
   "id": "integrated-medline",
   "metadata": {},
   "outputs": [
    {
     "data": {
      "text/plain": [
       "{'raw': array([3.9375719 , 5.56802556, 3.6744827 , 5.63525472, 5.96129558,\n",
       "        6.12168467, 5.60918319, 5.73084226, 5.34231263, 5.34993042]),\n",
       " 'calib': array([ 0.84248585,  1.23345815,  1.44826357,  2.18860041,  6.55191981,\n",
       "        -0.72197297,  0.90676786, -2.15422452,  1.65935262, -0.51715315]),\n",
       " 'scaled': None}"
      ]
     },
     "execution_count": 40,
     "metadata": {},
     "output_type": "execute_result"
    }
   ],
   "source": [
    "pat_db.__dict__"
   ]
  },
  {
   "cell_type": "code",
   "execution_count": 41,
   "id": "prospective-priest",
   "metadata": {},
   "outputs": [
    {
     "data": {
      "text/plain": [
       "array([0.10750613, 0.77375831, 0.        , 0.80123016, 0.93446021,\n",
       "       1.        , 0.79057655, 0.84029009, 0.68152525, 0.6846381 ])"
      ]
     },
     "execution_count": 41,
     "metadata": {},
     "output_type": "execute_result"
    }
   ],
   "source": [
    "pat_db.scaled"
   ]
  },
  {
   "cell_type": "markdown",
   "id": "following-baghdad",
   "metadata": {},
   "source": [
    "## __ set_name __\n",
    "\n",
    "Đây là method sau cùng và tương đối mới (từ Python 3.6), với cú pháp:"
   ]
  },
  {
   "cell_type": "code",
   "execution_count": null,
   "id": "earned-kuwait",
   "metadata": {},
   "outputs": [],
   "source": [
    "__set_name__(self, owner, name)"
   ]
  },
  {
   "cell_type": "markdown",
   "id": "pending-carnival",
   "metadata": {},
   "source": [
    "self là descriptor object, owner là ClientClass, \n",
    "\n",
    "name là tên của attribute mà ta cần ghi vào client object như 1 key của client.__ dict __ ; đồng thời sử dụng trong các method __ get __ và __ set __. \n",
    "\n",
    "Ở những phiên bản trước 3.6, descriptor không có khả năng tiếp nhận tự động một tên attribute bất kì, thuộc tính descriptor.name phải được khai báo thông qua method __ init __ . \n",
    "\n",
    "Từ khi có method __ set_name __ , đã tăng tính linh hoạt cho descriptor.\n",
    "\n",
    "Trong thí dụ sau, nhờ có method __ set_name __ , ta có thể áp dụng cùng Descriptor class Standardisation để hoán chuyển cho lần lượt 2 attribute khác nhau là x1 và x2 trong class Recording:"
   ]
  },
  {
   "cell_type": "code",
   "execution_count": 45,
   "id": "freelance-cradle",
   "metadata": {},
   "outputs": [],
   "source": [
    "class Standardization:\n",
    "    \n",
    "    def __init__(self, name: str):\n",
    "        self.name = name\n",
    "        \n",
    "    def __set_name__(self, owner, name):\n",
    "        self.name = name\n",
    "        \n",
    "    def __get__(self, instance, owner):\n",
    "        if instance is None:\n",
    "            return self\n",
    "        \n",
    "        x = instance.__dict__[self.name.split('_')[1]]\n",
    "        z = (x - x.mean())/x.std()\n",
    "        \n",
    "        instance.__dict__[self.name] = z\n",
    "        \n",
    "        return z\n",
    "    \n",
    "    def __set__(self, instance, value):\n",
    "        instance.__dict__[self.name] = value\n",
    "        \n",
    "class Recording:\n",
    "        \n",
    "    def __init__(self,\n",
    "                 x1: np.array,\n",
    "                 x2: np.array):\n",
    "        \n",
    "        self.x1, self.x2 = x1, x2\n",
    "\n",
    "    std_x1 = Standardization('x1')\n",
    "    std_x2 = Standardization('x2')"
   ]
  },
  {
   "cell_type": "code",
   "execution_count": 46,
   "id": "lightweight-breed",
   "metadata": {},
   "outputs": [
    {
     "data": {
      "text/plain": [
       "{'x1': array([5.47354059, 2.09641744, 4.64445358, 4.98131638, 5.91798775,\n",
       "        4.0786058 , 4.37859828, 4.87039082, 5.05737418, 3.89128276,\n",
       "        6.17196401, 5.22163973, 3.30112695, 5.57456072, 5.26994654,\n",
       "        5.46541731, 5.31943393, 4.19086568, 3.71169672, 5.73449963]),\n",
       " 'x2': array([  5.63539936,  -0.06079018,   7.96379551,  15.78551342,\n",
       "         -0.59369662,   0.37103695,   3.76147336, -11.92124543,\n",
       "         -3.37750475,  -5.94271067,  -4.21497896,   4.9942185 ,\n",
       "         -7.19990878,   9.0098196 ,   3.89687313])}"
      ]
     },
     "execution_count": 46,
     "metadata": {},
     "output_type": "execute_result"
    }
   ],
   "source": [
    "pat_db = Recording(np.random.normal(5,1,20),\n",
    "                  np.random.normal(3,6,15),\n",
    "                  )\n",
    "\n",
    "pat_db.__dict__"
   ]
  },
  {
   "cell_type": "code",
   "execution_count": 47,
   "id": "incredible-congress",
   "metadata": {},
   "outputs": [
    {
     "data": {
      "text/plain": [
       "array([ 0.72599491, -2.74684862, -0.12659155,  0.21981922,  1.18303938,\n",
       "       -0.70847758, -0.39998218,  0.1057496 ,  0.29803278, -0.90111006,\n",
       "        1.44421428,  0.46695423, -1.5079931 ,  0.82987834,  0.51663025,\n",
       "        0.71764139,  0.56752029, -0.59303584, -1.08578624,  0.99435051])"
      ]
     },
     "execution_count": 47,
     "metadata": {},
     "output_type": "execute_result"
    }
   ],
   "source": [
    "pat_db.std_x1"
   ]
  },
  {
   "cell_type": "code",
   "execution_count": 48,
   "id": "growing-shame",
   "metadata": {},
   "outputs": [
    {
     "data": {
      "text/plain": [
       "array([ 0.64054484, -0.18340769,  0.97734682,  2.10875655, -0.26049249,\n",
       "       -0.12094399,  0.36948187, -1.89901986, -0.6631697 , -1.03422616,\n",
       "       -0.78431016,  0.54779818, -1.21607958,  1.12865397,  0.38906741])"
      ]
     },
     "execution_count": 48,
     "metadata": {},
     "output_type": "execute_result"
    }
   ],
   "source": [
    "pat_db.std_x2"
   ]
  },
  {
   "cell_type": "markdown",
   "id": "israeli-spotlight",
   "metadata": {},
   "source": [
    "Trong thí dụ trên, Nhi đã thêm tính năng lưu dữ liệu vào dictionary cho method __ get __ , do đó nó chỉ cần thi hành 1 lần, giá trị std_x1 và std_x2 được lưu ngay vào trong dictionary:"
   ]
  },
  {
   "cell_type": "code",
   "execution_count": 49,
   "id": "hispanic-dating",
   "metadata": {},
   "outputs": [
    {
     "data": {
      "text/plain": [
       "{'x1': array([5.47354059, 2.09641744, 4.64445358, 4.98131638, 5.91798775,\n",
       "        4.0786058 , 4.37859828, 4.87039082, 5.05737418, 3.89128276,\n",
       "        6.17196401, 5.22163973, 3.30112695, 5.57456072, 5.26994654,\n",
       "        5.46541731, 5.31943393, 4.19086568, 3.71169672, 5.73449963]),\n",
       " 'x2': array([  5.63539936,  -0.06079018,   7.96379551,  15.78551342,\n",
       "         -0.59369662,   0.37103695,   3.76147336, -11.92124543,\n",
       "         -3.37750475,  -5.94271067,  -4.21497896,   4.9942185 ,\n",
       "         -7.19990878,   9.0098196 ,   3.89687313]),\n",
       " 'std_x1': array([ 0.72599491, -2.74684862, -0.12659155,  0.21981922,  1.18303938,\n",
       "        -0.70847758, -0.39998218,  0.1057496 ,  0.29803278, -0.90111006,\n",
       "         1.44421428,  0.46695423, -1.5079931 ,  0.82987834,  0.51663025,\n",
       "         0.71764139,  0.56752029, -0.59303584, -1.08578624,  0.99435051]),\n",
       " 'std_x2': array([ 0.64054484, -0.18340769,  0.97734682,  2.10875655, -0.26049249,\n",
       "        -0.12094399,  0.36948187, -1.89901986, -0.6631697 , -1.03422616,\n",
       "        -0.78431016,  0.54779818, -1.21607958,  1.12865397,  0.38906741])}"
      ]
     },
     "execution_count": 49,
     "metadata": {},
     "output_type": "execute_result"
    }
   ],
   "source": [
    "pat_db.__dict__"
   ]
  },
  {
   "cell_type": "markdown",
   "id": "chronic-junior",
   "metadata": {},
   "source": [
    "Ta có thể gán giá trị mới cho std_x2, vì method __ set __ chưa bị khóa"
   ]
  },
  {
   "cell_type": "code",
   "execution_count": 50,
   "id": "needed-protest",
   "metadata": {},
   "outputs": [
    {
     "data": {
      "text/plain": [
       "{'x1': array([5.47354059, 2.09641744, 4.64445358, 4.98131638, 5.91798775,\n",
       "        4.0786058 , 4.37859828, 4.87039082, 5.05737418, 3.89128276,\n",
       "        6.17196401, 5.22163973, 3.30112695, 5.57456072, 5.26994654,\n",
       "        5.46541731, 5.31943393, 4.19086568, 3.71169672, 5.73449963]),\n",
       " 'x2': array([  5.63539936,  -0.06079018,   7.96379551,  15.78551342,\n",
       "         -0.59369662,   0.37103695,   3.76147336, -11.92124543,\n",
       "         -3.37750475,  -5.94271067,  -4.21497896,   4.9942185 ,\n",
       "         -7.19990878,   9.0098196 ,   3.89687313]),\n",
       " 'std_x1': array([ 0.72599491, -2.74684862, -0.12659155,  0.21981922,  1.18303938,\n",
       "        -0.70847758, -0.39998218,  0.1057496 ,  0.29803278, -0.90111006,\n",
       "         1.44421428,  0.46695423, -1.5079931 ,  0.82987834,  0.51663025,\n",
       "         0.71764139,  0.56752029, -0.59303584, -1.08578624,  0.99435051]),\n",
       " 'std_x2': None}"
      ]
     },
     "execution_count": 50,
     "metadata": {},
     "output_type": "execute_result"
    }
   ],
   "source": [
    "pat_db.std_x2 = None\n",
    "\n",
    "pat_db.__dict__"
   ]
  },
  {
   "cell_type": "markdown",
   "id": "guilty-trauma",
   "metadata": {},
   "source": [
    "Nhưng khi truy nhập std_x2 lần nữa, method __ get __ lại được gọi, và ghi chèn vào giá trị None mà khi nãy ta vừa gán, như vậy trên thực tế, ta không bao giờ có thể thay đổi được std_x2 bằng phép gán."
   ]
  },
  {
   "cell_type": "code",
   "execution_count": 51,
   "id": "temporal-andrews",
   "metadata": {},
   "outputs": [
    {
     "data": {
      "text/plain": [
       "array([ 0.64054484, -0.18340769,  0.97734682,  2.10875655, -0.26049249,\n",
       "       -0.12094399,  0.36948187, -1.89901986, -0.6631697 , -1.03422616,\n",
       "       -0.78431016,  0.54779818, -1.21607958,  1.12865397,  0.38906741])"
      ]
     },
     "execution_count": 51,
     "metadata": {},
     "output_type": "execute_result"
    }
   ],
   "source": [
    "pat_db.std_x2"
   ]
  },
  {
   "cell_type": "code",
   "execution_count": 52,
   "id": "mineral-harbor",
   "metadata": {},
   "outputs": [
    {
     "data": {
      "text/plain": [
       "{'x1': array([5.47354059, 2.09641744, 4.64445358, 4.98131638, 5.91798775,\n",
       "        4.0786058 , 4.37859828, 4.87039082, 5.05737418, 3.89128276,\n",
       "        6.17196401, 5.22163973, 3.30112695, 5.57456072, 5.26994654,\n",
       "        5.46541731, 5.31943393, 4.19086568, 3.71169672, 5.73449963]),\n",
       " 'x2': array([  5.63539936,  -0.06079018,   7.96379551,  15.78551342,\n",
       "         -0.59369662,   0.37103695,   3.76147336, -11.92124543,\n",
       "         -3.37750475,  -5.94271067,  -4.21497896,   4.9942185 ,\n",
       "         -7.19990878,   9.0098196 ,   3.89687313]),\n",
       " 'std_x1': array([ 0.72599491, -2.74684862, -0.12659155,  0.21981922,  1.18303938,\n",
       "        -0.70847758, -0.39998218,  0.1057496 ,  0.29803278, -0.90111006,\n",
       "         1.44421428,  0.46695423, -1.5079931 ,  0.82987834,  0.51663025,\n",
       "         0.71764139,  0.56752029, -0.59303584, -1.08578624,  0.99435051]),\n",
       " 'std_x2': array([ 0.64054484, -0.18340769,  0.97734682,  2.10875655, -0.26049249,\n",
       "        -0.12094399,  0.36948187, -1.89901986, -0.6631697 , -1.03422616,\n",
       "        -0.78431016,  0.54779818, -1.21607958,  1.12865397,  0.38906741])}"
      ]
     },
     "execution_count": 52,
     "metadata": {},
     "output_type": "execute_result"
    }
   ],
   "source": [
    "pat_db.__dict__"
   ]
  },
  {
   "cell_type": "markdown",
   "id": "honest-phoenix",
   "metadata": {},
   "source": [
    "Lưu ý: Vẫn có thể sử dụng cả 2 cơ chế: __ init __ với name mặc định và __ set_name __ với name tùy chọn. Như ta thấy: name được sử dụng như key của instance.__ dict __\n",
    "\n",
    "Bài thực hành đến đây tạm dừng, các bạn đã nắm được các cơ chế tổng quát của descriptor và 4 method của nó. Trong bài tiếp theo ta sẽ tiếp tục tìm hiểu về những ứng dụng của Descriptor."
   ]
  }
 ],
 "metadata": {
  "kernelspec": {
   "display_name": "Python 3",
   "language": "python",
   "name": "python3"
  },
  "language_info": {
   "codemirror_mode": {
    "name": "ipython",
    "version": 3
   },
   "file_extension": ".py",
   "mimetype": "text/x-python",
   "name": "python",
   "nbconvert_exporter": "python",
   "pygments_lexer": "ipython3",
   "version": "3.8.5"
  },
  "toc": {
   "base_numbering": 1,
   "nav_menu": {},
   "number_sections": true,
   "sideBar": true,
   "skip_h1_title": false,
   "title_cell": "Table of Contents",
   "title_sidebar": "Contents",
   "toc_cell": false,
   "toc_position": {},
   "toc_section_display": true,
   "toc_window_display": false
  },
  "varInspector": {
   "cols": {
    "lenName": 16,
    "lenType": 16,
    "lenVar": 40
   },
   "kernels_config": {
    "python": {
     "delete_cmd_postfix": "",
     "delete_cmd_prefix": "del ",
     "library": "var_list.py",
     "varRefreshCmd": "print(var_dic_list())"
    },
    "r": {
     "delete_cmd_postfix": ") ",
     "delete_cmd_prefix": "rm(",
     "library": "var_list.r",
     "varRefreshCmd": "cat(var_dic_list()) "
    }
   },
   "types_to_exclude": [
    "module",
    "function",
    "builtin_function_or_method",
    "instance",
    "_Feature"
   ],
   "window_display": false
  }
 },
 "nbformat": 4,
 "nbformat_minor": 5
}
