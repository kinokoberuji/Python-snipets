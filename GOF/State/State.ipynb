{
 "cells": [
  {
   "cell_type": "markdown",
   "id": "gothic-favor",
   "metadata": {},
   "source": [
    "# Các mẫu thiết kế GOF : State\n",
    "\n",
    "**Bs. Lê Ngọc Khả Nhi**\n",
    "\n",
    "# Giới thiệu\n",
    "\n",
    "Trong bài này, Nhi sẽ minh họa về mẫu thiết kế State, một trong 23 mẫu thiết kế GOF.\n",
    "\n",
    "State (trạng thái) là một mẫu thiết kế thuộc nhóm \"Hành vi\", nó cho phép mô phỏng hoạt động của một hệ thống có khả năng chuyển đổi giữa một số trạng thái nhất định, và có hành vi thay đổi tùy thuộc vào mỗi trạng thái. \n",
    "\n",
    "Ta có thể hình dung về một cái máy nghe nhạc bỏ túi chỉ có 1 nút bấm (method) duy nhất. Hành vi của nút bấm này tùy thuộc trạng thái của cái máy. Khi máy đang tắt (trạng thái bất hoạt), bấm nút này lâu hơn 3 giây sẽ khởi động máy, cho phép chọn bài nhạc trên màn hình cảm ứng. Khi máy đang chơi nhạc (trạng thái Play), bấm nút này sẽ tạm dừng (Pause), bấm lần nữa, sẽ chơi tiếp, bấm lâu hơn 3 giây sẽ tắt máy...\n",
    "\n",
    "Cụ thể hơn, Nhi sẽ dùng thí dụ minh họa tình huống lâm sàng, mô phỏng một phác đồ điều trị như sau: Ta có một đối tượng bệnh nhân A đang được can thiệp hóa trị liệu cho bệnh lý X. Bệnh nhân có thể ở trong 2 trạng thái : (1) Được làm xét nghiệm định lượng một biomarker X (Lab_test) và (2) Được xử trí bởi bác sĩ điều trị (Treatment), và 2 trạng thái này nối tiếp nhau:\n",
    "\n",
    "Trong trạng thái Xét nghiệm, nồng độ của marker X sẽ được định lượng và ghi vào nhật ký theo dõi. Lần đầu tiên nhập viện (trước khi điều trị), giá trị marker thường cao, sau đó dưới tác dụng của liều hóa trị (dose), marker sẽ giảm dần theo quy luật 1 hàm mũ âm theo thời gian. Khi marker = 0 mUI/mL, khoa xét nghiệm sẽ chấm dứt theo dõi. Sau khi xét nghiệm, trạng thái bệnh nhân chuyển thành Treatment.\n",
    "\n",
    "Trong trạng thái Treatment, bệnh nhân được 1 bác sĩ điều trị đọc kết quả xét nghiệm và ước tính đáp ứng điều trị tương đối (% so với giá trị baseline). Nếu đó là lần khám đầu tiên, bác sĩ sẽ dùng 1 liều hóa trị dose = 0.01 mg.\n",
    "Nếu đáp ứng điều trị sau tuần thứ 3 không đạt -50%, bác sĩ sẽ dùng thêm liều thứ 2 hoặc thứ 3 với dose tăng lên gấp đôi (0.02 rồi 0.04 mg). Nếu đáp ứng điều trị đạt, bác sĩ chỉ định tiếp tục theo dõi. Nếu đáp ứng điều trị cao hơn 95%, bệnh nhân xem như khỏi bệnh và quy trình theo dõi/hóa trị chấm dứt.\n",
    "\n",
    "Cơ chế của mẫu thiết kế State đó là thay vì trình bày tất cả những method xét nghiệm (test) và quyết định lâm sàng (make_decision) ngay bên trong class Clinical_Context, ta sẽ tạo riêng 2 class tương ứng với 2 trạng thái là Lab_test và Treatment, sau đó trích xuất method test vào class Lab_test, method make_decision vào class Treatment, sau đó ta sẽ dẫn nguồn để gọi chúng từ mỗi trạng thái bên trong Clinical_Context bằng 1 method chung duy nhất, thí dụ request().\n",
    "\n",
    "\n",
    "# Cách thức triển khai\n",
    "\n",
    "(1) Phân tích chương trình để xem có khả năng tách biệt 2 bộ phận: (1) đối tượng chính (context) và (2) những trạng thái khác nhau.\n",
    "\n",
    "(2) Tạo hình mẫu cho class Trạng thái (State_interface)\n",
    "\n",
    "(3) Tạo những class trạng thái A,B,C... khác nhau như subclass của State_interface\n",
    "\n",
    "(4) Tạo các method để xử trí công việc chuyên biệt cho mỗi class A,B,C (mỗi trạng thái có thể có 1 hay nhiều method, các method này có thể làm thay đổi nội dung các thuộc tính (fields, attribute) của class Context\n",
    "\n",
    "(5) Dẫn nguồn các class trạng thái A,B,C về bên trong class Context, theo trình tự tùy chọn. Tạo method để có thể gọi tuần tự, hay chuyển đổi từ trạng thái này sang trạng thái khác. Thường chỉ có 1 method duy nhất, thí dụ handle, request...\n",
    "\n",
    "\n",
    "# Cấu trúc module:\n",
    "\n",
    "Sơ đồ UML của hệ thống như sau:\n",
    "\n",
    "!['uml'](state_uml.png)\n",
    "\n",
    "Nội dung của code nằm trong module state.py tại: https://github.com/kinokoberuji/Python-snipets/blob/master/GOF/State/state.py"
   ]
  },
  {
   "cell_type": "code",
   "execution_count": null,
   "id": "sitting-person",
   "metadata": {},
   "outputs": [],
   "source": [
    "class IState(ABC):\n",
    "    \"Mẫu State\"\n",
    "\n",
    "    @staticmethod\n",
    "    @abstractmethod\n",
    "    def __call__():\n",
    "        \"Set the default method\"\n",
    "\n",
    "class Lab_test(IState):\n",
    "    \"Xét nghiệm định lượng Marker X\"\n",
    "\n",
    "    @staticmethod\n",
    "    def test(patient: Clinical_context):\n",
    "        \"Xét nghiệm\"\n",
    "\n",
    "        t_i = len(patient.marker)\n",
    "        if t_i == 0:\n",
    "            x = float(np.random.gamma(1.5,0.5,1))\n",
    "            patient.marker = x * 30\n",
    "            print(style.RED + f\"Xét nghiệm lần đầu tiên, kết quả = {x*30: .3f} mUI/mL\")\n",
    "\n",
    "        else:\n",
    "            y0 = patient.marker[0]\n",
    "            yt = patient.marker[-1]\n",
    "            dif = 100*(yt - y0)/y0\n",
    "\n",
    "            if dif <= -99.99:\n",
    "                print(style.RESET + \"Kết quả xét nghiệm đã âm tính, kết thúc theo dõi\")\n",
    "                patient.treated = True\n",
    "            else:\n",
    "                ke = patient.clearance\n",
    "                y0 = patient.marker[0]\n",
    "                x = response(y0 = y0, t = t_i, ke = ke)\n",
    "                patient.marker = x\n",
    "                print(style.BLUE + f\"Xét nghiệm lần {t_i + 1}, kết quả = {x: .3f} mUI/mL\")\n",
    "        \n",
    "        print(\"Trả kết quả xét nghiệm cho bác sĩ điều trị\")\n",
    "\n",
    "    __call__ = test\n",
    "\n",
    "class Treatment(IState):\n",
    "    \"Quyết định lâm sàng\"\n",
    "\n",
    "    @staticmethod\n",
    "    def make_decision(patient: Clinical_context):\n",
    "        \"Can thiệp tùy theo kết quả CLS\"\n",
    "\n",
    "        t_i = len(patient.marker)\n",
    "        y0 = patient.marker[0]\n",
    "        yt = patient.marker[-1]\n",
    "        ke = patient.clearance\n",
    "        t = len(patient.marker)\n",
    "        dose = patient.dose\n",
    "        dif = 100*(yt - y0)/y0\n",
    "\n",
    "        if t_i == 1:\n",
    "            patient.dose += 0.01\n",
    "            print(f\"Bắt đầu hóa trị, liều {dose:.2f} mg\")\n",
    "        \n",
    "        if dif< -95.0:\n",
    "            print(style.RESET + \"Chấm dứt điều trị, bệnh nhân đã khỏi bệnh\")\n",
    "            patient.treated = True\n",
    "        \n",
    "        else:\n",
    "            print(style.GREEN + f\"Đáp ứng điều trị tuần thứ {t_i} = {dif:.3f} %, tiếp tục theo dõi\")\n",
    "\n",
    "            if (dif > -50) & (t_i >= 3):\n",
    "                print(style.RED + \"Bệnh nhân không đáp ứng liều thấp, tăng liều gấp đôi\")\n",
    "                patient.dose *= 2\n",
    "        \n",
    "        ke -= patient.dose * 0.85\n",
    "        patient.clearance = ke\n",
    "\n",
    "    __call__ = make_decision"
   ]
  },
  {
   "cell_type": "code",
   "execution_count": null,
   "id": "laden-abortion",
   "metadata": {},
   "outputs": [],
   "source": [
    "@dataclass\n",
    "class Clinical_context():\n",
    "    \"\"\"Tình huống lâm sàng của một bệnh nhân\"\"\"\n",
    "\n",
    "    _marker: List[float] = field(default_factory=list)\n",
    "    _clearance: float = -0.1\n",
    "    _dose: float = 0.01\n",
    "    treated: bool = False\n",
    "\n",
    "    _state_handles = [Lab_test(),\n",
    "                      Treatment()]\n",
    "\n",
    "    _handle = iter(_state_handles)\n",
    "\n",
    "    @property\n",
    "    def marker(self):\n",
    "        return self._marker\n",
    "\n",
    "    @marker.setter\n",
    "    def marker(self, level):\n",
    "        self._marker.append(level)\n",
    "    \n",
    "    @property\n",
    "    def clearance(self):\n",
    "        return self._clearance\n",
    "    \n",
    "    @clearance.setter\n",
    "    def clearance(self, Ke):\n",
    "        self._clearance = Ke\n",
    "    \n",
    "    @property\n",
    "    def dose(self):\n",
    "        return self._dose\n",
    "    \n",
    "    @dose.setter\n",
    "    def dose(self, new_dose):\n",
    "        self._dose = new_dose\n",
    "\n",
    "    def request(self):\n",
    "        try:\n",
    "            self._handle.__next__()(patient = self)\n",
    "        except StopIteration:\n",
    "            # resetting so it loops\n",
    "            self._handle = iter(self._state_handles)\n",
    "    \n",
    "    def followup(self):\n",
    "\n",
    "        if len(self.marker) > 2:\n",
    "            ts = np.array(range(1,len(self.marker)+1))\n",
    "            sns.lineplot(x = np.array(ts), \n",
    "                    y = np.array(self.marker), \n",
    "                    color = 'red')\n",
    "            plt.ylabel('Biomarker X (mUI/mL)')\n",
    "            plt.xlabel('Thời gian theo dõi (tuần)')\n",
    "            plt.show()\n",
    "        else:\n",
    "            print(\"Chưa đủ dữ liệu !\")"
   ]
  },
  {
   "cell_type": "markdown",
   "id": "interim-surfing",
   "metadata": {},
   "source": [
    "Sau đây ta sẽ chạy chương trình :\n",
    "\n",
    "Đầu tiên với class Clinical_context, ta sẽ khởi tạo object PATIENT_A, đại diện cho một bệnh nhân"
   ]
  },
  {
   "cell_type": "code",
   "execution_count": 1,
   "id": "lonely-utilization",
   "metadata": {},
   "outputs": [],
   "source": [
    "from state import *"
   ]
  },
  {
   "cell_type": "code",
   "execution_count": 4,
   "id": "personal-nightmare",
   "metadata": {},
   "outputs": [
    {
     "data": {
      "text/plain": [
       "Clinical_context(_marker=[], _clearance=-0.1, _dose=0.01, treated=False)"
      ]
     },
     "execution_count": 4,
     "metadata": {},
     "output_type": "execute_result"
    }
   ],
   "source": [
    "PATIENT_A = Clinical_context()\n",
    "\n",
    "PATIENT_A"
   ]
  },
  {
   "cell_type": "markdown",
   "id": "characteristic-differential",
   "metadata": {},
   "source": [
    "field 'treated = False' cho thấy bệnh nhân này chưa được trị hết bệnh, field marker là 1 list để ghi nhật kí theo dõi, nó rỗng cho thấy bệnh nhân chưa làm xét nghiệm lần nào, tham số clearance cho phép mô phỏng sự suy giảm của marker X bằng một hàm mũ âm theo thời gian, tham số dose cho biết liều hóa trị đầu tiên được dùng.\n",
    "\n",
    "Tiếp theo, ta sẽ xem điều gì xảy ra khi ta chạy 1 vòng lặp while cho đến khi bệnh nhân này khỏi bệnh (treated = True):"
   ]
  },
  {
   "cell_type": "code",
   "execution_count": 5,
   "id": "c3ec70dd-a1b3-4ad5-a0f5-7aadcdc2cc48",
   "metadata": {},
   "outputs": [
    {
     "name": "stdout",
     "output_type": "stream",
     "text": [
      "\u001b[31mXét nghiệm lần đầu tiên, kết quả =  19.319 mUI/mL\n",
      "Trả kết quả xét nghiệm cho bác sĩ điều trị\n",
      "Bắt đầu hóa trị, liều 0.01 mg\n",
      "\u001b[32mĐáp ứng điều trị tuần thứ 1 = 0.000 %, tiếp tục theo dõi\n",
      "\u001b[34mXét nghiệm lần 2, kết quả =  16.962 mUI/mL\n",
      "Trả kết quả xét nghiệm cho bác sĩ điều trị\n",
      "\u001b[32mĐáp ứng điều trị tuần thứ 2 = -12.202 %, tiếp tục theo dõi\n",
      "\u001b[34mXét nghiệm lần 3, kết quả =  14.582 mUI/mL\n",
      "Trả kết quả xét nghiệm cho bác sĩ điều trị\n",
      "\u001b[32mĐáp ứng điều trị tuần thứ 3 = -24.520 %, tiếp tục theo dõi\n",
      "\u001b[31mBệnh nhân không đáp ứng liều thấp, tăng liều gấp đôi\n",
      "\u001b[34mXét nghiệm lần 4, kết quả =  11.513 mUI/mL\n",
      "Trả kết quả xét nghiệm cho bác sĩ điều trị\n",
      "\u001b[32mĐáp ứng điều trị tuần thứ 4 = -40.407 %, tiếp tục theo dõi\n",
      "\u001b[31mBệnh nhân không đáp ứng liều thấp, tăng liều gấp đôi\n",
      "\u001b[34mXét nghiệm lần 5, kết quả =  7.408 mUI/mL\n",
      "Trả kết quả xét nghiệm cho bác sĩ điều trị\n",
      "\u001b[32mĐáp ứng điều trị tuần thứ 5 = -61.653 %, tiếp tục theo dõi\n",
      "\u001b[34mXét nghiệm lần 6, kết quả =  4.157 mUI/mL\n",
      "Trả kết quả xét nghiệm cho bác sĩ điều trị\n",
      "\u001b[32mĐáp ứng điều trị tuần thứ 6 = -78.484 %, tiếp tục theo dõi\n",
      "\u001b[34mXét nghiệm lần 7, kết quả =  2.030 mUI/mL\n",
      "Trả kết quả xét nghiệm cho bác sĩ điều trị\n",
      "\u001b[32mĐáp ứng điều trị tuần thứ 7 = -89.491 %, tiếp tục theo dõi\n",
      "\u001b[34mXét nghiệm lần 8, kết quả =  0.859 mUI/mL\n",
      "Trả kết quả xét nghiệm cho bác sĩ điều trị\n",
      "\u001b[0mChấm dứt điều trị, bệnh nhân đã khỏi bệnh\n"
     ]
    }
   ],
   "source": [
    "PATIENT_A = Clinical_context()\n",
    "\n",
    "while not PATIENT_A.treated :\n",
    "    PATIENT_A.request()"
   ]
  },
  {
   "cell_type": "markdown",
   "id": "delayed-discharge",
   "metadata": {},
   "source": [
    "Như vậy, sau 8 tuần hóa trị, giá trị marker đã giảm từ 19.3 mUI/mL còn 0.859 mUI/mL, hay 89.491% so với ban đầu, và ở tuần thứ 9 kết quả này xem như âm tính, bệnh nhân được xem là đã khỏi bệnh.\n",
    "\n",
    "Method followup cho phép vẽ biểu đồ theo dõi diễn tiến của marker X trong 8 tuần:"
   ]
  },
  {
   "cell_type": "code",
   "execution_count": 6,
   "id": "d8bc40bf-bf45-493b-ae7e-609e17a7b885",
   "metadata": {},
   "outputs": [
    {
     "data": {
      "image/png": "[encoded data removed]",
      "text/plain": [
       "<Figure size 432x288 with 1 Axes>"
      ]
     },
     "metadata": {
      "needs_background": "light"
     },
     "output_type": "display_data"
    }
   ],
   "source": [
    "PATIENT_A.followup()"
   ]
  },
  {
   "cell_type": "markdown",
   "id": "amino-quebec",
   "metadata": {},
   "source": [
    "# Nhận xét\n",
    "\n",
    "Mẫu thiết kế State rất đơn giản về kỹ thuật, nhưng rất hữu dụng và thường được dùng như một chiến thuật để tái cấu trúc (refactoring) nội dung code.\n",
    "\n",
    "Ưu điểm của cách làm này gồm: phù hợp với tiêu chí trách nhiệm tối giản: mỗi class chỉ có 1 vai trò, 1 trách nhiệm, mỗi method chỉ làm 1 việc.\n",
    "\n",
    "Việc tách biệt các state và độc lập với context cho phép thêm những state mới một cách dễ dàng mà không cần sửa code trong những state hiện hành.\n",
    "\n",
    "Cho phép đơn giản hóa nội dung code trong class context, cho phép loại bỏ cấu trúc if, then, else, switch... phức tạp, làm cho code dễ hiểu hơn.\n",
    "\n",
    "Chúc các bạn học vui và hẹn gặp lại lần sau."
   ]
  }
 ],
 "metadata": {
  "kernelspec": {
   "display_name": "Python 3",
   "language": "python",
   "name": "python3"
  },
  "language_info": {
   "codemirror_mode": {
    "name": "ipython",
    "version": 3
   },
   "file_extension": ".py",
   "mimetype": "text/x-python",
   "name": "python",
   "nbconvert_exporter": "python",
   "pygments_lexer": "ipython3",
   "version": "3.8.5"
  },
  "toc": {
   "base_numbering": 1,
   "nav_menu": {},
   "number_sections": true,
   "sideBar": true,
   "skip_h1_title": false,
   "title_cell": "Table of Contents",
   "title_sidebar": "Contents",
   "toc_cell": false,
   "toc_position": {},
   "toc_section_display": true,
   "toc_window_display": false
  },
  "varInspector": {
   "cols": {
    "lenName": 16,
    "lenType": 16,
    "lenVar": 40
   },
   "kernels_config": {
    "python": {
     "delete_cmd_postfix": "",
     "delete_cmd_prefix": "del ",
     "library": "var_list.py",
     "varRefreshCmd": "print(var_dic_list())"
    },
    "r": {
     "delete_cmd_postfix": ") ",
     "delete_cmd_prefix": "rm(",
     "library": "var_list.r",
     "varRefreshCmd": "cat(var_dic_list()) "
    }
   },
   "types_to_exclude": [
    "module",
    "function",
    "builtin_function_or_method",
    "instance",
    "_Feature"
   ],
   "window_display": false
  }
 },
 "nbformat": 4,
 "nbformat_minor": 5
}
