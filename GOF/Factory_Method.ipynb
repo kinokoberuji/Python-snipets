{
 "cells": [
  {
   "cell_type": "markdown",
   "id": "adjusted-employment",
   "metadata": {},
   "source": [
    "# Các mẫu thiết kế : 1) Factory Method\n",
    "\n",
    "**BS. Lê Ngọc Khả Nhi**\n",
    "\n",
    "\n",
    "# Giới thiệu\n",
    "\n",
    "Thông thường, khi muốn viết code thực hiện một công việc nào đó, thí dụ thực hiện một kiểm định thống kê trên dữ liệu, người dùng phải biết chính xác tên của class và method tương ứng với loại kiểm định chuyên biệt đó, thí dụ class Test_A, từ đó mới khởi tạo object test_a = Test_A() sau đó gọi method test_a.fit(data)...\n",
    "\n",
    "**Factory Method** là một mẫu thiết kế hướng đối tượng thuộc lớp 'Tạo lập' (Creational), cho phép khởi tạo object mà không cần phải chỉ ra trực tiếp và chính xác tên Class dùng để tạo ra object đó.\n",
    "\n",
    "# Cấu trúc của Factory Method\n",
    "\n",
    "Mẫu thiết kế Factory Method gồm 2 bộ phận chính như sau:\n",
    "\n",
    "1) Bộ phận Product (Sản phẩm): gồm giao diện (Product interface ) và class vận dụng giao diện này (concrete Products), bên trong mỗi product có method đảm nhận công việc ta muốn làm.\n",
    "\n",
    "2) Bộ phận Creator: bao gồm giao diện (interface) chứa factory_method cơ bản, và các concrete Creator, là subclasses cho phép thay đổi factory_method cơ bản để khởi tạo các loại product khác nhau tương ứng với 1 điều kiện nào đó.\n",
    "\n",
    "\n",
    "# Các bước triển khai\n",
    "\n",
    "**Bước 1**: Thiết kế giao diện IProduct chung cho tất cả \"sản phẩm\" bằng abstract meta-class; trong đó khai báo tên các method chính bằng abstract method\n",
    "\n",
    "**Bước 2**: Thiết kế class riêng biệt cho mỗi \"sản phẩm\", (Product_A, Product_B, ...) và đảm bảo những class \"sản phẩm\" này đều vận dụng cùng giao diện IProduct. Bên trong mỗi class sản phẩm, triển khai nội dung method chính.\n",
    "\n",
    "**Bước 3**: Thiết kế giao diện ICreator cho 1 hay nhiều class Creator, \n",
    "\n",
    "**Bước 4**: Thiết kế class Creator, trong đó có method \"factory\" đảm nhận vai trò gọi class Product để tạo ra sản phẩm tương ứng với một điều kiện nào đó;\n",
    "\n",
    "**Bước 5**: Sử dụng quy trình: Người dùng viết code để tương tác duy nhất với class Creator, họ luôn nhận được kết quả mà không cần quan tâm đến cơ chế bên trong hệ thống, như class product nào đã được sử dụng.\n",
    "\n",
    "# Thí dụ minh họa\n",
    "\n",
    "Trong thí dụ minh họa sau đây, giả định ta muốn thiết kế 1 giao diện Comparison cho phép người dùng thực hiện phân tích ANOVA cho 1 biến định lượng Y giữa nhiều phân nhóm X khác nhau.\n",
    "\n",
    "Như ta biết, để áp dụng được ANOVA chính tắc (kiểm định F theo Fisher), dữ liệu phải thỏa mãn được một số giả định, thí dụ Y phải có phân phối chuẩn trong mỗi phân nhóm (với một cỡ mẫu đủ lớn). Trong trường hợp vi phạm giả định, ta có thể dùng 1 giải pháp thay thế là kiểm định Phi tham số H của Kruskal-Wallis. \n",
    "\n",
    "Khi dùng giao diện Comparison, người dùng không cần bận tâm về công cụ nào (ANOVA hay KW test), nhưng chỉ cần cung cấp dữ liệu đầu vào. class Comparison sẽ dùng factory_method() để kiểm tra 2 điều kiện: cỡ mẫu có lớn hơn 10 cho mỗi phân nhóm hay không ? và biến kết quả có phân bố chuẩn hay không ? Nếu thỏa điều kiện, nó sẽ gọi class ANOVA để làm test F, nếu vi phạm điều kiện, nó sẽ gọi class KW_test để làm test Kruskal-Wallis.\n",
    "\n",
    "# Thí nghiệm\n",
    "\n",
    "Trước hết, Nhi tạo ra 2 dữ liệu data_A từ 1 thí nghiệm sinh lý, data_B là bộ dữ liệu iris"
   ]
  },
  {
   "cell_type": "code",
   "execution_count": 1,
   "id": "searching-feeling",
   "metadata": {},
   "outputs": [],
   "source": [
    "import pandas as pd\n",
    "import numpy as np\n",
    "import seaborn as sns\n",
    "from abc import ABC, abstractmethod\n",
    "\n",
    "import pingouin as pg"
   ]
  },
  {
   "cell_type": "code",
   "execution_count": 2,
   "id": "lesbian-discount",
   "metadata": {},
   "outputs": [
    {
     "data": {
      "text/html": [
       "<div>\n",
       "<style scoped>\n",
       "    .dataframe tbody tr th:only-of-type {\n",
       "        vertical-align: middle;\n",
       "    }\n",
       "\n",
       "    .dataframe tbody tr th {\n",
       "        vertical-align: top;\n",
       "    }\n",
       "\n",
       "    .dataframe thead th {\n",
       "        text-align: right;\n",
       "    }\n",
       "</style>\n",
       "<table border=\"1\" class=\"dataframe\">\n",
       "  <thead>\n",
       "    <tr style=\"text-align: right;\">\n",
       "      <th></th>\n",
       "      <th>Poids</th>\n",
       "      <th>Taille</th>\n",
       "      <th>BMI</th>\n",
       "      <th>Age</th>\n",
       "      <th>Sexe</th>\n",
       "      <th>Hb</th>\n",
       "      <th>Diagnostic</th>\n",
       "      <th>GST</th>\n",
       "      <th>Volume</th>\n",
       "      <th>Surface</th>\n",
       "      <th>DmCO</th>\n",
       "      <th>Thickness</th>\n",
       "      <th>DLCO</th>\n",
       "      <th>FVC</th>\n",
       "    </tr>\n",
       "  </thead>\n",
       "  <tbody>\n",
       "    <tr>\n",
       "      <th>0</th>\n",
       "      <td>53</td>\n",
       "      <td>165</td>\n",
       "      <td>19.467401</td>\n",
       "      <td>54</td>\n",
       "      <td>F</td>\n",
       "      <td>13.4</td>\n",
       "      <td>E</td>\n",
       "      <td>1.284048</td>\n",
       "      <td>7.0080</td>\n",
       "      <td>19.647869</td>\n",
       "      <td>450.315872</td>\n",
       "      <td>0.142701</td>\n",
       "      <td>6.767</td>\n",
       "      <td>2.30</td>\n",
       "    </tr>\n",
       "    <tr>\n",
       "      <th>1</th>\n",
       "      <td>92</td>\n",
       "      <td>170</td>\n",
       "      <td>31.833910</td>\n",
       "      <td>75</td>\n",
       "      <td>H</td>\n",
       "      <td>17.1</td>\n",
       "      <td>E</td>\n",
       "      <td>1.291861</td>\n",
       "      <td>3.7750</td>\n",
       "      <td>10.519710</td>\n",
       "      <td>72.271882</td>\n",
       "      <td>0.476060</td>\n",
       "      <td>19.146</td>\n",
       "      <td>3.04</td>\n",
       "    </tr>\n",
       "    <tr>\n",
       "      <th>2</th>\n",
       "      <td>69</td>\n",
       "      <td>186</td>\n",
       "      <td>19.944502</td>\n",
       "      <td>41</td>\n",
       "      <td>H</td>\n",
       "      <td>14.6</td>\n",
       "      <td>E</td>\n",
       "      <td>1.211214</td>\n",
       "      <td>7.7695</td>\n",
       "      <td>23.092705</td>\n",
       "      <td>372.142895</td>\n",
       "      <td>0.202952</td>\n",
       "      <td>29.047</td>\n",
       "      <td>5.72</td>\n",
       "    </tr>\n",
       "    <tr>\n",
       "      <th>3</th>\n",
       "      <td>60</td>\n",
       "      <td>160</td>\n",
       "      <td>23.437500</td>\n",
       "      <td>75</td>\n",
       "      <td>F</td>\n",
       "      <td>13.5</td>\n",
       "      <td>E</td>\n",
       "      <td>1.439790</td>\n",
       "      <td>4.3295</td>\n",
       "      <td>10.825326</td>\n",
       "      <td>89.206177</td>\n",
       "      <td>0.396893</td>\n",
       "      <td>14.943</td>\n",
       "      <td>2.57</td>\n",
       "    </tr>\n",
       "    <tr>\n",
       "      <th>4</th>\n",
       "      <td>72</td>\n",
       "      <td>172</td>\n",
       "      <td>24.337480</td>\n",
       "      <td>60</td>\n",
       "      <td>H</td>\n",
       "      <td>14.6</td>\n",
       "      <td>E</td>\n",
       "      <td>1.388885</td>\n",
       "      <td>5.5610</td>\n",
       "      <td>14.414152</td>\n",
       "      <td>180.833030</td>\n",
       "      <td>0.260699</td>\n",
       "      <td>13.888</td>\n",
       "      <td>4.36</td>\n",
       "    </tr>\n",
       "  </tbody>\n",
       "</table>\n",
       "</div>"
      ],
      "text/plain": [
       "   Poids  Taille        BMI  Age Sexe    Hb Diagnostic       GST  Volume  \\\n",
       "0     53     165  19.467401   54    F  13.4          E  1.284048  7.0080   \n",
       "1     92     170  31.833910   75    H  17.1          E  1.291861  3.7750   \n",
       "2     69     186  19.944502   41    H  14.6          E  1.211214  7.7695   \n",
       "3     60     160  23.437500   75    F  13.5          E  1.439790  4.3295   \n",
       "4     72     172  24.337480   60    H  14.6          E  1.388885  5.5610   \n",
       "\n",
       "     Surface        DmCO  Thickness    DLCO   FVC  \n",
       "0  19.647869  450.315872   0.142701   6.767  2.30  \n",
       "1  10.519710   72.271882   0.476060  19.146  3.04  \n",
       "2  23.092705  372.142895   0.202952  29.047  5.72  \n",
       "3  10.825326   89.206177   0.396893  14.943  2.57  \n",
       "4  14.414152  180.833030   0.260699  13.888  4.36  "
      ]
     },
     "execution_count": 2,
     "metadata": {},
     "output_type": "execute_result"
    }
   ],
   "source": [
    "data_A = pd.read_csv('https://raw.githubusercontent.com/kinokoberuji/R-Tutorials/master/aerodim.csv', sep = ';')\n",
    "\n",
    "data_A.head()"
   ]
  },
  {
   "cell_type": "markdown",
   "id": "anticipated-cooking",
   "metadata": {},
   "source": [
    "Bài toán thứ nhất: So sánh Thickness giữa 3 phân nhóm Diagnostic, ta thấy phân bố có vẻ đối xứng, tuy nhiên mỗi phân nhóm chỉ có cỡ mẫu rất nhỏ:"
   ]
  },
  {
   "cell_type": "code",
   "execution_count": 3,
   "id": "manufactured-emission",
   "metadata": {},
   "outputs": [
    {
     "data": {
      "text/plain": [
       "N    15\n",
       "E    14\n",
       "F     9\n",
       "Name: Diagnostic, dtype: int64"
      ]
     },
     "execution_count": 3,
     "metadata": {},
     "output_type": "execute_result"
    }
   ],
   "source": [
    "data_A.Diagnostic.value_counts()"
   ]
  },
  {
   "cell_type": "code",
   "execution_count": 4,
   "id": "coastal-explanation",
   "metadata": {},
   "outputs": [
    {
     "data": {
      "text/plain": [
       "<AxesSubplot:xlabel='Thickness', ylabel='Density'>"
      ]
     },
     "execution_count": 4,
     "metadata": {},
     "output_type": "execute_result"
    },
    {
     "data": {
      "image/png": "[encoded data removed]",
      "text/plain": [
       "<Figure size 432x288 with 1 Axes>"
      ]
     },
     "metadata": {
      "needs_background": "light"
     },
     "output_type": "display_data"
    }
   ],
   "source": [
    "sns.kdeplot(data = data_A, x = 'Thickness', hue = 'Diagnostic')"
   ]
  },
  {
   "cell_type": "markdown",
   "id": "enhanced-girlfriend",
   "metadata": {},
   "source": [
    "Bài toán thứ 2: So sánh DmCO giữa 3 phân nhóm Diagnostic, biểu đồ cho thấy DmCO vi phạm giả định phân bố chuẩn:"
   ]
  },
  {
   "cell_type": "code",
   "execution_count": 5,
   "id": "documentary-longer",
   "metadata": {},
   "outputs": [
    {
     "data": {
      "text/plain": [
       "<AxesSubplot:xlabel='DmCO', ylabel='Density'>"
      ]
     },
     "execution_count": 5,
     "metadata": {},
     "output_type": "execute_result"
    },
    {
     "data": {
      "image/png": "[encoded data removed]",
      "text/plain": [
       "<Figure size 432x288 with 1 Axes>"
      ]
     },
     "metadata": {
      "needs_background": "light"
     },
     "output_type": "display_data"
    }
   ],
   "source": [
    "sns.kdeplot(data = data_A, x = 'DmCO', hue = 'Diagnostic')"
   ]
  },
  {
   "cell_type": "markdown",
   "id": "novel-israeli",
   "metadata": {},
   "source": [
    "Bài toán thứ 3: So sánh biến Sepal.Width giữa 3 phân nhóm Species, dữ liệu này thỏa mãn giả định phân bố chuẩn cho một phân tích ANOVA."
   ]
  },
  {
   "cell_type": "code",
   "execution_count": 7,
   "id": "beneficial-credit",
   "metadata": {},
   "outputs": [
    {
     "data": {
      "text/html": [
       "<div>\n",
       "<style scoped>\n",
       "    .dataframe tbody tr th:only-of-type {\n",
       "        vertical-align: middle;\n",
       "    }\n",
       "\n",
       "    .dataframe tbody tr th {\n",
       "        vertical-align: top;\n",
       "    }\n",
       "\n",
       "    .dataframe thead th {\n",
       "        text-align: right;\n",
       "    }\n",
       "</style>\n",
       "<table border=\"1\" class=\"dataframe\">\n",
       "  <thead>\n",
       "    <tr style=\"text-align: right;\">\n",
       "      <th></th>\n",
       "      <th>Sepal.Length</th>\n",
       "      <th>Sepal.Width</th>\n",
       "      <th>Petal.Length</th>\n",
       "      <th>Petal.Width</th>\n",
       "      <th>Species</th>\n",
       "    </tr>\n",
       "  </thead>\n",
       "  <tbody>\n",
       "    <tr>\n",
       "      <th>1</th>\n",
       "      <td>5.1</td>\n",
       "      <td>3.5</td>\n",
       "      <td>1.4</td>\n",
       "      <td>0.2</td>\n",
       "      <td>setosa</td>\n",
       "    </tr>\n",
       "    <tr>\n",
       "      <th>2</th>\n",
       "      <td>4.9</td>\n",
       "      <td>3.0</td>\n",
       "      <td>1.4</td>\n",
       "      <td>0.2</td>\n",
       "      <td>setosa</td>\n",
       "    </tr>\n",
       "    <tr>\n",
       "      <th>3</th>\n",
       "      <td>4.7</td>\n",
       "      <td>3.2</td>\n",
       "      <td>1.3</td>\n",
       "      <td>0.2</td>\n",
       "      <td>setosa</td>\n",
       "    </tr>\n",
       "    <tr>\n",
       "      <th>4</th>\n",
       "      <td>4.6</td>\n",
       "      <td>3.1</td>\n",
       "      <td>1.5</td>\n",
       "      <td>0.2</td>\n",
       "      <td>setosa</td>\n",
       "    </tr>\n",
       "    <tr>\n",
       "      <th>5</th>\n",
       "      <td>5.0</td>\n",
       "      <td>3.6</td>\n",
       "      <td>1.4</td>\n",
       "      <td>0.2</td>\n",
       "      <td>setosa</td>\n",
       "    </tr>\n",
       "  </tbody>\n",
       "</table>\n",
       "</div>"
      ],
      "text/plain": [
       "   Sepal.Length  Sepal.Width  Petal.Length  Petal.Width Species\n",
       "1           5.1          3.5           1.4          0.2  setosa\n",
       "2           4.9          3.0           1.4          0.2  setosa\n",
       "3           4.7          3.2           1.3          0.2  setosa\n",
       "4           4.6          3.1           1.5          0.2  setosa\n",
       "5           5.0          3.6           1.4          0.2  setosa"
      ]
     },
     "execution_count": 7,
     "metadata": {},
     "output_type": "execute_result"
    }
   ],
   "source": [
    "data_B = pd.read_csv('https://vincentarelbundock.github.io/Rdatasets/csv/datasets/iris.csv', sep = ',', decimal='.', index_col=0)\n",
    "\n",
    "data_B.head()"
   ]
  },
  {
   "cell_type": "code",
   "execution_count": 8,
   "id": "communist-canal",
   "metadata": {},
   "outputs": [
    {
     "data": {
      "text/plain": [
       "<AxesSubplot:xlabel='Sepal.Width', ylabel='Density'>"
      ]
     },
     "execution_count": 8,
     "metadata": {},
     "output_type": "execute_result"
    },
    {
     "data": {
      "image/png": "[encoded data removed]",
      "text/plain": [
       "<Figure size 432x288 with 1 Axes>"
      ]
     },
     "metadata": {
      "needs_background": "light"
     },
     "output_type": "display_data"
    }
   ],
   "source": [
    "sns.kdeplot(data = data_B, x = 'Sepal.Width', hue = 'Species')"
   ]
  },
  {
   "cell_type": "markdown",
   "id": "owned-treasure",
   "metadata": {},
   "source": [
    "# Triển khai\n",
    "\n",
    "Sơ đồ UML của hệ thống như sau:\n",
    "\n",
    "!['uml'](factory_method_uml.png)\n",
    "\n",
    "Đầu tiên, Nhi tạo Product interface là IANOVA, và 2 product class là KW_test cà ANOVA vận dụng interface này. Cả 2 đều có 1 method là test, với arguments tương tự nhau."
   ]
  },
  {
   "cell_type": "code",
   "execution_count": 11,
   "id": "cognitive-banner",
   "metadata": {},
   "outputs": [],
   "source": [
    "class IANOVA(ABC):\n",
    "    \n",
    "    @abstractmethod\n",
    "    def test(self):\n",
    "        pass"
   ]
  },
  {
   "cell_type": "code",
   "execution_count": 12,
   "id": "greenhouse-deadline",
   "metadata": {},
   "outputs": [],
   "source": [
    "class ANOVA(IANOVA):\n",
    "    \n",
    "    def __init__(self, data:pd.DataFrame, dv:str, bw:str):\n",
    "        self.name = 'Parametric ANOVA'\n",
    "        self._data = data\n",
    "        self._dv = dv\n",
    "        self._bw = bw\n",
    "    \n",
    "    def test(self) -> pd.DataFrame:\n",
    "        \n",
    "        return pg.parametric.anova(data = self._data, \n",
    "                                   dv = self._dv, \n",
    "                                   between = self._bw)"
   ]
  },
  {
   "cell_type": "code",
   "execution_count": 13,
   "id": "attended-hygiene",
   "metadata": {},
   "outputs": [],
   "source": [
    "class KW_test(IANOVA):\n",
    "    \n",
    "    def __init__(self, data:pd.DataFrame, dv:str, bw:str):\n",
    "        self.name = 'Kruskal-Wallis test'\n",
    "        self._data = data\n",
    "        self._dv = dv\n",
    "        self._bw = bw\n",
    "    \n",
    "    def test(self) -> pd.DataFrame:\n",
    "        \n",
    "        return pg.nonparametric.kruskal(data = self._data, \n",
    "                                   dv = self._dv, \n",
    "                                   between = self._bw)"
   ]
  },
  {
   "cell_type": "markdown",
   "id": "military-rover",
   "metadata": {},
   "source": [
    "Tiếp theo, Nhi tạo Creator interface là ICreator, và class Comparison kế thừa ICreator, sau đó override method factory_method để thực hiện việc kiểm tra giả định phân phối, và gọi product tương ứng"
   ]
  },
  {
   "cell_type": "code",
   "execution_count": 14,
   "id": "chicken-tucson",
   "metadata": {},
   "outputs": [],
   "source": [
    "class ICreator(ABC):\n",
    "    \n",
    "    @abstractmethod\n",
    "    def factory_method(self):\n",
    "        pass"
   ]
  },
  {
   "cell_type": "code",
   "execution_count": 15,
   "id": "normal-agriculture",
   "metadata": {},
   "outputs": [],
   "source": [
    "class Comparison(ICreator):\n",
    "    \n",
    "    def __init__(self, \n",
    "                 data: pd.DataFrame, \n",
    "                 dv: str, \n",
    "                 group: str):\n",
    "        self._data = data\n",
    "        self._dv = dv\n",
    "        self._group = group\n",
    "    \n",
    "    def factory_method(self) -> IANOVA:\n",
    "        \n",
    "        # Normality check\n",
    "        nc = pg.normality(data = self._data, \n",
    "                          dv = self._dv, \n",
    "                          group = self._group)\n",
    "        \n",
    "        normality = all(nc.normal.values)\n",
    "        #Sample_size check\n",
    "        large_size = all(self._data.groupby(self._group)[self._dv].agg(lambda x: x.shape[0]).values > 10)\n",
    "        \n",
    "        if (normality & large_size):\n",
    "            print('Dữ liệu phân bố chuẩn và đủ lớn, dùng ANOVA')\n",
    "            return ANOVA(data = self._data, dv = self._dv, bw = self._group)\n",
    "        else:\n",
    "            print('Dữ liệu không thỏa giả định ANOVA, dùng Kruskal-Wallis')\n",
    "            return KW_test(data = self._data, dv = self._dv, bw = self._group)"
   ]
  },
  {
   "cell_type": "markdown",
   "id": "motivated-flooring",
   "metadata": {},
   "source": [
    "# Sử dụng\n",
    "\n",
    "Ta giải quyết bài toán thứ nhất: So sánh Thickness từ dữ liệu data_A"
   ]
  },
  {
   "cell_type": "code",
   "execution_count": 16,
   "id": "endless-christopher",
   "metadata": {},
   "outputs": [
    {
     "name": "stdout",
     "output_type": "stream",
     "text": [
      "Dữ liệu không thỏa giả định ANOVA, dùng Kruskal-Wallis\n"
     ]
    },
    {
     "data": {
      "text/html": [
       "<div>\n",
       "<style scoped>\n",
       "    .dataframe tbody tr th:only-of-type {\n",
       "        vertical-align: middle;\n",
       "    }\n",
       "\n",
       "    .dataframe tbody tr th {\n",
       "        vertical-align: top;\n",
       "    }\n",
       "\n",
       "    .dataframe thead th {\n",
       "        text-align: right;\n",
       "    }\n",
       "</style>\n",
       "<table border=\"1\" class=\"dataframe\">\n",
       "  <thead>\n",
       "    <tr style=\"text-align: right;\">\n",
       "      <th></th>\n",
       "      <th>Source</th>\n",
       "      <th>ddof1</th>\n",
       "      <th>H</th>\n",
       "      <th>p-unc</th>\n",
       "    </tr>\n",
       "  </thead>\n",
       "  <tbody>\n",
       "    <tr>\n",
       "      <th>Kruskal</th>\n",
       "      <td>Diagnostic</td>\n",
       "      <td>2</td>\n",
       "      <td>31.130711</td>\n",
       "      <td>1.738009e-07</td>\n",
       "    </tr>\n",
       "  </tbody>\n",
       "</table>\n",
       "</div>"
      ],
      "text/plain": [
       "             Source  ddof1          H         p-unc\n",
       "Kruskal  Diagnostic      2  31.130711  1.738009e-07"
      ]
     },
     "execution_count": 16,
     "metadata": {},
     "output_type": "execute_result"
    }
   ],
   "source": [
    "CASE_A = Comparison(data = data_A, dv = 'Thickness', group = 'Diagnostic')\n",
    "\n",
    "CASE_A.factory_method().test()"
   ]
  },
  {
   "cell_type": "markdown",
   "id": "occasional-tours",
   "metadata": {},
   "source": [
    "Ta giải quyết bài toán thứ 2: So sánh DmCO từ dữ liệu data_A"
   ]
  },
  {
   "cell_type": "code",
   "execution_count": 17,
   "id": "parliamentary-excerpt",
   "metadata": {},
   "outputs": [
    {
     "name": "stdout",
     "output_type": "stream",
     "text": [
      "Dữ liệu không thỏa giả định ANOVA, dùng Kruskal-Wallis\n"
     ]
    },
    {
     "data": {
      "text/html": [
       "<div>\n",
       "<style scoped>\n",
       "    .dataframe tbody tr th:only-of-type {\n",
       "        vertical-align: middle;\n",
       "    }\n",
       "\n",
       "    .dataframe tbody tr th {\n",
       "        vertical-align: top;\n",
       "    }\n",
       "\n",
       "    .dataframe thead th {\n",
       "        text-align: right;\n",
       "    }\n",
       "</style>\n",
       "<table border=\"1\" class=\"dataframe\">\n",
       "  <thead>\n",
       "    <tr style=\"text-align: right;\">\n",
       "      <th></th>\n",
       "      <th>Source</th>\n",
       "      <th>ddof1</th>\n",
       "      <th>H</th>\n",
       "      <th>p-unc</th>\n",
       "    </tr>\n",
       "  </thead>\n",
       "  <tbody>\n",
       "    <tr>\n",
       "      <th>Kruskal</th>\n",
       "      <td>Diagnostic</td>\n",
       "      <td>2</td>\n",
       "      <td>8.929143</td>\n",
       "      <td>0.01151</td>\n",
       "    </tr>\n",
       "  </tbody>\n",
       "</table>\n",
       "</div>"
      ],
      "text/plain": [
       "             Source  ddof1         H    p-unc\n",
       "Kruskal  Diagnostic      2  8.929143  0.01151"
      ]
     },
     "execution_count": 17,
     "metadata": {},
     "output_type": "execute_result"
    }
   ],
   "source": [
    "CASE_B = Comparison(data = data_A, dv = 'DmCO', group = 'Diagnostic')\n",
    "\n",
    "CASE_B.factory_method().test()"
   ]
  },
  {
   "cell_type": "markdown",
   "id": "outside-crossing",
   "metadata": {},
   "source": [
    "Ta giải quyết bài toán thứ 3, cho dữ liệu data_B (iris):"
   ]
  },
  {
   "cell_type": "code",
   "execution_count": 18,
   "id": "headed-preliminary",
   "metadata": {},
   "outputs": [
    {
     "name": "stdout",
     "output_type": "stream",
     "text": [
      "Dữ liệu phân bố chuẩn và đủ lớn, dùng ANOVA\n"
     ]
    },
    {
     "data": {
      "text/html": [
       "<div>\n",
       "<style scoped>\n",
       "    .dataframe tbody tr th:only-of-type {\n",
       "        vertical-align: middle;\n",
       "    }\n",
       "\n",
       "    .dataframe tbody tr th {\n",
       "        vertical-align: top;\n",
       "    }\n",
       "\n",
       "    .dataframe thead th {\n",
       "        text-align: right;\n",
       "    }\n",
       "</style>\n",
       "<table border=\"1\" class=\"dataframe\">\n",
       "  <thead>\n",
       "    <tr style=\"text-align: right;\">\n",
       "      <th></th>\n",
       "      <th>Source</th>\n",
       "      <th>ddof1</th>\n",
       "      <th>ddof2</th>\n",
       "      <th>F</th>\n",
       "      <th>p-unc</th>\n",
       "      <th>np2</th>\n",
       "    </tr>\n",
       "  </thead>\n",
       "  <tbody>\n",
       "    <tr>\n",
       "      <th>0</th>\n",
       "      <td>Species</td>\n",
       "      <td>2</td>\n",
       "      <td>147</td>\n",
       "      <td>49.16004</td>\n",
       "      <td>4.492017e-17</td>\n",
       "      <td>0.400783</td>\n",
       "    </tr>\n",
       "  </tbody>\n",
       "</table>\n",
       "</div>"
      ],
      "text/plain": [
       "    Source  ddof1  ddof2         F         p-unc       np2\n",
       "0  Species      2    147  49.16004  4.492017e-17  0.400783"
      ]
     },
     "execution_count": 18,
     "metadata": {},
     "output_type": "execute_result"
    }
   ],
   "source": [
    "CASE_C = Comparison(data = data_B, dv = 'Sepal.Width', group = 'Species')\n",
    "\n",
    "CASE_C.factory_method().test()"
   ]
  },
  {
   "cell_type": "markdown",
   "id": "advisory-wrestling",
   "metadata": {},
   "source": [
    "# Ứng dụng\n",
    "\n",
    "Mẫu thiết kế Factory Method có thể áp dụng trong các hoàn cảnh:\n",
    "\n",
    "+ Khi ta chưa tiên liệu được về mức độ phụ thuộc (vào thư viện bên ngoài) của các objects tham gia trong quy trình, lúc này việc tách rời phần code sử dụng object và nội dung method sẽ cho phép việc thiết kế và sửa chữa code dễ dàng hơn. \n",
    "\n",
    "\n",
    "+ Khi ta muốn đơn giản hóa quá trình sử dụng của người dùng, qua việc họ chỉ tương tác với 1 giao diện, 1 số ít các câu lệnh đơn giản thay vì phải gọi đích danh tên Class và khởi tạo object trực tiếp từ class đó. \n",
    "\n",
    "\n",
    "+ Khi ta muốn cung cấp cho người dùng một cấu trúc cho phép mở rộng  được qua việc bổ sung thêm các bộ phận bên trong, một cách độc lập với giao diện bên ngoài.\n",
    "\n",
    "\n",
    "+ Khi có thể đạt được mục tiêu bằng nhiều phương pháp khác nhau, với khả năng lựa chọn phương pháp phù hợp cho tình huống cụ thể và ta muốn triển khai chúng độc lập với công đoạn sử dụng.\n",
    "\n",
    "\n",
    "# Ưu và nhược điểm\n",
    "\n",
    "**Ưu điểm**: \n",
    "\n",
    "+ Tách biệt giữa phần code khởi tạo object và phần code sử dụng object được tạo ra. Người dùng không cần phải nắm rõ cấu trúc chương trình và vai trò của từng Product để khởi tạo object trực tiếp, nhưng chỉ cần tương tác với 1 giao diện trừu tượng để nhận kết quả.\n",
    "\n",
    "\n",
    "+ Tuân thủ quy tắc Single Responsibility, đảm bảo mỗi class, mỗi method chỉ đảm nhận một nhiệm vụ duy nhất, giúp cho việc bảo trì code được dễ dàng hơn.\n",
    "\n",
    "\n",
    "+ Tuân thủ quy tắc Open/Close: cho phép mở rộng tính năng cho chương trình mà không cần thay đổi nội dung code trong những class đã có.\n",
    "\n",
    "\n",
    "**Nhược điểm**: \n",
    "\n",
    "Cấu trúc chương trình trở nên phức tạp hơn, cần nhiều class thứ cấp (subclass) để triển khai một công đoạn. "
   ]
  }
 ],
 "metadata": {
  "kernelspec": {
   "display_name": "Python 3",
   "language": "python",
   "name": "python3"
  },
  "language_info": {
   "codemirror_mode": {
    "name": "ipython",
    "version": 3
   },
   "file_extension": ".py",
   "mimetype": "text/x-python",
   "name": "python",
   "nbconvert_exporter": "python",
   "pygments_lexer": "ipython3",
   "version": "3.8.5"
  },
  "toc": {
   "base_numbering": 1,
   "nav_menu": {},
   "number_sections": true,
   "sideBar": true,
   "skip_h1_title": false,
   "title_cell": "Table of Contents",
   "title_sidebar": "Contents",
   "toc_cell": false,
   "toc_position": {},
   "toc_section_display": true,
   "toc_window_display": false
  },
  "varInspector": {
   "cols": {
    "lenName": 16,
    "lenType": 16,
    "lenVar": 40
   },
   "kernels_config": {
    "python": {
     "delete_cmd_postfix": "",
     "delete_cmd_prefix": "del ",
     "library": "var_list.py",
     "varRefreshCmd": "print(var_dic_list())"
    },
    "r": {
     "delete_cmd_postfix": ") ",
     "delete_cmd_prefix": "rm(",
     "library": "var_list.r",
     "varRefreshCmd": "cat(var_dic_list()) "
    }
   },
   "types_to_exclude": [
    "module",
    "function",
    "builtin_function_or_method",
    "instance",
    "_Feature"
   ],
   "window_display": false
  }
 },
 "nbformat": 4,
 "nbformat_minor": 5
}
