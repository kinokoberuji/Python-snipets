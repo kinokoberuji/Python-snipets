{
 "cells": [
  {
   "cell_type": "markdown",
   "id": "radio-brief",
   "metadata": {},
   "source": [
    "# Các mẫu thiết kế GOF : Iterator\n",
    "\n",
    "**BS.Lê Ngọc Khả Nhi**\n",
    "\n",
    "\n",
    "# Giới thiệu\n",
    "\n",
    "Iterator là một mẫu thiết kế thuộc lớp Hành vi, nó cho phép thiết lập một quy trình dựa trên cơ chế liệt kê tuần tự các phần tử trong một tập hợp (collection) nhưng ẩn giấu cơ chế này đối với người dùng. Khi sử dụng, người dùng chỉ cần gọi các method đơn giản để thi hành quy trình mà không cần biết đến bản chất của collection (cấu trúc dữ liệu gì, vận hành ra sao...).\n",
    "\n",
    "# Thí dụ minh họa\n",
    "\n",
    "Khi vẽ biểu đồ thống kê và muốn tô màu theo phân nhóm, ta thường phải chuẩn bị một phổ màu dưới dạng dictionary có cấu trúc {key: hexcolor value} với key là những bậc giá trị của 1 biến phân loại, còn hexcolor value là mã màu thập lục phân. Sau đó, sử dụng vòng lặp ta có thể vẽ các layer khác nhau bằng matplotlib cho mỗi phân nhóm. \n",
    "\n",
    "Một chuyên viên thống kê khá lười biếng (mà những người lười thường rất thông minh), muốn dùng một class để tự động tạo ra dictionary phổ màu cho một danh sách string bất kì. Anh ta có thể dùng mẫu thiết kế Iterator để làm việc này như sau:\n",
    "\n",
    "# Giải quyết bằng thiết kế Iterator\n",
    "\n",
    "Theo lý thuyết, quy trình iteration trên một collection cần 2 methods next() và done(), method next() sẽ tuần tự truy xuất mỗi phần tử trong tập hợp, method done() kiểm tra xem đã khai thác đến phần tử sau cùng hay chưa, nếu không còn phần tử nào, nó sẽ xuất ra giá trị True.\n",
    "\n",
    "Tuy nhiên, Python đã dựng sẵn cho chúng ta protocol iteration và hỗ trợ quy trình Iteration một cách phổ quát. Đặc biệt, Python không dùng method done() mà chỉ dùng 1 method next() và cơ chế Exception. \n",
    "\n",
    "Khi triển khai mẫu thiết kế Iterator, ta cần 2 abstract base class là Iterator và Iterable từ module collections.abc; Chương trình có 2 bộ phận: 1 class có vai trò là iterator, nó kế thừa  abstract base class Iterator, để có thể vận hành method next() bên trong; 1 class thứ hai kế thừa abstract base class Iterable, nó có vai trò chứa collection, làm đối tượng cho class Iterator khai thác, và dùng method iter() để tạo ra 1 instance của class Iterator. \n",
    "\n",
    "Nói về collection, đó là một cấu trúc dữ liệu, từ đơn giản, như list, set, tuple... đến phức tạp, như dictionary, tree, graph, ...Collection nằm trong class Iterable như 1 thuộc tính. Ta có thể gia công thêm những method cho phép thay đổi, cập nhật nội dung bên trong collection, thí dụ thêm/bớt phần tử.\n",
    "\n",
    "Trong trường hợp hiện tại, tính năng xuất ra phổ màu sẽ được thực thi thông qua một vài method khác, thí dụ get_color_palette() xuất ra dictionary ta cần, hay show_color_palette, hiển thị phổ màu một cách trực quan thành hình vẽ.\n",
    "\n",
    "## Cấu trúc module:\n",
    "\n",
    "Sơ đồ UML của hệ thống như sau:\n",
    "\n",
    "!['uml'](Iterator_UML.png)\n",
    "\n",
    "Nội dung của code nằm trong module builder.py tại: https://github.com/kinokoberuji/Python-snipets/blob/master/GOF/Iterator/Iterator.py"
   ]
  },
  {
   "cell_type": "code",
   "execution_count": 10,
   "id": "stuck-hunger",
   "metadata": {},
   "outputs": [],
   "source": [
    "from __future__ import annotations\n",
    "from typing import List, Dict\n",
    "\n",
    "import seaborn as sns\n",
    "import matplotlib.pyplot as plt\n",
    "\n",
    "from collections.abc import Iterable, Iterator\n",
    "\n",
    "# Vận dụng mẫu thiết kế Iterator để tạo một phổ màu từ một tập hợp n keys\n",
    "\n",
    "class ColorIterator(Iterator):\n",
    "\n",
    "    \"\"\"Class Iterator\"\"\"\n",
    "\n",
    "    def __init__(self, key_lst: Color_Collection, palette: str = \"husl\") -> None:\n",
    "\n",
    "        self.key_lst = key_lst\n",
    "        self.index = 0\n",
    "        self.colors = sns.color_palette(palette, len(key_lst)).as_hex()\n",
    "\n",
    "    def __next__(self) -> Dict[str, str]:\n",
    "        try:\n",
    "            key = self.key_lst[self.index]\n",
    "            color = self.colors[self.index]\n",
    "            self.index += 1\n",
    "            return {key: color}\n",
    "\n",
    "        except IndexError:\n",
    "            raise StopIteration()\n",
    "\n",
    "\n",
    "class Color_Collection(Iterable):\n",
    "\n",
    "    \"\"\"Class quản lý tập hợp keys và tạo phổ màu\"\"\"\n",
    "\n",
    "    def __init__(self, key_lst: List[str]) -> None:\n",
    "        self.key_lst = key_lst\n",
    "\n",
    "    def __iter__(self, *args, **kwargs) -> ColorIterator:\n",
    "        return ColorIterator(self.key_lst, *args, **kwargs)\n",
    "\n",
    "    def add_item(self, key: str) -> None:\n",
    "        self.key_lst.append(key)\n",
    "\n",
    "    def remove_var(self, key: str) -> None:\n",
    "        self.key_lst.remove(key)\n",
    "\n",
    "    def __len__(self) -> int:\n",
    "        return len(self.key_lst)\n",
    "\n",
    "    def get_color_palette(self, *args, **kwargs) -> Dict[str, str]:\n",
    "\n",
    "        if not self.key_lst:\n",
    "            raise ValueError(\"Lỗi: key list rỗng\")\n",
    "\n",
    "        color_dict = {}\n",
    "        for color in ColorIterator(self.key_lst, *args, **kwargs):\n",
    "            color_dict.update(color)\n",
    "\n",
    "        return color_dict\n",
    "\n",
    "    def show_color_palette(self, *args, **kwargs) -> None:\n",
    "        color_dict = self.get_color_palette(*args, **kwargs)\n",
    "        sns.palplot(sns.color_palette(list(color_dict.values())))\n",
    "        plt.show()\n",
    "\n",
    "    def __repr__(self) -> str:\n",
    "        return f\"Phổ màu cho tập hợp ({self.key_lst})\""
   ]
  },
  {
   "cell_type": "markdown",
   "id": "broken-donor",
   "metadata": {},
   "source": [
    "# Sử dụng chương trình"
   ]
  },
  {
   "cell_type": "code",
   "execution_count": 1,
   "id": "unavailable-reason",
   "metadata": {},
   "outputs": [],
   "source": [
    "from Iterator import *"
   ]
  },
  {
   "cell_type": "markdown",
   "id": "internal-brick",
   "metadata": {},
   "source": [
    "Giả sử ta có x là 1 biến phân nhóm có 6 bậc giá trị"
   ]
  },
  {
   "cell_type": "code",
   "execution_count": 5,
   "id": "heard-brooklyn",
   "metadata": {},
   "outputs": [],
   "source": [
    "import pandas as pd\n",
    "\n",
    "def simulate_cat_serie(n: int, levels: int) -> pd.Series:\n",
    "    \"\"\"\n",
    "    Simulate a pandas series of n observations of categorical data with levels levels of values\n",
    "    \"\"\"\n",
    "    return pd.Series(np.random.randint(0, levels, n))"
   ]
  },
  {
   "cell_type": "code",
   "execution_count": 8,
   "id": "likely-conditioning",
   "metadata": {},
   "outputs": [
    {
     "data": {
      "text/plain": [
       "0     A\n",
       "1     B\n",
       "2     C\n",
       "3     D\n",
       "4     E\n",
       "     ..\n",
       "95    B\n",
       "96    D\n",
       "97    D\n",
       "98    C\n",
       "99    A\n",
       "Length: 100, dtype: object"
      ]
     },
     "execution_count": 8,
     "metadata": {},
     "output_type": "execute_result"
    }
   ],
   "source": [
    "x = simulate_cat_serie(100, 6)\n",
    "\n",
    "x = x.map({k:v for v,k in zip(list('ABCDEF'),x.unique())})\n",
    "\n",
    "x"
   ]
  },
  {
   "cell_type": "code",
   "execution_count": 9,
   "id": "scientific-payment",
   "metadata": {},
   "outputs": [
    {
     "data": {
      "text/plain": [
       "array(['A', 'B', 'C', 'D', 'E', 'F'], dtype=object)"
      ]
     },
     "execution_count": 9,
     "metadata": {},
     "output_type": "execute_result"
    }
   ],
   "source": [
    "x.unique()"
   ]
  },
  {
   "cell_type": "markdown",
   "id": "diagnostic-latest",
   "metadata": {},
   "source": [
    "Ta muốn tạo một phổ màu cho 6 bậc giá trị A,B,C,D,E,F này\n",
    "\n",
    "Đầu tiên ta khởi tạo pals là 1 instance của class Color_collection (vai trò Iterable, chứa collection)"
   ]
  },
  {
   "cell_type": "code",
   "execution_count": 11,
   "id": "twenty-sydney",
   "metadata": {},
   "outputs": [],
   "source": [
    "pals = Color_Collection([])"
   ]
  },
  {
   "cell_type": "markdown",
   "id": "treated-terror",
   "metadata": {},
   "source": [
    "Khi mới khởi tạo, collection bên trong pals rỗng, ta có thể đưa 6 phần tử A,B,C,D,E,F vào collection như sau;"
   ]
  },
  {
   "cell_type": "code",
   "execution_count": 13,
   "id": "neural-engineering",
   "metadata": {},
   "outputs": [],
   "source": [
    "for k in x.unique():\n",
    "    pals.add_item(k)"
   ]
  },
  {
   "cell_type": "code",
   "execution_count": null,
   "id": "inner-blend",
   "metadata": {},
   "outputs": [],
   "source": [
    "Lúc này, collection đã hình thành, "
   ]
  },
  {
   "cell_type": "code",
   "execution_count": 14,
   "id": "applied-lucas",
   "metadata": {},
   "outputs": [
    {
     "data": {
      "text/plain": [
       "Phổ màu cho tập hợp (['A', 'B', 'C', 'D', 'E', 'F'])"
      ]
     },
     "execution_count": 14,
     "metadata": {},
     "output_type": "execute_result"
    }
   ],
   "source": [
    "pals"
   ]
  },
  {
   "cell_type": "markdown",
   "id": "headed-distribution",
   "metadata": {},
   "source": [
    "Ta có thể dùng 2 method show_color_palette và get_color_palette:\n",
    "\n",
    "Lưu ý: nếu không khai báo argument tên phổ màu, chương trình sẽ mặc định dùng phổ màu husl (phong cách ggpplot2)"
   ]
  },
  {
   "cell_type": "code",
   "execution_count": 15,
   "id": "familiar-adams",
   "metadata": {},
   "outputs": [
    {
     "data": {
      "text/plain": [
       "{'A': '#f77189',\n",
       " 'B': '#bb9832',\n",
       " 'C': '#50b131',\n",
       " 'D': '#36ada4',\n",
       " 'E': '#3ba3ec',\n",
       " 'F': '#e866f4'}"
      ]
     },
     "execution_count": 15,
     "metadata": {},
     "output_type": "execute_result"
    }
   ],
   "source": [
    "pals.get_color_palette()"
   ]
  },
  {
   "cell_type": "code",
   "execution_count": 16,
   "id": "balanced-tomato",
   "metadata": {},
   "outputs": [
    {
     "data": {
      "image/png": "[encoded data removed]",
      "text/plain": [
       "<Figure size 600x100 with 1 Axes>"
      ]
     },
     "metadata": {},
     "output_type": "display_data"
    }
   ],
   "source": [
    "pals.show_color_palette()"
   ]
  },
  {
   "cell_type": "markdown",
   "id": "southwest-audio",
   "metadata": {},
   "source": [
    "Ta hoàn toàn có thể thay đổi phổ màu khác:"
   ]
  },
  {
   "cell_type": "code",
   "execution_count": 20,
   "id": "acquired-texas",
   "metadata": {
    "scrolled": false
   },
   "outputs": [
    {
     "name": "stdout",
     "output_type": "stream",
     "text": [
      "Phổ màu Set1\n"
     ]
    },
    {
     "data": {
      "image/png": "[encoded data removed]",
      "text/plain": [
       "<Figure size 600x100 with 1 Axes>"
      ]
     },
     "metadata": {},
     "output_type": "display_data"
    },
    {
     "name": "stdout",
     "output_type": "stream",
     "text": [
      "Phổ màu Set3\n"
     ]
    },
    {
     "data": {
      "image/png": "[encoded data removed]",
      "text/plain": [
       "<Figure size 600x100 with 1 Axes>"
      ]
     },
     "metadata": {},
     "output_type": "display_data"
    },
    {
     "name": "stdout",
     "output_type": "stream",
     "text": [
      "Phổ màu Spectral\n"
     ]
    },
    {
     "data": {
      "image/png": "[encoded data removed]",
      "text/plain": [
       "<Figure size 600x100 with 1 Axes>"
      ]
     },
     "metadata": {},
     "output_type": "display_data"
    },
    {
     "name": "stdout",
     "output_type": "stream",
     "text": [
      "Phổ màu rainbow\n"
     ]
    },
    {
     "data": {
      "image/png": "[encoded data removed]",
      "text/plain": [
       "<Figure size 600x100 with 1 Axes>"
      ]
     },
     "metadata": {},
     "output_type": "display_data"
    }
   ],
   "source": [
    "for col in ['Set1','Set3','Spectral','rainbow']:\n",
    "    print(f\"Phổ màu {col}\")\n",
    "    pals.show_color_palette(col)"
   ]
  },
  {
   "cell_type": "markdown",
   "id": "worth-hanging",
   "metadata": {},
   "source": [
    "# Nhận xét\n",
    "\n",
    "Iterator là một thiết kế rất mạnh và hiệu quả cho mọi vấn đề có liên quan đến cơ chế truy xuất, hoán chuyển tuần tự các phần tử từ một tập hợp, hoặc ánh xạ 2 tập hợp như trong thí dụ trên. Thiết kế này mang lại những ưu điểm sau đây:\n",
    "\n",
    "Cho phép triển khai và đồng thời che giấu bản chất của những cấu trúc dữ liệu (collection) rất phức tạp (thí dụ stacks, queue, tree, graph..., cũng như các cơ chế truy xuất phức tạp trên cấu trúc dữ liệu đó, thí dụ breadth-first hay depth-first trên tree data structure. Người dùng hoàn toàn không phải bận tâm về những điều này.\n",
    "\n",
    "Thỏa tiêu chí Open/Close: cho phép mở rộng chương trình một cách giản dị: ta có thể triển khai một cấu trúc dữ liệu (collection) mới, một quy trình traversal hiệu quả hơn, và đưa nó vào chương trình mà không ảnh hưởng gì đến những bộ phận khác.\n",
    "\n",
    "Cùng một collection có thể được khai thác song song bởi nhiều iterator object, bởi vì mỗi instance của class Iterator là độc lập, chúng có trạng thái iteration riêng biệt. \n",
    "\n",
    "Tuy nhiên, thiết kế này có thể không cần thiết cho những vấn đề quá đơn giản, cấu trúc collection đơn giản, ta hoàn toàn có thể dùng vòng lặp và viết hàm và mọi thứ đều ổn.\n",
    "\n",
    "Bài thực hành đã hết. Chúc các bạn thực hành vui và hẹn gặp lại !"
   ]
  }
 ],
 "metadata": {
  "kernelspec": {
   "display_name": "Python 3",
   "language": "python",
   "name": "python3"
  },
  "language_info": {
   "codemirror_mode": {
    "name": "ipython",
    "version": 3
   },
   "file_extension": ".py",
   "mimetype": "text/x-python",
   "name": "python",
   "nbconvert_exporter": "python",
   "pygments_lexer": "ipython3",
   "version": "3.8.5"
  },
  "toc": {
   "base_numbering": 1,
   "nav_menu": {},
   "number_sections": true,
   "sideBar": true,
   "skip_h1_title": false,
   "title_cell": "Table of Contents",
   "title_sidebar": "Contents",
   "toc_cell": false,
   "toc_position": {},
   "toc_section_display": true,
   "toc_window_display": false
  },
  "varInspector": {
   "cols": {
    "lenName": 16,
    "lenType": 16,
    "lenVar": 40
   },
   "kernels_config": {
    "python": {
     "delete_cmd_postfix": "",
     "delete_cmd_prefix": "del ",
     "library": "var_list.py",
     "varRefreshCmd": "print(var_dic_list())"
    },
    "r": {
     "delete_cmd_postfix": ") ",
     "delete_cmd_prefix": "rm(",
     "library": "var_list.r",
     "varRefreshCmd": "cat(var_dic_list()) "
    }
   },
   "types_to_exclude": [
    "module",
    "function",
    "builtin_function_or_method",
    "instance",
    "_Feature"
   ],
   "window_display": false
  }
 },
 "nbformat": 4,
 "nbformat_minor": 5
}
