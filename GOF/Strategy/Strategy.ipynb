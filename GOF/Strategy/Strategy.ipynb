{
 "cells": [
  {
   "cell_type": "markdown",
   "id": "certified-traveler",
   "metadata": {},
   "source": [
    "# Các mẫu thiết kế GOF : Strategy\n",
    "\n",
    "**BS. Lê Ngọc Khả Nhi**\n",
    "\n",
    "# Giới thiệu\n",
    "\n",
    "Strategy (Chiến thuật) là một mẫu thiết kế thuộc nhóm Hành vi, cho phép ta thiết lập những quy trình/thuật toán khác nhau nhằm giải quyết cùng một công việc theo nhiều cách thức, và đặt mỗi quy trình này vào những class riêng biệt, có thể hoán chuyển.\n",
    "\n",
    "# Thí dụ minh họa\n",
    "\n",
    "Trong các nghiên cứu lâm sàng chuyên khoa Hô hấp, những thông số chức năng hô hấp, thí dụ FEV1, dung tích phổi, TLCO... thường được khảo sát bằng thang đo chuẩn hóa (Z-scores) hoặc % giá trị dự báo (%Pred), thay vì giá trị đo được.\n",
    "\n",
    "Một số nghiên cứu sinh (NCS) chọn cách nhập liệu trực tiếp Z-score hay %Pred từ phiếu xét nghiệm, thậm chí bỏ qua không lấy giá trị đo được. Tuy nhiên cách làm này không hay, vì ta không chắc chắn về mô hình nào đã được dùng để tính giá trị tham chiếu, và mô hình này có thể khác biệt giữa các thiết bị xét nghiệm. Nó có thể gây ra vấn đề phiền toái sau này, nếu như người bình duyệt yêu cầu tính Z-score theo một mô hình chuyên biệt nào đó. \n",
    "\n",
    "Cách làm chuyên nghiệp và tối ưu, đó là NCS cần nhập liệu đủ các thông số như Giới tính, tuổi, chiều cao, cân nặng..., cho phép ước tính giá trị tham chiếu theo bất kì mô hình nào; kèm theo giá trị đo được thực tế của chỉ số chức năng, thí dụ TLCO hay FEV1. Với dữ liệu này, ta có thể dùng bất cứ mô hình nào để tính Z-score hay %Pred.\n",
    "\n",
    "Nhưng ta sẽ làm điều đó như thế nào ?\n",
    "\n",
    "Trong thí dụ sau, một NCS muốn dùng 2 mô hình khác nhau là Koopman (2011) và BTS-ERS (1993) để tính Z-score cho TLCO riêng cho bệnh nhân trẻ em và người lớn, từ dữ liệu thô của mình. \n",
    "\n",
    "Cách làm đầu tiên mà nhiều bạn nghĩ đến, đó là dùng 1 hàm (function) duy nhất, trong đó phân ra 2 nhánh bằng điều kiện if... else... để tính Z-score từ dữ liệu đầu vào. \n",
    "\n",
    "Nhưng trong bài này, Nhi sẽ hướng dẫn các bạn sử dụng mẫu thiết kế Strategy để giải quyết vấn đề trên bằng cách tiếp cận OOP.\n",
    "\n",
    "# Giải quyết vấn đề bằng thiết kế Strategy\n",
    "\n",
    "Phân tích vấn đề, ta thấy rằng: Tuy chỉ có 1 mục tiêu (kết quả đầu ra) của việc tính toán, đó là Z-scores, nhưng khi áp dụng mô hình Koopman hoặc ERS, ta thực hiện 2 quy trình tính toán rất khác nhau:\n",
    "\n",
    "Ngoài nội dung mô hình khác nhau, phương pháp tính Z-score cũng khác nhau: \n",
    "mô hình Koopman sử dụng phương pháp tính Z-score từ 3 tham số Lambda-Mu-Sigma (phân phối Box-Cox-Cole-Green, BCCG), mô hình ERS tính Z-score từ giá trị trung bình dự báo Mu và Residual SD (RSD), dựa theo giả định phân phối chuẩn hóa.\n",
    "\n",
    "Ta sẽ thiết kế riêng 2 class riêng biệt: Child_strategy và Adult_strategy, mỗi class vận dụng method cùng tên là interpret() để tính Z-score theo 2 mô hình khác nhau.\n",
    "\n",
    "Ta vận hành quy trình thông qua class TLCO_interpreter, bên trong class này có 2 fields là data và strategy, trong đó field strategy có giá trị là 1 trong 2 class Child,Adult ở trên, quy định \"chiến thuật\" hay phương pháp nào sẽ được sử dụng. Ta sẽ dùng property và method setter để strategy có thể được thay đổi ở cấp độ instance, cho phép thay strategy hiện hành bằng 1 strategy khác (hoán chuyển).\n",
    "\n",
    "Sơ đồ UML của chương trình như sau:\n",
    "\n",
    "!['uml'](strategy_UML.png)\n",
    "\n",
    "Nội dung của code nằm tại thư mục Github sau:\n",
    "\n",
    "https://github.com/kinokoberuji/Python-snipets/blob/master/GOF/Strategy/strategy.py\n",
    "\n",
    "2 hàm cho 2 mô hình Koopman và BTS-ERS như sau:"
   ]
  },
  {
   "cell_type": "code",
   "execution_count": null,
   "id": "chubby-track",
   "metadata": {},
   "outputs": [],
   "source": [
    "def koopman_tlco(x : np.array):\n",
    "\n",
    "    '''Mô hình Koopman (2011), dành cho trẻ em từ 5-18 tuổi\n",
    "    ước lượng 3 tham số Mu, Lambda, Sigma của DLCO theo phân phối Gamma chuẩn hóa\n",
    "    '''\n",
    "\n",
    "    sex = x[0]\n",
    "    A = x[1]\n",
    "    H = x[2]\n",
    "    \n",
    "    if sex == 1:\n",
    "        M = (np.exp(34.8048-6.8925*np.log(H)-8.6557*np.log(12*A)+0.1043+1.7893*np.log(H)*np.log(12*A)))/0.3348\n",
    "        L = np.exp(-1.63-0.0348*A)\n",
    "        S = 2/(1/(np.exp(-1.63-0.0348*A))**2)**0.5\n",
    "    else:\n",
    "        M = (np.exp(34.8048-6.8925*np.log(H)-8.6557*np.log(12*A)+1.7893*np.log(H)*np.log(12*A)))/0.3348\n",
    "        L = np.exp(-2.38+0.0276*A)\n",
    "        S = 2/(1/(np.exp(-1.63-0.0348*A))**2)**0.5\n",
    "    \n",
    "    return M,L,S\n",
    "\n",
    "def bts_ers_tlco(x : np.array):\n",
    "\n",
    "    '''Mô hình BTS-ERS (1993) của Cotes và Quanjer,\n",
    "    ước lượng trung bình dự báo Mu của LDCO theo phân phối chuẩn\n",
    "    Áp dụng cho người lớn từ 18-75 tuổi\n",
    "    '''\n",
    "    \n",
    "    sex = x[0]\n",
    "    A = x[1]\n",
    "    H = x[2]\n",
    "        \n",
    "    if sex == 1:\n",
    "        M = 0.325*H-0.2*A-17.6\n",
    "        se = 5.1\n",
    "    else:\n",
    "        M = 0.212*H-0.156*A-2.66\n",
    "        se = 3.69\n",
    "\n",
    "    ULN = M + 1.96 * se\n",
    "    rsd = (ULN - M)/1.96\n",
    "        \n",
    "    return M,rsd"
   ]
  },
  {
   "cell_type": "markdown",
   "id": "cubic-accident",
   "metadata": {},
   "source": [
    "2 hàm cho 2 phương pháp tính Z-scores theo LMS và Mu-RSD như sau:"
   ]
  },
  {
   "cell_type": "code",
   "execution_count": null,
   "id": "subsequent-singing",
   "metadata": {},
   "outputs": [],
   "source": [
    "def RSD_Z_score(feats):\n",
    "\n",
    "    '''Hàm tính điểm Z-score dựa vào Mu và RSD\n",
    "    '''\n",
    "    M = feats[0]\n",
    "    rsd = feats[1]\n",
    "    obs = feats[2]\n",
    "    \n",
    "    Z= (obs-M)/rsd\n",
    "    \n",
    "    return Z\n",
    "\n",
    "def LMS_Z_score(feats):\n",
    "\n",
    "    '''Hàm tính điểm Z-score dựa vào 3 tham số Mu, Lambda, Sigma\n",
    "    '''\n",
    "\n",
    "    M = feats[0]\n",
    "    L = feats[1]\n",
    "    S = feats[2]\n",
    "    obs = feats[3]\n",
    "                \n",
    "    Z=((obs/M)**L-1)*(1/(L*S))\n",
    "\n",
    "    return Z"
   ]
  },
  {
   "cell_type": "markdown",
   "id": "composed-howard",
   "metadata": {},
   "source": [
    "Nội dung thiết kế Strategy:"
   ]
  },
  {
   "cell_type": "code",
   "execution_count": null,
   "id": "another-theory",
   "metadata": {},
   "outputs": [],
   "source": [
    "@dataclass\n",
    "class TLCO_interpreter:\n",
    "\n",
    "    _strategy: Strategy = field(init=True)\n",
    "    data: pd.DataFrame = field(init=True)\n",
    "\n",
    "    @property\n",
    "    def strategy(self) -> Strategy:\n",
    "        return self._strategy\n",
    "    \n",
    "    @strategy.setter\n",
    "    def strategy(self, strategy: Strategy) -> None:\n",
    "        self._strategy = strategy\n",
    "\n",
    "    def transform(self, targ:str) -> pd.DataFrame:\n",
    "\n",
    "        data = self.data\n",
    "        output = self.strategy.interpret(df = data, targ=targ)\n",
    "        return output\n",
    "\n",
    "class Strategy(ABC):\n",
    "\n",
    "    @abstractmethod\n",
    "    def interpret(self, df: pd.DataFrame, targ:str) -> pd.Series:\n",
    "        pass\n",
    "\n",
    "class Child_strategy(Strategy):\n",
    "    \n",
    "    def interpret(self, df: pd.DataFrame, targ: str) -> pd.Series:\n",
    "        \n",
    "        input_df = df[['Sex','Age','Height']]\n",
    "        pred_df = input_df.apply(koopman_tlco, axis=1)\n",
    "\n",
    "        pred_df = pd.DataFrame([[*t] for t in pred_df.values], columns = ['M','L','S'])\n",
    "        pred_df['Obs'] = df[targ].values\n",
    "\n",
    "        Z_df = pred_df.apply(LMS_Z_score, axis = 1)\n",
    "\n",
    "        return Z_df\n",
    "\n",
    "class Adult_strategy(Strategy):\n",
    "\n",
    "    def interpret(self, df: pd.DataFrame, targ: str) -> pd.Series:\n",
    "        \n",
    "        input_df = df[['Sex','Age','Height']]\n",
    "\n",
    "        pred_df = input_df.apply(bts_ers_tlco,axis = 1)\n",
    "        pred_df = pd.DataFrame([[*t] for t in pred_df.values], columns = ['M','RSD'])\n",
    "\n",
    "        pred_df['Obs'] = df[targ]\n",
    "\n",
    "        Z_df = pred_df.apply(RSD_Z_score, axis = 1)\n",
    "\n",
    "        return Z_df"
   ]
  },
  {
   "cell_type": "markdown",
   "id": "neural-subsection",
   "metadata": {},
   "source": [
    "# Sử dụng chương trình\n",
    "\n",
    "Khi sử dụng chương trình, đầu tiên Nhi import module strategy.py và tải dữ liệu tlco.csv\n",
    "\n",
    "Nhi cắt data gốc thành 2 phần cho 2 nhóm Nhi khoa và người lớn"
   ]
  },
  {
   "cell_type": "code",
   "execution_count": 1,
   "id": "declared-bangladesh",
   "metadata": {},
   "outputs": [],
   "source": [
    "from strategy import *"
   ]
  },
  {
   "cell_type": "code",
   "execution_count": 2,
   "id": "medical-evaluation",
   "metadata": {},
   "outputs": [],
   "source": [
    "path = 'https://raw.githubusercontent.com/kinokoberuji/Python-snipets/master/GOF/Strategy/tlco.csv'\n",
    "\n",
    "data = pd.read_csv('tlco.csv',sep = ';', decimal = '.')\n",
    "\n",
    "data_child = data[data['Age'] < 19]\n",
    "data_adult = data[data['Age'] >= 19]"
   ]
  },
  {
   "cell_type": "markdown",
   "id": "accepted-corporation",
   "metadata": {},
   "source": [
    "Ta khởi tạo 2 instance của 2 strategy classes:"
   ]
  },
  {
   "cell_type": "code",
   "execution_count": 26,
   "id": "quality-solomon",
   "metadata": {},
   "outputs": [],
   "source": [
    "child_method = Child_strategy()\n",
    "adult_method = Adult_strategy()"
   ]
  },
  {
   "cell_type": "markdown",
   "id": "fitted-blond",
   "metadata": {},
   "source": [
    "Tiếp theo, ta khởi tạo instance tlco_interp, với data là toàn bộ data gốc, và 1 strategy nào đó, thí dụ là adult_method"
   ]
  },
  {
   "cell_type": "code",
   "execution_count": 34,
   "id": "parental-metro",
   "metadata": {},
   "outputs": [],
   "source": [
    "tlco_interp = TLCO_interpreter(data = data,\n",
    "                               _strategy = adult_method)"
   ]
  },
  {
   "cell_type": "markdown",
   "id": "tired-convertible",
   "metadata": {},
   "source": [
    "Giả định NCS chỉ sử dụng duy nhất 1 mô hình BTS-ERS cho toàn bộ dữ liệu, lúc này ta chỉ cần dùng method transform với argument targ = 'DLCO':"
   ]
  },
  {
   "cell_type": "code",
   "execution_count": 35,
   "id": "subtle-calcium",
   "metadata": {},
   "outputs": [],
   "source": [
    "pred_df = data.copy()\n",
    "\n",
    "pred_df['Z_adult'] = tlco_interp.transform('DLCO').values"
   ]
  },
  {
   "cell_type": "markdown",
   "id": "unexpected-principal",
   "metadata": {},
   "source": [
    "Kết quả có vẻ rất tốt đẹp, ta đã tính được Z-score DLCO cho toàn bộ bệnh nhân, nhưng ở đây ta chỉ áp dụng cùng 1 mô hình BTS-ERS và cùng 1 method Mean-RSD để tính Z_score."
   ]
  },
  {
   "cell_type": "code",
   "execution_count": 36,
   "id": "junior-commission",
   "metadata": {},
   "outputs": [
    {
     "data": {
      "text/html": [
       "<div>\n",
       "<style scoped>\n",
       "    .dataframe tbody tr th:only-of-type {\n",
       "        vertical-align: middle;\n",
       "    }\n",
       "\n",
       "    .dataframe tbody tr th {\n",
       "        vertical-align: top;\n",
       "    }\n",
       "\n",
       "    .dataframe thead th {\n",
       "        text-align: right;\n",
       "    }\n",
       "</style>\n",
       "<table border=\"1\" class=\"dataframe\">\n",
       "  <thead>\n",
       "    <tr style=\"text-align: right;\">\n",
       "      <th></th>\n",
       "      <th>Age</th>\n",
       "      <th>Height</th>\n",
       "      <th>DLCO</th>\n",
       "      <th>Sex</th>\n",
       "      <th>Group</th>\n",
       "      <th>Z_adult</th>\n",
       "    </tr>\n",
       "  </thead>\n",
       "  <tbody>\n",
       "    <tr>\n",
       "      <th>0</th>\n",
       "      <td>20</td>\n",
       "      <td>173.0</td>\n",
       "      <td>34.040744</td>\n",
       "      <td>0</td>\n",
       "      <td>A</td>\n",
       "      <td>0.852234</td>\n",
       "    </tr>\n",
       "    <tr>\n",
       "      <th>1</th>\n",
       "      <td>22</td>\n",
       "      <td>165.0</td>\n",
       "      <td>29.718514</td>\n",
       "      <td>0</td>\n",
       "      <td>A</td>\n",
       "      <td>0.225072</td>\n",
       "    </tr>\n",
       "    <tr>\n",
       "      <th>2</th>\n",
       "      <td>22</td>\n",
       "      <td>168.6</td>\n",
       "      <td>30.369374</td>\n",
       "      <td>0</td>\n",
       "      <td>A</td>\n",
       "      <td>0.194627</td>\n",
       "    </tr>\n",
       "    <tr>\n",
       "      <th>3</th>\n",
       "      <td>23</td>\n",
       "      <td>164.0</td>\n",
       "      <td>29.275962</td>\n",
       "      <td>0</td>\n",
       "      <td>A</td>\n",
       "      <td>0.204868</td>\n",
       "    </tr>\n",
       "    <tr>\n",
       "      <th>4</th>\n",
       "      <td>24</td>\n",
       "      <td>170.0</td>\n",
       "      <td>32.705506</td>\n",
       "      <td>0</td>\n",
       "      <td>A</td>\n",
       "      <td>0.831844</td>\n",
       "    </tr>\n",
       "    <tr>\n",
       "      <th>...</th>\n",
       "      <td>...</td>\n",
       "      <td>...</td>\n",
       "      <td>...</td>\n",
       "      <td>...</td>\n",
       "      <td>...</td>\n",
       "      <td>...</td>\n",
       "    </tr>\n",
       "    <tr>\n",
       "      <th>1269</th>\n",
       "      <td>34</td>\n",
       "      <td>175.0</td>\n",
       "      <td>29.407624</td>\n",
       "      <td>1</td>\n",
       "      <td>B</td>\n",
       "      <td>-0.601446</td>\n",
       "    </tr>\n",
       "    <tr>\n",
       "      <th>1270</th>\n",
       "      <td>16</td>\n",
       "      <td>174.0</td>\n",
       "      <td>28.803467</td>\n",
       "      <td>1</td>\n",
       "      <td>B</td>\n",
       "      <td>-1.362065</td>\n",
       "    </tr>\n",
       "    <tr>\n",
       "      <th>1271</th>\n",
       "      <td>15</td>\n",
       "      <td>183.0</td>\n",
       "      <td>31.617053</td>\n",
       "      <td>1</td>\n",
       "      <td>B</td>\n",
       "      <td>-1.423127</td>\n",
       "    </tr>\n",
       "    <tr>\n",
       "      <th>1272</th>\n",
       "      <td>13</td>\n",
       "      <td>170.0</td>\n",
       "      <td>22.779693</td>\n",
       "      <td>1</td>\n",
       "      <td>B</td>\n",
       "      <td>-2.405943</td>\n",
       "    </tr>\n",
       "    <tr>\n",
       "      <th>1273</th>\n",
       "      <td>77</td>\n",
       "      <td>178.0</td>\n",
       "      <td>22.114172</td>\n",
       "      <td>1</td>\n",
       "      <td>B</td>\n",
       "      <td>-0.536437</td>\n",
       "    </tr>\n",
       "  </tbody>\n",
       "</table>\n",
       "<p>1274 rows × 6 columns</p>\n",
       "</div>"
      ],
      "text/plain": [
       "      Age  Height       DLCO  Sex Group   Z_adult\n",
       "0      20   173.0  34.040744    0     A  0.852234\n",
       "1      22   165.0  29.718514    0     A  0.225072\n",
       "2      22   168.6  30.369374    0     A  0.194627\n",
       "3      23   164.0  29.275962    0     A  0.204868\n",
       "4      24   170.0  32.705506    0     A  0.831844\n",
       "...   ...     ...        ...  ...   ...       ...\n",
       "1269   34   175.0  29.407624    1     B -0.601446\n",
       "1270   16   174.0  28.803467    1     B -1.362065\n",
       "1271   15   183.0  31.617053    1     B -1.423127\n",
       "1272   13   170.0  22.779693    1     B -2.405943\n",
       "1273   77   178.0  22.114172    1     B -0.536437\n",
       "\n",
       "[1274 rows x 6 columns]"
      ]
     },
     "execution_count": 36,
     "metadata": {},
     "output_type": "execute_result"
    }
   ],
   "source": [
    "pred_df"
   ]
  },
  {
   "cell_type": "code",
   "execution_count": 9,
   "id": "adequate-consolidation",
   "metadata": {},
   "outputs": [],
   "source": [
    "import matplotlib.pyplot as plt\n",
    "import seaborn as sns"
   ]
  },
  {
   "cell_type": "code",
   "execution_count": 18,
   "id": "minute-accent",
   "metadata": {},
   "outputs": [],
   "source": [
    "def kde_plot(data: pd.DataFrame, targ: str):\n",
    "    \n",
    "    plt.figure(figsize = (8,4))\n",
    "    \n",
    "    for k in data.Group.unique():\n",
    "        temp_df = data[data['Group'] == k]\n",
    "        sns.kdeplot(temp_df[targ], shade = True, alpha = 0.5, label = k)\n",
    "    \n",
    "    plt.legend()\n",
    "    plt.show()"
   ]
  },
  {
   "cell_type": "code",
   "execution_count": 37,
   "id": "miniature-pierce",
   "metadata": {},
   "outputs": [
    {
     "data": {
      "image/png": "[encoded data removed]",
      "text/plain": [
       "<Figure size 800x400 with 1 Axes>"
      ]
     },
     "metadata": {},
     "output_type": "display_data"
    }
   ],
   "source": [
    "kde_plot(data = pred_df, targ = 'Z_adult')"
   ]
  },
  {
   "cell_type": "markdown",
   "id": "allied-anger",
   "metadata": {},
   "source": [
    "Tiếp theo, ta sẽ hoán chuyển strategy thành child_method cho riêng nhóm bệnh nhân Nhi khoa:\n",
    "\n",
    "Ta nhận thấy rằng chỉ có tên strategy là thay đổi, method được vận hành vẫn là transform():"
   ]
  },
  {
   "cell_type": "code",
   "execution_count": 46,
   "id": "above-specific",
   "metadata": {},
   "outputs": [],
   "source": [
    "pediatric_interp = TLCO_interpreter(data = data_child, \n",
    "                                    _strategy = child_method)\n",
    "\n",
    "child_pred = data_child.copy()\n",
    "\n",
    "child_pred['Z-score'] = pediatric_interp.transform('DLCO').values"
   ]
  },
  {
   "cell_type": "code",
   "execution_count": 47,
   "id": "elegant-binary",
   "metadata": {},
   "outputs": [
    {
     "data": {
      "image/png": "[encoded data removed]",
      "text/plain": [
       "<Figure size 800x400 with 1 Axes>"
      ]
     },
     "metadata": {},
     "output_type": "display_data"
    }
   ],
   "source": [
    "kde_plot(data = child_pred, targ = 'Z-score')"
   ]
  },
  {
   "cell_type": "markdown",
   "id": "fundamental-differential",
   "metadata": {},
   "source": [
    "Giả định ban đầu ta dùng 1 instance tlco_interp với method là child_method, cho dữ liệu data cho toàn bộ bệnh nhân"
   ]
  },
  {
   "cell_type": "code",
   "execution_count": 39,
   "id": "facial-category",
   "metadata": {},
   "outputs": [],
   "source": [
    "tlco_interp = TLCO_interpreter(data = data, \n",
    "                           _strategy = child_method)"
   ]
  },
  {
   "cell_type": "markdown",
   "id": "egyptian-subject",
   "metadata": {},
   "source": [
    "Ta có thể hoán chuyển strategy và data cho instance tlco_interp như sau:\n",
    "\n",
    "Gán data_adult cho field data,\n",
    "\n",
    "Gán adult_method cho field strategy\n",
    "\n",
    "Lúc này, instance tlco_interp sẵn sàng dùng cho đối tượng bệnh nhân người lớn:"
   ]
  },
  {
   "cell_type": "code",
   "execution_count": 42,
   "id": "frozen-starter",
   "metadata": {},
   "outputs": [],
   "source": [
    "tlco_interp.data = data_adult\n",
    "\n",
    "tlco_interp.strategy = adult_method # setter "
   ]
  },
  {
   "cell_type": "code",
   "execution_count": 44,
   "id": "stretch-thanks",
   "metadata": {},
   "outputs": [
    {
     "data": {
      "text/html": [
       "<div>\n",
       "<style scoped>\n",
       "    .dataframe tbody tr th:only-of-type {\n",
       "        vertical-align: middle;\n",
       "    }\n",
       "\n",
       "    .dataframe tbody tr th {\n",
       "        vertical-align: top;\n",
       "    }\n",
       "\n",
       "    .dataframe thead th {\n",
       "        text-align: right;\n",
       "    }\n",
       "</style>\n",
       "<table border=\"1\" class=\"dataframe\">\n",
       "  <thead>\n",
       "    <tr style=\"text-align: right;\">\n",
       "      <th></th>\n",
       "      <th>Age</th>\n",
       "      <th>Height</th>\n",
       "      <th>DLCO</th>\n",
       "      <th>Sex</th>\n",
       "      <th>Group</th>\n",
       "    </tr>\n",
       "  </thead>\n",
       "  <tbody>\n",
       "    <tr>\n",
       "      <th>0</th>\n",
       "      <td>20</td>\n",
       "      <td>173.0</td>\n",
       "      <td>34.040744</td>\n",
       "      <td>0</td>\n",
       "      <td>A</td>\n",
       "    </tr>\n",
       "    <tr>\n",
       "      <th>1</th>\n",
       "      <td>22</td>\n",
       "      <td>165.0</td>\n",
       "      <td>29.718514</td>\n",
       "      <td>0</td>\n",
       "      <td>A</td>\n",
       "    </tr>\n",
       "    <tr>\n",
       "      <th>2</th>\n",
       "      <td>22</td>\n",
       "      <td>168.6</td>\n",
       "      <td>30.369374</td>\n",
       "      <td>0</td>\n",
       "      <td>A</td>\n",
       "    </tr>\n",
       "    <tr>\n",
       "      <th>3</th>\n",
       "      <td>23</td>\n",
       "      <td>164.0</td>\n",
       "      <td>29.275962</td>\n",
       "      <td>0</td>\n",
       "      <td>A</td>\n",
       "    </tr>\n",
       "    <tr>\n",
       "      <th>4</th>\n",
       "      <td>24</td>\n",
       "      <td>170.0</td>\n",
       "      <td>32.705506</td>\n",
       "      <td>0</td>\n",
       "      <td>A</td>\n",
       "    </tr>\n",
       "    <tr>\n",
       "      <th>...</th>\n",
       "      <td>...</td>\n",
       "      <td>...</td>\n",
       "      <td>...</td>\n",
       "      <td>...</td>\n",
       "      <td>...</td>\n",
       "    </tr>\n",
       "    <tr>\n",
       "      <th>1266</th>\n",
       "      <td>84</td>\n",
       "      <td>169.0</td>\n",
       "      <td>12.258934</td>\n",
       "      <td>1</td>\n",
       "      <td>B</td>\n",
       "    </tr>\n",
       "    <tr>\n",
       "      <th>1267</th>\n",
       "      <td>60</td>\n",
       "      <td>170.0</td>\n",
       "      <td>23.560163</td>\n",
       "      <td>1</td>\n",
       "      <td>B</td>\n",
       "    </tr>\n",
       "    <tr>\n",
       "      <th>1268</th>\n",
       "      <td>44</td>\n",
       "      <td>178.0</td>\n",
       "      <td>26.737258</td>\n",
       "      <td>1</td>\n",
       "      <td>B</td>\n",
       "    </tr>\n",
       "    <tr>\n",
       "      <th>1269</th>\n",
       "      <td>34</td>\n",
       "      <td>175.0</td>\n",
       "      <td>29.407624</td>\n",
       "      <td>1</td>\n",
       "      <td>B</td>\n",
       "    </tr>\n",
       "    <tr>\n",
       "      <th>1273</th>\n",
       "      <td>77</td>\n",
       "      <td>178.0</td>\n",
       "      <td>22.114172</td>\n",
       "      <td>1</td>\n",
       "      <td>B</td>\n",
       "    </tr>\n",
       "  </tbody>\n",
       "</table>\n",
       "<p>1234 rows × 5 columns</p>\n",
       "</div>"
      ],
      "text/plain": [
       "      Age  Height       DLCO  Sex Group\n",
       "0      20   173.0  34.040744    0     A\n",
       "1      22   165.0  29.718514    0     A\n",
       "2      22   168.6  30.369374    0     A\n",
       "3      23   164.0  29.275962    0     A\n",
       "4      24   170.0  32.705506    0     A\n",
       "...   ...     ...        ...  ...   ...\n",
       "1266   84   169.0  12.258934    1     B\n",
       "1267   60   170.0  23.560163    1     B\n",
       "1268   44   178.0  26.737258    1     B\n",
       "1269   34   175.0  29.407624    1     B\n",
       "1273   77   178.0  22.114172    1     B\n",
       "\n",
       "[1234 rows x 5 columns]"
      ]
     },
     "execution_count": 44,
     "metadata": {},
     "output_type": "execute_result"
    }
   ],
   "source": [
    "tlco_interp.data"
   ]
  },
  {
   "cell_type": "code",
   "execution_count": 43,
   "id": "alternative-johnston",
   "metadata": {},
   "outputs": [
    {
     "data": {
      "text/plain": [
       "<strategy.Adult_strategy at 0x22955e681f0>"
      ]
     },
     "execution_count": 43,
     "metadata": {},
     "output_type": "execute_result"
    }
   ],
   "source": [
    "tlco_interp.strategy"
   ]
  },
  {
   "cell_type": "code",
   "execution_count": 48,
   "id": "collectible-scheduling",
   "metadata": {},
   "outputs": [
    {
     "data": {
      "image/png": "[encoded data removed]",
      "text/plain": [
       "<Figure size 800x400 with 1 Axes>"
      ]
     },
     "metadata": {},
     "output_type": "display_data"
    }
   ],
   "source": [
    "adult_pred = data_adult.copy()\n",
    "\n",
    "adult_pred['Z-score'] = tlco_interp.transform('DLCO').values\n",
    "\n",
    "kde_plot(data = adult_pred, targ = 'Z-score')"
   ]
  },
  {
   "cell_type": "markdown",
   "id": "communist-bloom",
   "metadata": {},
   "source": [
    "Hình ảnh phân phối của Z-scores khi sử dụng 2 mô hình riêng biệt, nó khác với khi chỉ sử dụng 1 mô hình duy nhất (như ở trên)"
   ]
  },
  {
   "cell_type": "code",
   "execution_count": 49,
   "id": "cross-assault",
   "metadata": {},
   "outputs": [
    {
     "data": {
      "image/png": "[encoded data removed]",
      "text/plain": [
       "<Figure size 800x400 with 1 Axes>"
      ]
     },
     "metadata": {},
     "output_type": "display_data"
    }
   ],
   "source": [
    "kde_plot(data = pd.concat([adult_pred, child_pred]), \n",
    "         targ = 'Z-score')"
   ]
  },
  {
   "cell_type": "markdown",
   "id": "reserved-falls",
   "metadata": {},
   "source": [
    "# Tổng kết\n",
    "\n",
    "## Ứng dụng\n",
    "\n",
    "Mẫu thiết kế Strategy rất đơn giản về kỹ thuật, và có thể hữu ích trong một số hoàn cảnh, khi bạn muốn làm một việc bằng nhiều cách thức khác nhau, hay dùng nhiều biến thể khác nhau của một algorithm qua một class và có thể hoán chuyển giữa các cách thức này, mà không cần phải thay đổi nội dung mã nguồn của class.\n",
    "\n",
    "\n",
    "## Ưu điểm và nhược điểm của mẫu thiết kế Strategy:\n",
    "\n",
    "**Ưu điểm**\n",
    "\n",
    "Tính độc lập giữa hành động tổng quát và hành vi, thỏa mãn nguyên tắc Open/Closed (cho phép phát triển thêm tính năng, hành vi mới nhưng không làm thay đổi nội dung code hiện thời).\n",
    "\n",
    "Khi dùng Strategy, ta tách rời hành động thực hiện quy trình, và nội dung chi tiết/các biến thể của quy trình đó. Điều này cho phép ta tạo ra thêm nhiều biến thể (strategy khác) một cách độc lập với tiến trình sử dụng. Trong thí dụ trên, nếu một ngày đẹp trời nào đó chuyên gia bình duyệt yêu cầu NCS sử dụng mô hình tham chiếu GLI 2017 của ATS/ERS, NCS chỉ cần viết thêm 1 class GLI_strategy mới, nhưng không cần phải thay đổi mã nguồn của class TLCO_Interpreter.\n",
    "\n",
    "Có thể hoán chuyển strategy field dễ dàng ở cấp độ instance/object; Có thể thiết kế theo inheritance hoặc composition\n",
    "\n",
    "Mẫu thiết kế này cũng cho phép ta thay thế những cấu trúc điều kiện if...else phức tạp mà ta vẫn thường thấy nếu chỉ dùng 1 hàm hay method duy nhất cho nhiều hoàn cảnh khác nhau.\n",
    "\n",
    "**Nhược điểm**\n",
    "\n",
    "Có thể tạo ra quá nhiều class nhỏ, mà nội dung chỉ khác biệt chút ít, nên cân nhắc về sự cần thiết mở rộng về lâu dài và sự ngắn gọn tinh giản của mã nguồn hiện hành để lựa chọn giữa hàm đơn và OOP dùng mẫu Strategy. Nếu bạn chuộng lập trình hàm, có thể dùng hàm lambda để thay thế cho Strategy pattern (Hàm lambda cũng cho phép gọi những method khác nhau trên cùng dữ liệu đầu vào)\n",
    "\n",
    "Người dùng cần được thông tin về sự tồn tại của nhiều strategies khác nhau, và sự khác biệt về hành vi giữa chúng.\n",
    "\n",
    "Bài thực hành tạm dừng, chúc các bạn học vui và hẹn gặp lại."
   ]
  }
 ],
 "metadata": {
  "kernelspec": {
   "display_name": "Python 3",
   "language": "python",
   "name": "python3"
  },
  "language_info": {
   "codemirror_mode": {
    "name": "ipython",
    "version": 3
   },
   "file_extension": ".py",
   "mimetype": "text/x-python",
   "name": "python",
   "nbconvert_exporter": "python",
   "pygments_lexer": "ipython3",
   "version": "3.8.5"
  },
  "toc": {
   "base_numbering": 1,
   "nav_menu": {},
   "number_sections": true,
   "sideBar": true,
   "skip_h1_title": false,
   "title_cell": "Table of Contents",
   "title_sidebar": "Contents",
   "toc_cell": false,
   "toc_position": {},
   "toc_section_display": true,
   "toc_window_display": false
  },
  "varInspector": {
   "cols": {
    "lenName": 16,
    "lenType": 16,
    "lenVar": 40
   },
   "kernels_config": {
    "python": {
     "delete_cmd_postfix": "",
     "delete_cmd_prefix": "del ",
     "library": "var_list.py",
     "varRefreshCmd": "print(var_dic_list())"
    },
    "r": {
     "delete_cmd_postfix": ") ",
     "delete_cmd_prefix": "rm(",
     "library": "var_list.r",
     "varRefreshCmd": "cat(var_dic_list()) "
    }
   },
   "types_to_exclude": [
    "module",
    "function",
    "builtin_function_or_method",
    "instance",
    "_Feature"
   ],
   "window_display": false
  }
 },
 "nbformat": 4,
 "nbformat_minor": 5
}
