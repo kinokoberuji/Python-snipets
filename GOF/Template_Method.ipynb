{
 "cells": [
  {
   "cell_type": "markdown",
   "id": "serious-coast",
   "metadata": {},
   "source": [
    "# Các mẫu thiết kế: Template Method\n",
    "\n",
    "**Bs. Lê Ngọc Khả Nhi**\n",
    "\n",
    "# Giới thiệu\n",
    "\n",
    "Khi viết code để làm phân tích dữ liệu, chắc các bạn cũng nhận ra rằng một số phân tích đều áp dụng một quy trình tương tự nhau, thí dụ phân tích hồi quy đa biến cho nghiên cứu diễn dịch thường có 3 bước: Centering dữ liệu đầu vào để trung bình dịch chuyển về 0; sau đó khớp một mô hình; sau cùng là báo cáo nội dung mô hình. Tuy nhiên khi áp dụng cho các loại mô hình khác nhau, thí dụ Logistic, Gaussian, Gamma..., nội dung mỗi quy trình cần được thay đổi chút ít cho phù hợp. Thí dụ với hồi quy Gamma, ta không thể centering biến kết quả vì kết quả phải là giá trị dương; tương tự, với hồi quy logistic khi báo cáo kết quả ta cần tính thêm Odds-ratio...\n",
    "\n",
    "Trong bài này, Nhi sẽ giới thiệu về một mẫu thiết kế OOP rất dơn giản và tiện lợi cho quy trình như vậy, đó là Template Method.\n",
    "\n",
    "**Template Method** là một mẫu thiết kế thuộc nhóm “Hành vi”, với cơ chế là sử dụng một superclass để triển khai một quy trình gồm nhiều công đoạn dưới dạng methods, nhưng cho phép những subclass thay đổi hành vi một phần các methods này để thích nghi với nhiều hoàn cảnh áp dụng khác nhau.\n",
    "\n",
    "Template Method là một mẫu thiết kế thông dụng trong ngôn ngữ Python. Đây là mô thức được ưa chuộng bởi nhiều lập trình viên khi phải xây dựng một quy trình mà sau đó sẽ được áp dụng trong nhiều hoàn cảnh khác nhau theo cùng trình tự, nhưng mỗi lần như vậy cần thay đổi vài công đoạn để tương thích với hoàn cảnh mới. Sự thông dụng của Template Method còn vì nó rất dễ triển khai (chỉ dùng tính năng inheritance). \n",
    "\n",
    "# Cách triển khai\n",
    "\n",
    "Đầu tiên, ta phân tích nội dung của quy trình cần thực thi, xem có khả năng phân rã nó ra thành từng mảnh nhỏ riêng biệt và theo trình tự hay không ? Trong đó, những công đoạn nào là chung cho mọi hoàn cảnh áp dụng nhưng yêu cầu ít nhiều thay đổi để thích nghi trong từng hoàn cảnh ?\n",
    "\n",
    "Dựa vào danh sách công đoạn này, ta thiết kế một abstract base class gồm những abstract methods tương ứng cho từng công đoạn cần được thay đổi trong quy trình. Ta cũng có quyền tạo những method không thuộc loại abstract method, những method này sẽ được kế thừa chung và bất biến cho mọi subclass.\n",
    "\n",
    "Tiếp theo, tương ứng với mỗi hoàn cảnh áp dụng khác nhau, ta thiết kế cho nó 1 concrete subclass, kế thừa tất cả methods (bao gồm abstract method là các quy trình có thể thay đổi được) từ abstract class, sau đó tùy biến nội dung bên trong một vài methods để thích nghi cho hoàn cảnh chuyên biệt này.\n",
    "\n",
    "# Thí dụ minh họa\n",
    "\n",
    "Trong thí dụ minh họa sau đây, giả định một bác sĩ đang thực hiện kế hoạch phân tích với 3 loại mô hình hồi quy khác nhau:\n",
    "\n",
    "+ Mô hình hồi quy logistic nhằm khảo sát liên hệ giữa 4 biomarkers A,B,C,D và biến kết quả nhị phân: chẩn đoán Diagnosis,\n",
    "\n",
    "+ Mô hình hồi quy Gamma nhằm khảo sát liên hệ giữa 4 biomarkers A,B,C,D và một điểm số lâm sàng Score, được mô tả bằng phân phối Gamma.\n",
    "\n",
    "+ Mô hình hồi quy Gaussian nhằm khảo sát liên hệ giữa 4 biomarkers A,B,C,D và một điểm số lâm sàng Score, mô tả bởi phân phối chuẩn\n",
    "\n",
    "Các bạn tải dữ liệu từ github của Nhi: \n",
    "\n",
    "https://raw.githubusercontent.com/kinokoberuji/Python-snipets/master/GOF/Template_data.csv\n"
   ]
  },
  {
   "cell_type": "code",
   "execution_count": 1,
   "id": "provincial-eating",
   "metadata": {},
   "outputs": [],
   "source": [
    "warning_status = \"ignore\"\n",
    "import warnings\n",
    "warnings.filterwarnings(warning_status)\n",
    "with warnings.catch_warnings():\n",
    "    warnings.filterwarnings(warning_status, category=DeprecationWarning)\n",
    "\n",
    "import numpy as np\n",
    "import pandas as pd\n",
    "from patsy import dmatrices\n",
    "\n",
    "from sklearn.preprocessing import MinMaxScaler, StandardScaler\n",
    "\n",
    "import statsmodels.api as sm\n",
    "import statsmodels\n",
    "\n",
    "from abc import ABC, abstractmethod"
   ]
  },
  {
   "cell_type": "code",
   "execution_count": 2,
   "id": "coupled-curtis",
   "metadata": {},
   "outputs": [
    {
     "data": {
      "text/html": [
       "<div>\n",
       "<style scoped>\n",
       "    .dataframe tbody tr th:only-of-type {\n",
       "        vertical-align: middle;\n",
       "    }\n",
       "\n",
       "    .dataframe tbody tr th {\n",
       "        vertical-align: top;\n",
       "    }\n",
       "\n",
       "    .dataframe thead th {\n",
       "        text-align: right;\n",
       "    }\n",
       "</style>\n",
       "<table border=\"1\" class=\"dataframe\">\n",
       "  <thead>\n",
       "    <tr style=\"text-align: right;\">\n",
       "      <th></th>\n",
       "      <th>Marker_A</th>\n",
       "      <th>Marker_B</th>\n",
       "      <th>Marker_C</th>\n",
       "      <th>Marker_D</th>\n",
       "      <th>Marker_E</th>\n",
       "      <th>Score</th>\n",
       "      <th>Diagnosis</th>\n",
       "    </tr>\n",
       "  </thead>\n",
       "  <tbody>\n",
       "    <tr>\n",
       "      <th>0</th>\n",
       "      <td>31.159420</td>\n",
       "      <td>8.461538</td>\n",
       "      <td>0.000000</td>\n",
       "      <td>27.883212</td>\n",
       "      <td>21.941176</td>\n",
       "      <td>5.378085</td>\n",
       "      <td>0</td>\n",
       "    </tr>\n",
       "    <tr>\n",
       "      <th>1</th>\n",
       "      <td>21.739130</td>\n",
       "      <td>10.000000</td>\n",
       "      <td>10.416667</td>\n",
       "      <td>9.598540</td>\n",
       "      <td>6.000000</td>\n",
       "      <td>5.655489</td>\n",
       "      <td>0</td>\n",
       "    </tr>\n",
       "    <tr>\n",
       "      <th>2</th>\n",
       "      <td>10.144928</td>\n",
       "      <td>19.230769</td>\n",
       "      <td>10.416667</td>\n",
       "      <td>1.934307</td>\n",
       "      <td>16.752941</td>\n",
       "      <td>5.895959</td>\n",
       "      <td>0</td>\n",
       "    </tr>\n",
       "    <tr>\n",
       "      <th>3</th>\n",
       "      <td>15.942029</td>\n",
       "      <td>8.461538</td>\n",
       "      <td>33.333333</td>\n",
       "      <td>18.138686</td>\n",
       "      <td>9.929412</td>\n",
       "      <td>5.407077</td>\n",
       "      <td>0</td>\n",
       "    </tr>\n",
       "    <tr>\n",
       "      <th>4</th>\n",
       "      <td>0.000000</td>\n",
       "      <td>0.000000</td>\n",
       "      <td>18.750000</td>\n",
       "      <td>0.802920</td>\n",
       "      <td>9.611765</td>\n",
       "      <td>7.102900</td>\n",
       "      <td>0</td>\n",
       "    </tr>\n",
       "    <tr>\n",
       "      <th>...</th>\n",
       "      <td>...</td>\n",
       "      <td>...</td>\n",
       "      <td>...</td>\n",
       "      <td>...</td>\n",
       "      <td>...</td>\n",
       "      <td>...</td>\n",
       "      <td>...</td>\n",
       "    </tr>\n",
       "    <tr>\n",
       "      <th>138</th>\n",
       "      <td>38.405797</td>\n",
       "      <td>10.000000</td>\n",
       "      <td>2.083333</td>\n",
       "      <td>5.109489</td>\n",
       "      <td>2.423529</td>\n",
       "      <td>0.509999</td>\n",
       "      <td>0</td>\n",
       "    </tr>\n",
       "    <tr>\n",
       "      <th>139</th>\n",
       "      <td>39.130435</td>\n",
       "      <td>19.230769</td>\n",
       "      <td>4.166667</td>\n",
       "      <td>7.481752</td>\n",
       "      <td>8.200000</td>\n",
       "      <td>0.799632</td>\n",
       "      <td>0</td>\n",
       "    </tr>\n",
       "    <tr>\n",
       "      <th>140</th>\n",
       "      <td>43.478261</td>\n",
       "      <td>23.076923</td>\n",
       "      <td>6.250000</td>\n",
       "      <td>9.963504</td>\n",
       "      <td>7.035294</td>\n",
       "      <td>3.510305</td>\n",
       "      <td>0</td>\n",
       "    </tr>\n",
       "    <tr>\n",
       "      <th>141</th>\n",
       "      <td>45.652174</td>\n",
       "      <td>22.307692</td>\n",
       "      <td>16.666667</td>\n",
       "      <td>27.700730</td>\n",
       "      <td>19.741176</td>\n",
       "      <td>3.030440</td>\n",
       "      <td>0</td>\n",
       "    </tr>\n",
       "    <tr>\n",
       "      <th>142</th>\n",
       "      <td>50.000000</td>\n",
       "      <td>18.461538</td>\n",
       "      <td>12.500000</td>\n",
       "      <td>3.503650</td>\n",
       "      <td>1.482353</td>\n",
       "      <td>1.840704</td>\n",
       "      <td>0</td>\n",
       "    </tr>\n",
       "  </tbody>\n",
       "</table>\n",
       "<p>143 rows × 7 columns</p>\n",
       "</div>"
      ],
      "text/plain": [
       "      Marker_A   Marker_B   Marker_C   Marker_D   Marker_E     Score  \\\n",
       "0    31.159420   8.461538   0.000000  27.883212  21.941176  5.378085   \n",
       "1    21.739130  10.000000  10.416667   9.598540   6.000000  5.655489   \n",
       "2    10.144928  19.230769  10.416667   1.934307  16.752941  5.895959   \n",
       "3    15.942029   8.461538  33.333333  18.138686   9.929412  5.407077   \n",
       "4     0.000000   0.000000  18.750000   0.802920   9.611765  7.102900   \n",
       "..         ...        ...        ...        ...        ...       ...   \n",
       "138  38.405797  10.000000   2.083333   5.109489   2.423529  0.509999   \n",
       "139  39.130435  19.230769   4.166667   7.481752   8.200000  0.799632   \n",
       "140  43.478261  23.076923   6.250000   9.963504   7.035294  3.510305   \n",
       "141  45.652174  22.307692  16.666667  27.700730  19.741176  3.030440   \n",
       "142  50.000000  18.461538  12.500000   3.503650   1.482353  1.840704   \n",
       "\n",
       "     Diagnosis  \n",
       "0            0  \n",
       "1            0  \n",
       "2            0  \n",
       "3            0  \n",
       "4            0  \n",
       "..         ...  \n",
       "138          0  \n",
       "139          0  \n",
       "140          0  \n",
       "141          0  \n",
       "142          0  \n",
       "\n",
       "[143 rows x 7 columns]"
      ]
     },
     "execution_count": 2,
     "metadata": {},
     "output_type": "execute_result"
    }
   ],
   "source": [
    "df = pd.read_csv('Template_data.csv', sep = ';', decimal = '.')\n",
    "\n",
    "df"
   ]
  },
  {
   "cell_type": "markdown",
   "id": "physical-filing",
   "metadata": {},
   "source": [
    "# Triển khai\n",
    "\n",
    "Sơ đồ UML của hệ thống như sau:\n",
    "\n",
    "!['uml'](Template_method_uml.png)\n",
    "\n",
    "Đầu tiên, Nhi tạo Abstract base class GLM, trong đó có method mặc định là init nhận dữ liệu đầu vào và công thức mô hình Y ~ X, và 3 abstract methods là centering, fit_model và report."
   ]
  },
  {
   "cell_type": "code",
   "execution_count": 3,
   "id": "hairy-linux",
   "metadata": {},
   "outputs": [],
   "source": [
    "class GLM(ABC):\n",
    "    \n",
    "    def __init__(self, data: pd.DataFrame, formula: str):\n",
    "        \n",
    "        self.y, self.X = dmatrices(formula_like=formula,\n",
    "                                   data=data, \n",
    "                                   return_type='dataframe')\n",
    "    \n",
    "    @abstractmethod\n",
    "    def centering(self):\n",
    "        pass\n",
    "    \n",
    "    @abstractmethod\n",
    "    def fit_model(self):\n",
    "        pass\n",
    "    \n",
    "    @abstractmethod\n",
    "    def report(self):\n",
    "        pass"
   ]
  },
  {
   "cell_type": "markdown",
   "id": "literary-regular",
   "metadata": {},
   "source": [
    "Tiếp theo, Nhi tạo 3 subclass tương ứng cho 3 loại mô hình cần thực hiện: chúng kế thừa abstract base class (superclass) GLM, như vậy kế thừa luôn method init nên không cần phải làm bước này. Tuy nhiên 3 methods còn lại là centering, fit_model và report sẽ được tùy chỉnh cho mỗi loại mô hình:\n",
    "\n",
    "\n",
    "## Subclass Logistic_reg\n",
    "\n",
    "+ chỉ làm centering cho X\n",
    "\n",
    "+ fit_model dùng sm.Logit\n",
    "\n",
    "+ report : tính thêm Odds_ratio bằng hàm np.exp và in 3 bảng kết quả"
   ]
  },
  {
   "cell_type": "code",
   "execution_count": 4,
   "id": "funky-paragraph",
   "metadata": {},
   "outputs": [],
   "source": [
    "class Logistic_reg(GLM):\n",
    "    \n",
    "    def __repr__(self):\n",
    "        return f\"Subclass mô hình logistic\"\n",
    "        \n",
    "    def centering(self):\n",
    "        \n",
    "        sc = StandardScaler(with_mean=True, with_std=False)\n",
    "        xmat = sc.fit_transform(self.X.iloc[:,1:])\n",
    "        self.X.loc[:,1:] = xmat\n",
    "        print('Trung bình các biến X đã được dịch chuyển về 0')\n",
    "        \n",
    "    \n",
    "    def fit_model(self):\n",
    "        log_model = sm.Logit(self.y, self.X)\n",
    "        \n",
    "        result = log_model.fit()\n",
    "        rep = result.summary2()\n",
    "        rep.tables.append(rep.tables[1].iloc[:,[0,4,5]].apply(np.exp))\n",
    "        rep.tables[2].rename(columns={\"Coef.\": \"Odds-ratio\"}, inplace = True)\n",
    "        \n",
    "        self.rep = rep\n",
    "        \n",
    "        print('Khớp xong  mô hình logistic với dữ liệu')\n",
    "    \n",
    "    def report(self):\n",
    "        \n",
    "        print(self.rep.tables[0].to_string(index=False, header = False))\n",
    "        print('='*30)\n",
    "        print(self.rep.tables[1].to_string())\n",
    "        print('='*30)\n",
    "        print(self.rep.tables[2].to_string())"
   ]
  },
  {
   "cell_type": "markdown",
   "id": "extensive-making",
   "metadata": {},
   "source": [
    "## Subclass Gamma_reg\n",
    "\n",
    "+ Chỉ làm centering cho X,\n",
    "\n",
    "+ fit_model bằng sm.GLM, family là Gamma, link_function là log\n",
    "\n",
    "+ report: exponential cho hệ số hồi quy rồi in 3 bảng kết quả"
   ]
  },
  {
   "cell_type": "code",
   "execution_count": 5,
   "id": "raising-macintosh",
   "metadata": {},
   "outputs": [],
   "source": [
    "class Gamma_reg(GLM):\n",
    "    \n",
    "    def __repr__(self):\n",
    "        return f\"Subclass mô hình hồi quy Gamma\"\n",
    "        \n",
    "    def centering(self):\n",
    "        \n",
    "        sc = StandardScaler(with_mean=True, with_std=False)\n",
    "        xmat = sc.fit_transform(self.X.iloc[:,1:])\n",
    "        self.X.loc[:,1:] = xmat\n",
    "        print('Trung bình các biến X đã được dịch chuyển về 0')\n",
    "        \n",
    "    \n",
    "    def fit_model(self):\n",
    "        regmod = sm.GLM(self.y, self.X, family = sm.families.Gamma(link = statsmodels.genmod.families.links.log))\n",
    "                \n",
    "        result = regmod.fit()\n",
    "        \n",
    "        rep = result.summary2()\n",
    "        rep.tables.append(rep.tables[1].iloc[:,[0,4,5]].apply(np.exp))\n",
    "        rep.tables[2].rename(columns={\"Coef.\": \"Exp(coefs)\"}, inplace = True)\n",
    "        \n",
    "        self.rep = rep\n",
    "        \n",
    "        print('Khớp xong  mô hình hồi quy Gamma với dữ liệu')\n",
    "    \n",
    "    def report(self):\n",
    "        \n",
    "        print(self.rep.tables[0].to_string(index=False, header = False))\n",
    "        print('='*30)\n",
    "        print(self.rep.tables[1].to_string())\n",
    "        print('='*30)\n",
    "        print(self.rep.tables[2].to_string())"
   ]
  },
  {
   "cell_type": "markdown",
   "id": "latin-johns",
   "metadata": {},
   "source": [
    "## Subclass Gaussian_reg\n",
    "\n",
    "+ centering cho cả X và Y\n",
    "\n",
    "+ fit_model bằng sm.GLM đơn giản\n",
    "\n",
    "+ report: chỉ in 2 bảng kết quả "
   ]
  },
  {
   "cell_type": "code",
   "execution_count": 6,
   "id": "rotary-enclosure",
   "metadata": {},
   "outputs": [],
   "source": [
    "class Gaussian_reg(GLM):\n",
    "    \n",
    "    def __repr__(self):\n",
    "        return f\"Subclass mô hình hồi quy tuyến tính\"\n",
    "        \n",
    "    def centering(self):\n",
    "        \n",
    "        sc = StandardScaler(with_mean=True, with_std=False)\n",
    "        xmat = sc.fit_transform(self.X.iloc[:,1:])\n",
    "        self.X.loc[:,1:] = xmat\n",
    "        print('Trung bình các cả X và y đều được dịch chuyển về 0')\n",
    "\n",
    "    def fit_model(self):\n",
    "        regmod = sm.GLM(self.y, self.X)\n",
    "                \n",
    "        result = regmod.fit()\n",
    "        \n",
    "        rep = result.summary2()\n",
    "        \n",
    "        self.rep = rep\n",
    "        \n",
    "        print('Khớp xong  mô hình hồi quy tuyến tính với dữ liệu')\n",
    "    \n",
    "    def report(self):\n",
    "        \n",
    "        print(self.rep.tables[0].to_string(index=False, header = False))\n",
    "        print('='*30)\n",
    "        print(self.rep.tables[1].to_string())"
   ]
  },
  {
   "cell_type": "markdown",
   "id": "lined-exclusion",
   "metadata": {},
   "source": [
    "# Khi sử dụng trên thực tế\n",
    "\n",
    "## Mô hình logistic\n",
    "\n",
    "Đầu tiên, ta dựng mô hình logistic bằng Logistic_reg subclass:"
   ]
  },
  {
   "cell_type": "code",
   "execution_count": 7,
   "id": "southeast-compiler",
   "metadata": {},
   "outputs": [
    {
     "data": {
      "text/plain": [
       "Subclass mô hình logistic"
      ]
     },
     "execution_count": 7,
     "metadata": {},
     "output_type": "execute_result"
    }
   ],
   "source": [
    "log_mod = Logistic_reg(data = df, formula = 'Diagnosis ~ Marker_A + Marker_B + Marker_C + Marker_D')\n",
    "\n",
    "log_mod"
   ]
  },
  {
   "cell_type": "code",
   "execution_count": 8,
   "id": "warming-vancouver",
   "metadata": {},
   "outputs": [
    {
     "name": "stdout",
     "output_type": "stream",
     "text": [
      "Trung bình các biến X đã được dịch chuyển về 0\n"
     ]
    }
   ],
   "source": [
    "log_mod.centering()"
   ]
  },
  {
   "cell_type": "code",
   "execution_count": 9,
   "id": "minimal-providence",
   "metadata": {},
   "outputs": [
    {
     "name": "stdout",
     "output_type": "stream",
     "text": [
      "Optimization terminated successfully.\n",
      "         Current function value: 0.474346\n",
      "         Iterations 6\n",
      "Khớp xong  mô hình logistic với dữ liệu\n"
     ]
    }
   ],
   "source": [
    "log_mod.fit_model()"
   ]
  },
  {
   "cell_type": "code",
   "execution_count": 10,
   "id": "moved-gnome",
   "metadata": {},
   "outputs": [
    {
     "name": "stdout",
     "output_type": "stream",
     "text": [
      "             Model:            Logit Pseudo R-squared:      0.307\n",
      "Dependent Variable:        Diagnosis              AIC:   145.6629\n",
      "              Date: 2021-04-20 18:33              BIC:   160.4772\n",
      "  No. Observations:              143   Log-Likelihood:    -67.831\n",
      "          Df Model:                4          LL-Null:    -97.854\n",
      "      Df Residuals:              138      LLR p-value: 2.8381e-12\n",
      "         Converged:           1.0000            Scale:     1.0000\n",
      "    No. Iterations:           6.0000                             \n",
      "==============================\n",
      "              Coef.  Std.Err.         z         P>|z|    [0.025    0.975]\n",
      "Intercept  0.364817  0.213674  1.707356  8.775594e-02 -0.053976  0.783609\n",
      "Marker_A  -0.081588  0.022415 -3.639908  2.727356e-04 -0.125520 -0.037656\n",
      "Marker_B   0.147219  0.029388  5.009542  5.455972e-07  0.089620  0.204818\n",
      "Marker_C   0.044832  0.022495  1.992952  4.626667e-02  0.000742  0.088921\n",
      "Marker_D   0.055212  0.025259  2.185829  2.882814e-02  0.005705  0.104719\n",
      "==============================\n",
      "           Odds-ratio    [0.025    0.975]\n",
      "Intercept    1.440250  0.947455  2.189360\n",
      "Marker_A     0.921651  0.882038  0.963044\n",
      "Marker_B     1.158608  1.093759  1.227301\n",
      "Marker_C     1.045852  1.000742  1.092994\n",
      "Marker_D     1.056765  1.005721  1.110399\n"
     ]
    }
   ],
   "source": [
    "log_mod.report()"
   ]
  },
  {
   "cell_type": "markdown",
   "id": "light-hospital",
   "metadata": {},
   "source": [
    "## Mô hình Gamma\n",
    "\n",
    "Tiếp theo, ta dựng mô hình hồi quy Gamma bằng Gamma_reg subclass"
   ]
  },
  {
   "cell_type": "code",
   "execution_count": 11,
   "id": "lesser-durham",
   "metadata": {},
   "outputs": [
    {
     "data": {
      "text/plain": [
       "Subclass mô hình hồi quy Gamma"
      ]
     },
     "execution_count": 11,
     "metadata": {},
     "output_type": "execute_result"
    }
   ],
   "source": [
    "gam_mod = Gamma_reg(data = df, formula = 'Score ~ Marker_A + Marker_B + Marker_C + Marker_D')\n",
    "\n",
    "gam_mod"
   ]
  },
  {
   "cell_type": "code",
   "execution_count": 12,
   "id": "discrete-helena",
   "metadata": {},
   "outputs": [
    {
     "name": "stdout",
     "output_type": "stream",
     "text": [
      "Trung bình các biến X đã được dịch chuyển về 0\n"
     ]
    }
   ],
   "source": [
    "gam_mod.centering()"
   ]
  },
  {
   "cell_type": "code",
   "execution_count": 13,
   "id": "defined-powder",
   "metadata": {},
   "outputs": [
    {
     "name": "stdout",
     "output_type": "stream",
     "text": [
      "Khớp xong  mô hình hồi quy Gamma với dữ liệu\n"
     ]
    }
   ],
   "source": [
    "gam_mod.fit_model()"
   ]
  },
  {
   "cell_type": "code",
   "execution_count": 14,
   "id": "selective-antarctica",
   "metadata": {},
   "outputs": [
    {
     "name": "stdout",
     "output_type": "stream",
     "text": [
      "             Model:              GLM            AIC: 1292.9745\n",
      "     Link Function:              log            BIC: -571.0844\n",
      "Dependent Variable:            Score Log-Likelihood:   -641.49\n",
      "              Date: 2021-04-20 18:34        LL-Null:   -682.00\n",
      "  No. Observations:              143       Deviance:    113.79\n",
      "          Df Model:                4   Pearson chi2:      87.9\n",
      "      Df Residuals:              138          Scale:   0.63673\n",
      "            Method:             IRLS                          \n",
      "==============================\n",
      "              Coef.  Std.Err.          z         P>|z|    [0.025    0.975]\n",
      "Intercept  3.513291  0.066728  52.650923  0.000000e+00  3.382507  3.644076\n",
      "Marker_A  -0.035416  0.006413  -5.522931  3.333910e-08 -0.047984 -0.022848\n",
      "Marker_B   0.057170  0.007126   8.022218  1.038528e-15  0.043202  0.071137\n",
      "Marker_C   0.021226  0.006674   3.180342  1.471011e-03  0.008145  0.034307\n",
      "Marker_D   0.021876  0.007441   2.940043  3.281665e-03  0.007292  0.036459\n",
      "==============================\n",
      "           Exp(coefs)     [0.025     0.975]\n",
      "Intercept   33.558544  29.444496  38.247416\n",
      "Marker_A     0.965204   0.953149   0.977411\n",
      "Marker_B     1.058836   1.044149   1.073729\n",
      "Marker_C     1.021453   1.008178   1.034902\n",
      "Marker_D     1.022117   1.007319   1.037132\n"
     ]
    }
   ],
   "source": [
    "gam_mod.report()"
   ]
  },
  {
   "cell_type": "markdown",
   "id": "useful-knock",
   "metadata": {},
   "source": [
    "## Mô hình hồi quy tuyến tính Gaussian\n",
    "\n",
    "Cuối cùng, là mô hình hồi quy tuyến tính bình thường, bằng subclass Gaussian_reg:"
   ]
  },
  {
   "cell_type": "code",
   "execution_count": 15,
   "id": "advance-engagement",
   "metadata": {},
   "outputs": [
    {
     "data": {
      "text/plain": [
       "Subclass mô hình hồi quy tuyến tính"
      ]
     },
     "execution_count": 15,
     "metadata": {},
     "output_type": "execute_result"
    }
   ],
   "source": [
    "norm_mod = Gaussian_reg(data = df, formula = 'Score ~ Marker_A + Marker_B + Marker_C + Marker_D')\n",
    "\n",
    "norm_mod"
   ]
  },
  {
   "cell_type": "code",
   "execution_count": 16,
   "id": "mediterranean-devil",
   "metadata": {},
   "outputs": [
    {
     "name": "stdout",
     "output_type": "stream",
     "text": [
      "Trung bình các cả X và y đều được dịch chuyển về 0\n"
     ]
    }
   ],
   "source": [
    "norm_mod.centering()"
   ]
  },
  {
   "cell_type": "code",
   "execution_count": 17,
   "id": "above-sixth",
   "metadata": {},
   "outputs": [
    {
     "name": "stdout",
     "output_type": "stream",
     "text": [
      "Khớp xong  mô hình hồi quy tuyến tính với dữ liệu\n"
     ]
    }
   ],
   "source": [
    "norm_mod.fit_model()"
   ]
  },
  {
   "cell_type": "code",
   "execution_count": 18,
   "id": "mighty-associate",
   "metadata": {},
   "outputs": [
    {
     "name": "stdout",
     "output_type": "stream",
     "text": [
      "             Model:              GLM            AIC:  1304.8901\n",
      "     Link Function:         identity            BIC: 71007.7234\n",
      "Dependent Variable:            Score Log-Likelihood:    -647.45\n",
      "              Date: 2021-04-20 18:34        LL-Null:    -700.78\n",
      "  No. Observations:              143       Deviance:     71693.\n",
      "          Df Model:                4   Pearson chi2:   7.17e+04\n",
      "      Df Residuals:              138          Scale:     519.51\n",
      "            Method:             IRLS                           \n",
      "==============================\n",
      "               Coef.  Std.Err.          z         P>|z|     [0.025     0.975]\n",
      "Intercept  40.191847  1.906029  21.086688  1.053868e-98  36.456098  43.927596\n",
      "Marker_A   -0.977967  0.183169  -5.339148  9.338447e-08  -1.336972  -0.618962\n",
      "Marker_B    1.558876  0.203561   7.658039  1.887929e-14   1.159904   1.957848\n",
      "Marker_C    0.519045  0.190641   2.722636  6.476334e-03   0.145396   0.892694\n",
      "Marker_D    0.654523  0.212533   3.079625  2.072616e-03   0.237965   1.071081\n"
     ]
    }
   ],
   "source": [
    "norm_mod.report()"
   ]
  },
  {
   "cell_type": "markdown",
   "id": "secondary-google",
   "metadata": {},
   "source": [
    "# Ưu điểm và nhược điểm\n",
    "\n",
    "## Ưu điểm\n",
    "\n",
    "+ Template Method đơn giản, dễ triển khai,\n",
    "\n",
    "+ Cho phép người dùng tùy biến linh động một phần trong quy trình/giải thuật, để thích nghi với điều kiện áp dụng mới.\n",
    "\n",
    "+ Ngay cả khi đã thiết kế xong các concrete subclass, và nhận ra còn tồn tại những phần code trùng lặp, ta vẫn có thể cắt chúng và dán vào superclass, để tinh giản nội dung code của chương trình. \n",
    "\n",
    "## Nhược điểm: \n",
    "\n",
    "+ Người dùng có thể không hay biết về sự tồn tại của Template method (Superclass) nên không khai thác được hết tính năng này để tạo ra subclass mới cho riêng họ, mà chỉ dùng những subclass có sẵn.\n",
    "\n",
    "+ Khi có nhiều công đoạn và nhiều phiên bản subclass, template method trở nên khó bảo trì\n",
    "\n",
    "Ghi chú: Liên hệ với Factory Method ta đã học ở bài trước:\n",
    "\n",
    "Factory Method có thể xem như 1 trường hợp đặc biệt của Template Method; và có thể được dùng như 1 bước trong một Template Method lớn."
   ]
  }
 ],
 "metadata": {
  "kernelspec": {
   "display_name": "Python 3",
   "language": "python",
   "name": "python3"
  },
  "language_info": {
   "codemirror_mode": {
    "name": "ipython",
    "version": 3
   },
   "file_extension": ".py",
   "mimetype": "text/x-python",
   "name": "python",
   "nbconvert_exporter": "python",
   "pygments_lexer": "ipython3",
   "version": "3.8.5"
  },
  "toc": {
   "base_numbering": 1,
   "nav_menu": {},
   "number_sections": true,
   "sideBar": true,
   "skip_h1_title": false,
   "title_cell": "Table of Contents",
   "title_sidebar": "Contents",
   "toc_cell": false,
   "toc_position": {},
   "toc_section_display": true,
   "toc_window_display": false
  },
  "varInspector": {
   "cols": {
    "lenName": 16,
    "lenType": 16,
    "lenVar": 40
   },
   "kernels_config": {
    "python": {
     "delete_cmd_postfix": "",
     "delete_cmd_prefix": "del ",
     "library": "var_list.py",
     "varRefreshCmd": "print(var_dic_list())"
    },
    "r": {
     "delete_cmd_postfix": ") ",
     "delete_cmd_prefix": "rm(",
     "library": "var_list.r",
     "varRefreshCmd": "cat(var_dic_list()) "
    }
   },
   "types_to_exclude": [
    "module",
    "function",
    "builtin_function_or_method",
    "instance",
    "_Feature"
   ],
   "window_display": false
  }
 },
 "nbformat": 4,
 "nbformat_minor": 5
}
