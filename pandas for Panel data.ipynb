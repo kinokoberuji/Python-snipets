{
 "cells": [
  {
   "cell_type": "markdown",
   "id": "liked-cache",
   "metadata": {},
   "source": [
    "# Một số thủ thuật pandas dùng cho panel data\n",
    "\n",
    "### BS. Lê Ngọc Khả Nhi\n",
    "\n",
    "# Nhập đề\n",
    "\n",
    "Panel data, tạm dịch: dữ liệu hỗn hợp là một cấu trúc bảng dọc (long format) ghi thông tin trong nghiên cứu longitudinal. Panel data có hệ thống chỉ mục đa chiều là kết quả tổ hợp giữa cá thể (bệnh nhân), thời điểm khảo sát (mỗi bệnh nhân được khảo sát nhiều lần tại nhiều thời điểm khác nhau) và phân nhóm điều trị, kết cục lâm sàng hay những yếu tố phân nhóm khác. Panel data chứa đồng thời dữ liệu chuỗi (theo trình tự thời gian, có chu kì hoặc không) và dữ liệu cắt ngang (duy nhất 1 giá trị đại diện cho mỗi bệnh nhân). \n",
    "\n",
    "Dạng dữ liệu hỗn hợp này rất thường gặp trong một số chuyên khoa và vấn đề bệnh lý, thí dụ: Sản khoa (dữ liệu theo dõi kéo dài cho mỗi sản phụ trong thai kì), Nhi khoa (theo dõi tăng trưởng ở nhỏ), bệnh lý tự miễn (bệnh nhân được tái khám theo định kì, kéo dài suốt đời, hồi sức cấp cứu/chăm sóc tích cực (diễn tiến lâm sàng trong thời gian điều trị), các bệnh lý mạn tính (nhật ký lưu lượng đỉnh trong bệnh hen phế quản), nội tiết (theo dõi đường huyết kéo dài), hóa trị liệu ung thư. Đặc biệt, với công nghệ hiện đại, xuất hiện ngày càng nhiều hình thức xét nghiệm tại nhà và theo dõi bệnh lý kéo dài, sinh ra dữ liệu chuỗi và tích hợp chúng vào nghiên cứu lâm sàng.\n",
    "\n",
    "Do có cấu trúc chỉ mục và thông tin đa chiều, panel data đặt ra những tình huống khó khăn cho chuyên viên thống kê khi viết code lập trình. Trong bài thực hành này, Nhi sẽ chia sẻ một số code snipet sử dụng thư viện pandas trong ngôn ngữ Python để thực hiện một số quy trình trên panel data nghiên cứu y học. \n",
    "\n",
    "Thí dụ minh họa trong bài là bộ dữ liệu Mayo Clinic Primary Biliary Cirrhosis (PBC), đây là một bộ dữ liệu kinh điển cho bài toán Survival analysis, longitudinal data và mô hình hồi quy hỗn hợp. Nhi sẽ lần lượt đặt ra những câu hỏi mà nghiên cứu sinh có thể gặp, và cách giải quyết chúng bằng pandas. \n",
    "\n",
    "# Khởi hành\n",
    "\n",
    "Trước hết, mời các bạn tải dữ liệu này về từ github của Nhi, và import pandas"
   ]
  },
  {
   "cell_type": "code",
   "execution_count": 1,
   "id": "forced-debut",
   "metadata": {},
   "outputs": [],
   "source": [
    "import pandas as pd\n",
    "import numpy as np\n",
    "import matplotlib.pyplot as plt"
   ]
  },
  {
   "cell_type": "markdown",
   "id": "proof-round",
   "metadata": {},
   "source": [
    "Tải file PBC2.csv vào dataframe df như sau:"
   ]
  },
  {
   "cell_type": "code",
   "execution_count": 2,
   "id": "active-metropolitan",
   "metadata": {},
   "outputs": [
    {
     "data": {
      "text/html": [
       "<div>\n",
       "<style scoped>\n",
       "    .dataframe tbody tr th:only-of-type {\n",
       "        vertical-align: middle;\n",
       "    }\n",
       "\n",
       "    .dataframe tbody tr th {\n",
       "        vertical-align: top;\n",
       "    }\n",
       "\n",
       "    .dataframe thead th {\n",
       "        text-align: right;\n",
       "    }\n",
       "</style>\n",
       "<table border=\"1\" class=\"dataframe\">\n",
       "  <thead>\n",
       "    <tr style=\"text-align: right;\">\n",
       "      <th></th>\n",
       "      <th>id</th>\n",
       "      <th>years</th>\n",
       "      <th>status</th>\n",
       "      <th>drug</th>\n",
       "      <th>age</th>\n",
       "      <th>sex</th>\n",
       "      <th>year</th>\n",
       "      <th>ascites</th>\n",
       "      <th>hepatomegaly</th>\n",
       "      <th>spiders</th>\n",
       "      <th>edema</th>\n",
       "      <th>serBilir</th>\n",
       "      <th>serChol</th>\n",
       "      <th>albumin</th>\n",
       "      <th>alkaline</th>\n",
       "      <th>SGOT</th>\n",
       "      <th>platelets</th>\n",
       "      <th>prothrombin</th>\n",
       "      <th>histologic</th>\n",
       "      <th>status2</th>\n",
       "    </tr>\n",
       "  </thead>\n",
       "  <tbody>\n",
       "    <tr>\n",
       "      <th>0</th>\n",
       "      <td>1</td>\n",
       "      <td>1.095170</td>\n",
       "      <td>dead</td>\n",
       "      <td>D-penicil</td>\n",
       "      <td>58.766838</td>\n",
       "      <td>female</td>\n",
       "      <td>0.000000</td>\n",
       "      <td>Yes</td>\n",
       "      <td>Yes</td>\n",
       "      <td>Yes</td>\n",
       "      <td>edema despite diuretics</td>\n",
       "      <td>14.5</td>\n",
       "      <td>261.0</td>\n",
       "      <td>2.60</td>\n",
       "      <td>1718.0</td>\n",
       "      <td>138.0</td>\n",
       "      <td>190.0</td>\n",
       "      <td>12.2</td>\n",
       "      <td>4</td>\n",
       "      <td>1</td>\n",
       "    </tr>\n",
       "    <tr>\n",
       "      <th>1</th>\n",
       "      <td>1</td>\n",
       "      <td>1.095170</td>\n",
       "      <td>dead</td>\n",
       "      <td>D-penicil</td>\n",
       "      <td>58.766838</td>\n",
       "      <td>female</td>\n",
       "      <td>0.525682</td>\n",
       "      <td>Yes</td>\n",
       "      <td>Yes</td>\n",
       "      <td>Yes</td>\n",
       "      <td>edema despite diuretics</td>\n",
       "      <td>21.3</td>\n",
       "      <td>NaN</td>\n",
       "      <td>2.94</td>\n",
       "      <td>1612.0</td>\n",
       "      <td>6.2</td>\n",
       "      <td>183.0</td>\n",
       "      <td>11.2</td>\n",
       "      <td>4</td>\n",
       "      <td>1</td>\n",
       "    </tr>\n",
       "    <tr>\n",
       "      <th>2</th>\n",
       "      <td>2</td>\n",
       "      <td>14.152338</td>\n",
       "      <td>alive</td>\n",
       "      <td>D-penicil</td>\n",
       "      <td>56.447815</td>\n",
       "      <td>female</td>\n",
       "      <td>0.000000</td>\n",
       "      <td>No</td>\n",
       "      <td>Yes</td>\n",
       "      <td>Yes</td>\n",
       "      <td>No edema</td>\n",
       "      <td>1.1</td>\n",
       "      <td>302.0</td>\n",
       "      <td>4.14</td>\n",
       "      <td>7395.0</td>\n",
       "      <td>113.5</td>\n",
       "      <td>221.0</td>\n",
       "      <td>10.6</td>\n",
       "      <td>3</td>\n",
       "      <td>0</td>\n",
       "    </tr>\n",
       "    <tr>\n",
       "      <th>3</th>\n",
       "      <td>2</td>\n",
       "      <td>14.152338</td>\n",
       "      <td>alive</td>\n",
       "      <td>D-penicil</td>\n",
       "      <td>56.447815</td>\n",
       "      <td>female</td>\n",
       "      <td>0.498302</td>\n",
       "      <td>No</td>\n",
       "      <td>Yes</td>\n",
       "      <td>Yes</td>\n",
       "      <td>No edema</td>\n",
       "      <td>0.8</td>\n",
       "      <td>NaN</td>\n",
       "      <td>3.60</td>\n",
       "      <td>2107.0</td>\n",
       "      <td>139.5</td>\n",
       "      <td>188.0</td>\n",
       "      <td>11.0</td>\n",
       "      <td>3</td>\n",
       "      <td>0</td>\n",
       "    </tr>\n",
       "    <tr>\n",
       "      <th>4</th>\n",
       "      <td>2</td>\n",
       "      <td>14.152338</td>\n",
       "      <td>alive</td>\n",
       "      <td>D-penicil</td>\n",
       "      <td>56.447815</td>\n",
       "      <td>female</td>\n",
       "      <td>0.999343</td>\n",
       "      <td>No</td>\n",
       "      <td>Yes</td>\n",
       "      <td>Yes</td>\n",
       "      <td>No edema</td>\n",
       "      <td>1.0</td>\n",
       "      <td>NaN</td>\n",
       "      <td>3.55</td>\n",
       "      <td>1711.0</td>\n",
       "      <td>144.2</td>\n",
       "      <td>161.0</td>\n",
       "      <td>11.6</td>\n",
       "      <td>3</td>\n",
       "      <td>0</td>\n",
       "    </tr>\n",
       "    <tr>\n",
       "      <th>5</th>\n",
       "      <td>2</td>\n",
       "      <td>14.152338</td>\n",
       "      <td>alive</td>\n",
       "      <td>D-penicil</td>\n",
       "      <td>56.447815</td>\n",
       "      <td>female</td>\n",
       "      <td>2.102727</td>\n",
       "      <td>No</td>\n",
       "      <td>Yes</td>\n",
       "      <td>Yes</td>\n",
       "      <td>No edema</td>\n",
       "      <td>1.9</td>\n",
       "      <td>NaN</td>\n",
       "      <td>3.92</td>\n",
       "      <td>1365.0</td>\n",
       "      <td>144.2</td>\n",
       "      <td>122.0</td>\n",
       "      <td>10.6</td>\n",
       "      <td>3</td>\n",
       "      <td>0</td>\n",
       "    </tr>\n",
       "  </tbody>\n",
       "</table>\n",
       "</div>"
      ],
      "text/plain": [
       "   id      years status       drug        age     sex      year ascites  \\\n",
       "0   1   1.095170   dead  D-penicil  58.766838  female  0.000000     Yes   \n",
       "1   1   1.095170   dead  D-penicil  58.766838  female  0.525682     Yes   \n",
       "2   2  14.152338  alive  D-penicil  56.447815  female  0.000000      No   \n",
       "3   2  14.152338  alive  D-penicil  56.447815  female  0.498302      No   \n",
       "4   2  14.152338  alive  D-penicil  56.447815  female  0.999343      No   \n",
       "5   2  14.152338  alive  D-penicil  56.447815  female  2.102727      No   \n",
       "\n",
       "  hepatomegaly spiders                    edema  serBilir  serChol  albumin  \\\n",
       "0          Yes     Yes  edema despite diuretics      14.5    261.0     2.60   \n",
       "1          Yes     Yes  edema despite diuretics      21.3      NaN     2.94   \n",
       "2          Yes     Yes                 No edema       1.1    302.0     4.14   \n",
       "3          Yes     Yes                 No edema       0.8      NaN     3.60   \n",
       "4          Yes     Yes                 No edema       1.0      NaN     3.55   \n",
       "5          Yes     Yes                 No edema       1.9      NaN     3.92   \n",
       "\n",
       "   alkaline   SGOT  platelets  prothrombin  histologic  status2  \n",
       "0    1718.0  138.0      190.0         12.2           4        1  \n",
       "1    1612.0    6.2      183.0         11.2           4        1  \n",
       "2    7395.0  113.5      221.0         10.6           3        0  \n",
       "3    2107.0  139.5      188.0         11.0           3        0  \n",
       "4    1711.0  144.2      161.0         11.6           3        0  \n",
       "5    1365.0  144.2      122.0         10.6           3        0  "
      ]
     },
     "execution_count": 2,
     "metadata": {},
     "output_type": "execute_result"
    }
   ],
   "source": [
    "df = pd.read_csv('PBC2.csv', sep = ';')\n",
    "\n",
    "df.head(6)"
   ]
  },
  {
   "cell_type": "markdown",
   "id": "dried-delaware",
   "metadata": {},
   "source": [
    "# Câu hỏi 1: Có bao nhiêu bệnh nhân trong nghiên cứu ?\n",
    "\n",
    "Khác với những dữ liệu thông thường, mỗi hàng trong panel data không tương ứng với 1 cá thể bệnh nhân, do đó ta không thể đếm số hàng để biết có bao nhiêu bệnh nhân: df này có 1945 hàng"
   ]
  },
  {
   "cell_type": "code",
   "execution_count": 3,
   "id": "flush-apple",
   "metadata": {},
   "outputs": [
    {
     "data": {
      "text/plain": [
       "1945"
      ]
     },
     "execution_count": 3,
     "metadata": {},
     "output_type": "execute_result"
    }
   ],
   "source": [
    "df.shape[0]"
   ]
  },
  {
   "cell_type": "markdown",
   "id": "vietnamese-bradford",
   "metadata": {},
   "source": [
    "Nhưng phải dựa vào cột id, mã số bệnh nhân. Cách làm là kết hợp method unique() và len, ta sẽ có số bệnh nhân là 312"
   ]
  },
  {
   "cell_type": "code",
   "execution_count": 4,
   "id": "historical-prevention",
   "metadata": {},
   "outputs": [
    {
     "data": {
      "text/plain": [
       "312"
      ]
     },
     "execution_count": 4,
     "metadata": {},
     "output_type": "execute_result"
    }
   ],
   "source": [
    "len(df['id'].unique())"
   ]
  },
  {
   "cell_type": "markdown",
   "id": "simple-shakespeare",
   "metadata": {},
   "source": [
    "# Câu hỏi 2: Tỉ lệ của mỗi phân nhóm can thiệp như thế nào ?\n",
    "\n",
    "Với câu hỏi này, thông thường ta sẽ dùng công cụ bảng chéo hoặc kết hợp method groupby và phép đếm, tuy nhiên sau câu 1, ta đã rút ra một kinh nghiệm đó là bất cứ một phép đếm tần suất nào có đơn vị là bệnh nhân, đều phải dựa vào cột id và rút gọn nó để chỉ giữ lại 1 giá trị id duy nhất.\n",
    "\n",
    "Sau đây là 3 giải pháp cho câu hỏi này, 2 cách đầu tiên áp dụng groupby cho phân nhóm điều trị 'drug', sau đó dùng method unique cho cột 'id', kết quả sẽ là 1 arrays cho mỗi phân nhóm, dùng hàm len() trên array này sẽ cho ra tần suất.\n",
    "\n",
    "Cách thứ 3 tiếp cận bằng cột id, sau đó ta chọn biến drug, sẽ tạo ra series, áp dụng hàm lambda cho series x này để lấy giá trị đầu tiên cho mỗi phân cụm id, rồi gom lại, ta sẽ có 1 series mới chỉ còn 312 giá trị drugs, lúc này ta có thể dùng value_counts để đếm tần suất của mỗi phân nhóm drug"
   ]
  },
  {
   "cell_type": "code",
   "execution_count": 14,
   "id": "chemical-poverty",
   "metadata": {},
   "outputs": [
    {
     "data": {
      "text/plain": [
       "drug\n",
       "D-penicil    158\n",
       "placebo      154\n",
       "Name: id, dtype: int64"
      ]
     },
     "execution_count": 14,
     "metadata": {},
     "output_type": "execute_result"
    }
   ],
   "source": [
    "df.groupby(['drug'])['id'].unique().apply(len)"
   ]
  },
  {
   "cell_type": "code",
   "execution_count": 12,
   "id": "published-failing",
   "metadata": {},
   "outputs": [
    {
     "data": {
      "text/plain": [
       "drug\n",
       "D-penicil    158\n",
       "placebo      154\n",
       "Name: id, dtype: int64"
      ]
     },
     "execution_count": 12,
     "metadata": {},
     "output_type": "execute_result"
    }
   ],
   "source": [
    "df.groupby(['drug'])['id'].agg(lambda x: len(x.unique()))"
   ]
  },
  {
   "cell_type": "code",
   "execution_count": 33,
   "id": "regulation-rates",
   "metadata": {},
   "outputs": [
    {
     "data": {
      "text/plain": [
       "D-penicil    158\n",
       "placebo      154\n",
       "Name: drug, dtype: int64"
      ]
     },
     "execution_count": 33,
     "metadata": {},
     "output_type": "execute_result"
    }
   ],
   "source": [
    "df.groupby(['id'])['drug'].agg(lambda x: x.iloc[0]).value_counts()"
   ]
  },
  {
   "cell_type": "markdown",
   "id": "diagnostic-nerve",
   "metadata": {},
   "source": [
    "# Câu hỏi 3: Phân bố kết cục lâm sàng ở mỗi phân nhóm can thiệp ?\n",
    "\n",
    "Sau khi giải quyết xong câu 2, ta đã nắm được quy tắc để đếm tần suất của bất cứ tổ hợp nào giữa 2 biến định tính, chìa khóa là phải rút gọn id về 1 giá trị id duy nhất cho mỗi bệnh nhân.\n",
    "\n",
    "Câu 3 giải quyết giống y như câu 2, với 2 cách:"
   ]
  },
  {
   "cell_type": "code",
   "execution_count": 42,
   "id": "thorough-lemon",
   "metadata": {},
   "outputs": [
    {
     "data": {
      "text/plain": [
       "drug       status      \n",
       "D-penicil  alive           75\n",
       "           dead            71\n",
       "placebo    dead            69\n",
       "           alive           68\n",
       "           transplanted    17\n",
       "D-penicil  transplanted    12\n",
       "dtype: int64"
      ]
     },
     "execution_count": 42,
     "metadata": {},
     "output_type": "execute_result"
    }
   ],
   "source": [
    "df.groupby(['id'])[['drug','status']].agg(lambda x: x.iloc[0]).value_counts()"
   ]
  },
  {
   "cell_type": "code",
   "execution_count": 43,
   "id": "union-legislature",
   "metadata": {},
   "outputs": [
    {
     "data": {
      "text/plain": [
       "drug       status      \n",
       "D-penicil  alive           75\n",
       "           dead            71\n",
       "           transplanted    12\n",
       "placebo    alive           68\n",
       "           dead            69\n",
       "           transplanted    17\n",
       "Name: id, dtype: int64"
      ]
     },
     "execution_count": 43,
     "metadata": {},
     "output_type": "execute_result"
    }
   ],
   "source": [
    "df.groupby(['drug','status'])['id'].unique().apply(len)"
   ]
  },
  {
   "cell_type": "markdown",
   "id": "guilty-center",
   "metadata": {},
   "source": [
    "# Câu hỏi 4: So sánh thời gian sống trung bình giữa 2 phân nhóm can thiệp x 3 kết cục khác nhau:\n",
    "\n",
    "Đây là một nghiên cứu longitudinal đồng thời cũng là 1 bài toán Survival analysis, biến years trong df chỉ thời gian sống (nếu bệnh nhân tử vong), thời gian đến lúc ghép gan (nếu bệnh nhân được ghép gan, và thời gian sống sót cho đến kết thúc nghiên cứu. Biến status là kết cục lâm sàng.\n",
    "\n",
    "Như đã giải thích, có 2 loại thông tin định lượng trong panel data, loại thứ nhất có ý nghĩa đại diện, hoặc cắt ngang, nó chỉ có 1 giá trị duy nhất không đổi cho toàn bộ các hàng cho mỗi bệnh nhân. Thời gian sống (years) thuộc loại này.\n",
    "\n",
    "Do biến years này có giá trị như nhau ở toàn bộ các hàng cho mỗi bệnh nhân, nhiều bạn sẽ nghĩ ra cách làm \"ngây thơ\" là áp dụng group_by cho tổ hợp drug và status, sau đó áp dụng hàm mean cho years, khi đó ta sẽ thu được kết quả như sau:"
   ]
  },
  {
   "cell_type": "code",
   "execution_count": 106,
   "id": "heavy-worse",
   "metadata": {},
   "outputs": [
    {
     "data": {
      "text/plain": [
       "drug       status      \n",
       "D-penicil  alive           9.829064\n",
       "           dead            5.955559\n",
       "           transplanted    4.532427\n",
       "placebo    alive           9.697063\n",
       "           dead            6.203813\n",
       "           transplanted    5.768685\n",
       "Name: years, dtype: float64"
      ]
     },
     "execution_count": 106,
     "metadata": {},
     "output_type": "execute_result"
    }
   ],
   "source": [
    "df.groupby(['drug','status'])['years'].agg('mean')"
   ]
  },
  {
   "cell_type": "markdown",
   "id": "aggregate-worry",
   "metadata": {},
   "source": [
    "Một số bạn khác, cẩn thận hơn, sẽ áp dụng 2 lần groupby+mean, lần thứ nhất cho tổ hợp id/drug/status, sẽ tạo ra cho mỗi bệnh nhân 1 giá trị years đại diện, lần thứ 2 ta áp dụng groupby cho drug và status, rồi tính trung bình của tất cả giá trị years đại diện này, kết quả ra như sau:"
   ]
  },
  {
   "cell_type": "code",
   "execution_count": 91,
   "id": "vanilla-measurement",
   "metadata": {},
   "outputs": [
    {
     "data": {
      "text/plain": [
       "drug       status      \n",
       "D-penicil  alive           8.614281\n",
       "           dead            4.517925\n",
       "           transplanted    4.034562\n",
       "placebo    alive           8.780004\n",
       "           dead            4.344612\n",
       "           transplanted    5.189980\n",
       "Name: years, dtype: float64"
      ]
     },
     "execution_count": 91,
     "metadata": {},
     "output_type": "execute_result"
    }
   ],
   "source": [
    "df.groupby(['id','drug','status'])['years'].agg(lambda x: x.mean()).groupby(['drug','status']).agg('mean')"
   ]
  },
  {
   "cell_type": "markdown",
   "id": "neither-tuning",
   "metadata": {},
   "source": [
    "Như các bạn thấy, 2 cách làm này cho ra 2 kết quả khác nhau, cách nào là đúng ?\n",
    "\n",
    "Câu trả lời, đó là cách làm đầu tiên không chính xác, cách thứ 2 mới là chính xác. Bởi vì tuy mỗi bệnh nhân có cùng giá trị years cho tất cả thời điểm, nhưng số lần khám bệnh lại khác nhau, có người khám 10 lượt, có người chỉ có 2 (nhất là bệnh nhân tử vong sớm).\n",
    "\n",
    "Khi độ dài chuỗi không đồng đều, cách thứ 1 trở nên không chính xác, ta có thể thử qua 4 thí dụ sau đây:\n",
    "\n",
    "array 1: mỗi giá trị lặp lại 2 lần như nhau, trung bình = 3.5\n",
    "\n",
    "array 2: các chuỗi giá trị có độ dài khác nhau, trung bình khác với 3.5\n",
    "\n",
    "array 3: áp dụng hàm mean cho mỗi cụm giá trị trong array 2, ta có trung bình = 3.5\n",
    "\n",
    "array 4: kết quả rút gọn của array 3, trung bình của nó cũng là 3.5"
   ]
  },
  {
   "cell_type": "code",
   "execution_count": 7,
   "id": "artistic-yield",
   "metadata": {},
   "outputs": [
    {
     "data": {
      "text/plain": [
       "(3.5, 3.857142857142857, 3.5, 3.5)"
      ]
     },
     "execution_count": 7,
     "metadata": {},
     "output_type": "execute_result"
    }
   ],
   "source": [
    "np.array([2,2,2,3,3,3,4,4,4,5,5,5,]).mean(), \\\n",
    "np.array([2,2,3,3,3,4,4,4,4,5,5,5,5,5,]).mean(), \\\n",
    "np.array([np.mean([2,2]),np.mean([3,3,3]),np.mean([4,4,4,4]),np.mean([5,5,5,5,5])]).mean(), \\\n",
    "np.array([2,3,4,5]).mean()"
   ]
  },
  {
   "cell_type": "markdown",
   "id": "portuguese-blame",
   "metadata": {},
   "source": [
    "# Câu hỏi 5: So sánh giá trị trung bình SGOT giữa 2 phân nhóm can thiệp x 3 kết cục khác nhau:\n",
    "\n",
    "Khác với years, SGOT là một dữ liệu chuỗi, mỗi lần khám sẽ cho ra một giá trị SGOT khác nhau trong thời gian theo dõi của bệnh nhân, do đó, ta có thể dùng cách thứ 1: "
   ]
  },
  {
   "cell_type": "code",
   "execution_count": 8,
   "id": "radio-practice",
   "metadata": {},
   "outputs": [
    {
     "data": {
      "text/plain": [
       "drug       status      \n",
       "D-penicil  alive            93.951083\n",
       "           dead            142.794247\n",
       "           transplanted    151.506780\n",
       "placebo    alive           109.761272\n",
       "           dead            152.211944\n",
       "           transplanted    155.952273\n",
       "Name: SGOT, dtype: float64"
      ]
     },
     "execution_count": 8,
     "metadata": {},
     "output_type": "execute_result"
    }
   ],
   "source": [
    "df.groupby(['drug','status'])['SGOT'].agg('mean')"
   ]
  },
  {
   "cell_type": "markdown",
   "id": "upper-aging",
   "metadata": {},
   "source": [
    "# Câu hỏi 6: So sánh trung vị SGOT đầu tiên giữa 2 phân nhóm can thiệp x 3 kết cục khác nhau\n",
    "\n",
    "Câu 5 được giải quyết dễ dàng, nhưng không phải là câu hỏi hay. Để việc so sánh có ý nghĩa hơn, ta không nên lấy trung bình của tất cả các lần khám, mà nên xét cho 1 thời điểm nhất định và đồng nhất ở mỗi bệnh nhân, thí dụ lần khám đầu tiên trước khi bệnh nhân được chia nhóm điều trị (baseline value).\n",
    "\n",
    "Tất cả những phép thống kê trên dữ liệu 1 thời điểm xác định trong chuỗi dữ liệu cá thể đểu phải đi qua groupby(id) (vì cho cá thể), sau đó ta dùng apply và 1 hàm lambda để trích xuất giá trị đầu tiên x.iloc[0], kết quả tạo ra 1 df rút gọn, ta lại áp dụng groupby lần nữa cho drug và status để tính trung vị của SGOT bằng aggregate:"
   ]
  },
  {
   "cell_type": "code",
   "execution_count": 52,
   "id": "oriented-standard",
   "metadata": {},
   "outputs": [
    {
     "data": {
      "text/html": [
       "<div>\n",
       "<style scoped>\n",
       "    .dataframe tbody tr th:only-of-type {\n",
       "        vertical-align: middle;\n",
       "    }\n",
       "\n",
       "    .dataframe tbody tr th {\n",
       "        vertical-align: top;\n",
       "    }\n",
       "\n",
       "    .dataframe thead th {\n",
       "        text-align: right;\n",
       "    }\n",
       "</style>\n",
       "<table border=\"1\" class=\"dataframe\">\n",
       "  <thead>\n",
       "    <tr style=\"text-align: right;\">\n",
       "      <th></th>\n",
       "      <th>drug</th>\n",
       "      <th>status</th>\n",
       "      <th>SGOT</th>\n",
       "    </tr>\n",
       "    <tr>\n",
       "      <th>id</th>\n",
       "      <th></th>\n",
       "      <th></th>\n",
       "      <th></th>\n",
       "    </tr>\n",
       "  </thead>\n",
       "  <tbody>\n",
       "    <tr>\n",
       "      <th>1</th>\n",
       "      <td>D-penicil</td>\n",
       "      <td>dead</td>\n",
       "      <td>138.0</td>\n",
       "    </tr>\n",
       "    <tr>\n",
       "      <th>2</th>\n",
       "      <td>D-penicil</td>\n",
       "      <td>alive</td>\n",
       "      <td>113.5</td>\n",
       "    </tr>\n",
       "    <tr>\n",
       "      <th>3</th>\n",
       "      <td>D-penicil</td>\n",
       "      <td>dead</td>\n",
       "      <td>96.1</td>\n",
       "    </tr>\n",
       "    <tr>\n",
       "      <th>4</th>\n",
       "      <td>D-penicil</td>\n",
       "      <td>dead</td>\n",
       "      <td>60.6</td>\n",
       "    </tr>\n",
       "    <tr>\n",
       "      <th>5</th>\n",
       "      <td>placebo</td>\n",
       "      <td>transplanted</td>\n",
       "      <td>113.2</td>\n",
       "    </tr>\n",
       "    <tr>\n",
       "      <th>...</th>\n",
       "      <td>...</td>\n",
       "      <td>...</td>\n",
       "      <td>...</td>\n",
       "    </tr>\n",
       "    <tr>\n",
       "      <th>308</th>\n",
       "      <td>D-penicil</td>\n",
       "      <td>alive</td>\n",
       "      <td>91.0</td>\n",
       "    </tr>\n",
       "    <tr>\n",
       "      <th>309</th>\n",
       "      <td>placebo</td>\n",
       "      <td>alive</td>\n",
       "      <td>70.0</td>\n",
       "    </tr>\n",
       "    <tr>\n",
       "      <th>310</th>\n",
       "      <td>D-penicil</td>\n",
       "      <td>alive</td>\n",
       "      <td>171.0</td>\n",
       "    </tr>\n",
       "    <tr>\n",
       "      <th>311</th>\n",
       "      <td>D-penicil</td>\n",
       "      <td>alive</td>\n",
       "      <td>117.0</td>\n",
       "    </tr>\n",
       "    <tr>\n",
       "      <th>312</th>\n",
       "      <td>placebo</td>\n",
       "      <td>alive</td>\n",
       "      <td>136.0</td>\n",
       "    </tr>\n",
       "  </tbody>\n",
       "</table>\n",
       "<p>312 rows × 3 columns</p>\n",
       "</div>"
      ],
      "text/plain": [
       "          drug        status   SGOT\n",
       "id                                 \n",
       "1    D-penicil          dead  138.0\n",
       "2    D-penicil         alive  113.5\n",
       "3    D-penicil          dead   96.1\n",
       "4    D-penicil          dead   60.6\n",
       "5      placebo  transplanted  113.2\n",
       "..         ...           ...    ...\n",
       "308  D-penicil         alive   91.0\n",
       "309    placebo         alive   70.0\n",
       "310  D-penicil         alive  171.0\n",
       "311  D-penicil         alive  117.0\n",
       "312    placebo         alive  136.0\n",
       "\n",
       "[312 rows x 3 columns]"
      ]
     },
     "execution_count": 52,
     "metadata": {},
     "output_type": "execute_result"
    }
   ],
   "source": [
    "df.groupby(['id'])[['drug','status','SGOT']].apply(lambda x: x.iloc[0])"
   ]
  },
  {
   "cell_type": "code",
   "execution_count": 51,
   "id": "considered-silly",
   "metadata": {},
   "outputs": [
    {
     "data": {
      "text/html": [
       "<div>\n",
       "<style scoped>\n",
       "    .dataframe tbody tr th:only-of-type {\n",
       "        vertical-align: middle;\n",
       "    }\n",
       "\n",
       "    .dataframe tbody tr th {\n",
       "        vertical-align: top;\n",
       "    }\n",
       "\n",
       "    .dataframe thead th {\n",
       "        text-align: right;\n",
       "    }\n",
       "</style>\n",
       "<table border=\"1\" class=\"dataframe\">\n",
       "  <thead>\n",
       "    <tr style=\"text-align: right;\">\n",
       "      <th></th>\n",
       "      <th></th>\n",
       "      <th>SGOT</th>\n",
       "    </tr>\n",
       "    <tr>\n",
       "      <th>drug</th>\n",
       "      <th>status</th>\n",
       "      <th></th>\n",
       "    </tr>\n",
       "  </thead>\n",
       "  <tbody>\n",
       "    <tr>\n",
       "      <th rowspan=\"3\" valign=\"top\">D-penicil</th>\n",
       "      <th>alive</th>\n",
       "      <td>93.00</td>\n",
       "    </tr>\n",
       "    <tr>\n",
       "      <th>dead</th>\n",
       "      <td>128.70</td>\n",
       "    </tr>\n",
       "    <tr>\n",
       "      <th>transplanted</th>\n",
       "      <td>127.50</td>\n",
       "    </tr>\n",
       "    <tr>\n",
       "      <th rowspan=\"3\" valign=\"top\">placebo</th>\n",
       "      <th>alive</th>\n",
       "      <td>97.35</td>\n",
       "    </tr>\n",
       "    <tr>\n",
       "      <th>dead</th>\n",
       "      <td>135.00</td>\n",
       "    </tr>\n",
       "    <tr>\n",
       "      <th>transplanted</th>\n",
       "      <td>117.00</td>\n",
       "    </tr>\n",
       "  </tbody>\n",
       "</table>\n",
       "</div>"
      ],
      "text/plain": [
       "                          SGOT\n",
       "drug      status              \n",
       "D-penicil alive          93.00\n",
       "          dead          128.70\n",
       "          transplanted  127.50\n",
       "placebo   alive          97.35\n",
       "          dead          135.00\n",
       "          transplanted  117.00"
      ]
     },
     "execution_count": 51,
     "metadata": {},
     "output_type": "execute_result"
    }
   ],
   "source": [
    "df.groupby(['id'])[['drug','status','SGOT']].apply(lambda x: x.iloc[0]).groupby(['drug','status']).agg('median')"
   ]
  },
  {
   "cell_type": "markdown",
   "id": "manufactured-arcade",
   "metadata": {},
   "source": [
    "# Câu hỏi 7: Tính trung bình của giá trị SGOT cao nhất của mỗi bệnh nhân và so sánh giữa 3 kết cục lâm sàng\n",
    "\n",
    "Với câu hỏi này, yêu cầu đặt ra là đầu tiên xác định giá trị cao nhất trong chuỗi SGOT của mỗi bệnh nhân, sau đó tính trung bình cho 3 phân nhóm kết cục lâm sàng.\n",
    "\n",
    "Nếu đã làm được câu 6, ta sẽ nhận ra hàm lambda x: cho phép thao tác trên x là chuỗi dữ liệu SGOT, do đó ta chỉ cần thay x.iloc[0] bằng x.max(), phần còn lại tương tự:"
   ]
  },
  {
   "cell_type": "code",
   "execution_count": 58,
   "id": "rubber-distributor",
   "metadata": {},
   "outputs": [
    {
     "data": {
      "text/html": [
       "<div>\n",
       "<style scoped>\n",
       "    .dataframe tbody tr th:only-of-type {\n",
       "        vertical-align: middle;\n",
       "    }\n",
       "\n",
       "    .dataframe tbody tr th {\n",
       "        vertical-align: top;\n",
       "    }\n",
       "\n",
       "    .dataframe thead th {\n",
       "        text-align: right;\n",
       "    }\n",
       "</style>\n",
       "<table border=\"1\" class=\"dataframe\">\n",
       "  <thead>\n",
       "    <tr style=\"text-align: right;\">\n",
       "      <th></th>\n",
       "      <th>SGOT</th>\n",
       "    </tr>\n",
       "    <tr>\n",
       "      <th>status</th>\n",
       "      <th></th>\n",
       "    </tr>\n",
       "  </thead>\n",
       "  <tbody>\n",
       "    <tr>\n",
       "      <th>alive</th>\n",
       "      <td>150.437762</td>\n",
       "    </tr>\n",
       "    <tr>\n",
       "      <th>dead</th>\n",
       "      <td>196.900714</td>\n",
       "    </tr>\n",
       "    <tr>\n",
       "      <th>transplanted</th>\n",
       "      <td>189.686207</td>\n",
       "    </tr>\n",
       "  </tbody>\n",
       "</table>\n",
       "</div>"
      ],
      "text/plain": [
       "                    SGOT\n",
       "status                  \n",
       "alive         150.437762\n",
       "dead          196.900714\n",
       "transplanted  189.686207"
      ]
     },
     "execution_count": 58,
     "metadata": {},
     "output_type": "execute_result"
    }
   ],
   "source": [
    "df.groupby(['id'])[['status','SGOT']].apply(lambda x: x.max()).groupby(['status']).agg('mean')"
   ]
  },
  {
   "cell_type": "markdown",
   "id": "honest-panama",
   "metadata": {},
   "source": [
    "# Câu hỏi 8: Hãy hoán chuyển dữ liệu SGOT thành mức thay đổi của SGOT so với thời điểm ban đầu\n",
    "\n",
    "Đây là 1 câu hỏi thú vị, yêu cầu đặt ra là cho mỗi bệnh nhân, ta phải lấy mỗi giá trị SGOT trừ cho giá trị SGOT ở baseline của chính bệnh nhân đó. Mức độ thay đổi tại mỗi thời điểm so với giá trị baseline có nhiều ứng dụng trên lâm sàng, thí dụ đánh giá đáp ứng điều trị của một loại hormone (điều trị nội khoa thai ngoài tử cung), hay biomarker (ung thư tiền liệt tuyến), khảo sát liều/đáp ứng trong xét nghiệm phản ứng tính phế quản, ...\n",
    "\n",
    "Ta có thể giải quyết bằng 1 hàm rời để tính thay đổi so với baseline, rồi dùng method transform để áp dụng hàm này:\n",
    "\n",
    "Lưu ý; phải groupby(id) trước"
   ]
  },
  {
   "cell_type": "code",
   "execution_count": 68,
   "id": "addressed-cursor",
   "metadata": {},
   "outputs": [
    {
     "data": {
      "text/plain": [
       "0         0.0\n",
       "1      -131.8\n",
       "2         0.0\n",
       "3        26.0\n",
       "4        30.7\n",
       "        ...  \n",
       "1940      0.0\n",
       "1941    -12.0\n",
       "1942     30.0\n",
       "1943     37.0\n",
       "1944     64.0\n",
       "Name: SGOT, Length: 1945, dtype: float64"
      ]
     },
     "execution_count": 68,
     "metadata": {},
     "output_type": "execute_result"
    }
   ],
   "source": [
    "def change_from_baseline(x):\n",
    "    return x.apply(lambda v: v-x.values[0])\n",
    "\n",
    "df.groupby('id')['SGOT'].transform(change_from_baseline)"
   ]
  },
  {
   "cell_type": "markdown",
   "id": "ahead-atmosphere",
   "metadata": {},
   "source": [
    "# Câu hỏi 9: Hãy hoán chuyển dữ liệu SGOT thành mức thay đổi của SGOT so với thời điểm ngay trước nó\n",
    "\n",
    "Yêu cầu lần này là ta muốn đổi giá trị là tại mỗi thời điểm trên chuỗi dữ liệu của mỗi bệnh nhân thành khác biệt so với giá trị ngay trước nó. pandas đã có sẵn hàm diff() cho phép làm việc này. Lưu ý: method diff sẽ xuất kết quả NA cho giá trị đầu tiên, do đó ta phải dùng thêm fillna(0) để lấp đầy những giá trị NA này."
   ]
  },
  {
   "cell_type": "code",
   "execution_count": 71,
   "id": "amber-binding",
   "metadata": {},
   "outputs": [
    {
     "data": {
      "text/plain": [
       "0         0.0\n",
       "1      -131.8\n",
       "2         0.0\n",
       "3        26.0\n",
       "4         4.7\n",
       "        ...  \n",
       "1940      0.0\n",
       "1941    -12.0\n",
       "1942     42.0\n",
       "1943      7.0\n",
       "1944     27.0\n",
       "Name: SGOT, Length: 1945, dtype: float64"
      ]
     },
     "execution_count": 71,
     "metadata": {},
     "output_type": "execute_result"
    }
   ],
   "source": [
    "df.groupby('id')['SGOT'].apply(lambda x: x.diff()).fillna(0)"
   ]
  },
  {
   "cell_type": "markdown",
   "id": "sized-participant",
   "metadata": {},
   "source": [
    "# Câu hỏi 10: Thống kê số bệnh nhân có SGOT tăng cao hơn 50% so với baseline trong mỗi phân nhóm điều trị/kết cục ?\n",
    "\n",
    "Đây là một câu hỏi khá phức tạp, và có ứng dụng thực tế trên lâm sàng cho nhiều chuyên khoa, thí dụ trong phác đồ điều trị nội khoa thai ngoài tử cung, đáp ứng giảm beta-HCG hơn 50% so với baseline có ý nghĩa tích cực, tương tự, biến cố FEV1 giảm hơn 20% so với giá trị baseline trong test phản ứng tính phế quản cho ra kết quả test dương tính.\n",
    "\n",
    "Ta giải quyết theo từng bước:\n",
    "\n",
    "Đầu tiên, cần tạo ra 1 biến mới tên là Rise, chứa giá trị thay đổi SGOT theo tỉ lệ so với baseline, ta làm tương tự câu 8 với 1 hàm rời.\n",
    "\n",
    "Sau đó, ta tiến hành 2 lần groupby, lần thứ nhất cho id, drug, status, ta kiểm tra mỗi bệnh nhân có bất kì (any) giá trị Rise nào > 0.5, kết quả sẽ là 1 dataframe, ta groupby lần nữa trên dataframe này, dùng agg với hàm sum để tính tổng giá trị boolean (True = 1) thì sẽ ra kết quả cần tìm."
   ]
  },
  {
   "cell_type": "code",
   "execution_count": 113,
   "id": "fatal-yacht",
   "metadata": {},
   "outputs": [
    {
     "data": {
      "text/plain": [
       "0       0.000000\n",
       "1      -0.955072\n",
       "2       0.000000\n",
       "3       0.229075\n",
       "4       0.270485\n",
       "          ...   \n",
       "1940    0.000000\n",
       "1941   -0.088235\n",
       "1942    0.220588\n",
       "1943    0.272059\n",
       "1944    0.470588\n",
       "Name: Rise, Length: 1945, dtype: float64"
      ]
     },
     "execution_count": 113,
     "metadata": {},
     "output_type": "execute_result"
    }
   ],
   "source": [
    "def pct_change_from_baseline(x):\n",
    "    return x.apply(lambda v: (v-x.values[0])/x.values[0])\n",
    "\n",
    "df['Rise'] = df.groupby('id')['SGOT'].transform(pct_change_from_baseline)\n",
    "\n",
    "df['Rise']"
   ]
  },
  {
   "cell_type": "code",
   "execution_count": 115,
   "id": "adequate-walker",
   "metadata": {},
   "outputs": [
    {
     "data": {
      "text/html": [
       "<div>\n",
       "<style scoped>\n",
       "    .dataframe tbody tr th:only-of-type {\n",
       "        vertical-align: middle;\n",
       "    }\n",
       "\n",
       "    .dataframe tbody tr th {\n",
       "        vertical-align: top;\n",
       "    }\n",
       "\n",
       "    .dataframe thead th {\n",
       "        text-align: right;\n",
       "    }\n",
       "</style>\n",
       "<table border=\"1\" class=\"dataframe\">\n",
       "  <thead>\n",
       "    <tr style=\"text-align: right;\">\n",
       "      <th></th>\n",
       "      <th></th>\n",
       "      <th>Rise</th>\n",
       "    </tr>\n",
       "    <tr>\n",
       "      <th>drug</th>\n",
       "      <th>status</th>\n",
       "      <th></th>\n",
       "    </tr>\n",
       "  </thead>\n",
       "  <tbody>\n",
       "    <tr>\n",
       "      <th rowspan=\"3\" valign=\"top\">D-penicil</th>\n",
       "      <th>alive</th>\n",
       "      <td>22</td>\n",
       "    </tr>\n",
       "    <tr>\n",
       "      <th>dead</th>\n",
       "      <td>19</td>\n",
       "    </tr>\n",
       "    <tr>\n",
       "      <th>transplanted</th>\n",
       "      <td>3</td>\n",
       "    </tr>\n",
       "    <tr>\n",
       "      <th rowspan=\"3\" valign=\"top\">placebo</th>\n",
       "      <th>alive</th>\n",
       "      <td>20</td>\n",
       "    </tr>\n",
       "    <tr>\n",
       "      <th>dead</th>\n",
       "      <td>27</td>\n",
       "    </tr>\n",
       "    <tr>\n",
       "      <th>transplanted</th>\n",
       "      <td>8</td>\n",
       "    </tr>\n",
       "  </tbody>\n",
       "</table>\n",
       "</div>"
      ],
      "text/plain": [
       "                        Rise\n",
       "drug      status            \n",
       "D-penicil alive           22\n",
       "          dead            19\n",
       "          transplanted     3\n",
       "placebo   alive           20\n",
       "          dead            27\n",
       "          transplanted     8"
      ]
     },
     "execution_count": 115,
     "metadata": {},
     "output_type": "execute_result"
    }
   ],
   "source": [
    "df.groupby(['id','drug','status'])[['Rise']].agg(lambda x: any(x > 0.5)).groupby(['drug','status']).agg('sum')"
   ]
  },
  {
   "cell_type": "markdown",
   "id": "hearing-comedy",
   "metadata": {},
   "source": [
    "# Câu hỏi 11: Thống kê số bệnh nhân có SGOT tăng và Albumin giảm ở cuối nghiên cứu so với baseline \n",
    "\n",
    "Câu hỏi này có cùng một hướng giải quyết như câu 10, nhưng phức tạp hơn một chút, vì ta phải kiểm tra đồng thời 2 điều kiện: SGOT ở vị trí cuối (-1) có cao hơn SGOT ban đầu (0) hay không, và ngược lại cho albumin, ta có thể dùng 1 hàm rời và tạo 1 biến trung gian như trên, hoặc có thể làm trực tiếp trong 1 dòng code duy nhất như sau:"
   ]
  },
  {
   "cell_type": "code",
   "execution_count": 110,
   "id": "stuffed-qualification",
   "metadata": {},
   "outputs": [
    {
     "data": {
      "text/plain": [
       "drug       status      \n",
       "D-penicil  alive           18\n",
       "           dead            34\n",
       "           transplanted     5\n",
       "placebo    alive           20\n",
       "           dead            34\n",
       "           transplanted    13\n",
       "dtype: int64"
      ]
     },
     "execution_count": 110,
     "metadata": {},
     "output_type": "execute_result"
    }
   ],
   "source": [
    "df.groupby(['id','drug','status'])[['SGOT','albumin']].apply(lambda g: (g.albumin.values[-1] < g.albumin.values[0]) & (g.SGOT.values[-1] > g.SGOT.values[0])).groupby(['drug','status']).agg('sum')"
   ]
  },
  {
   "cell_type": "markdown",
   "id": "mineral-graph",
   "metadata": {},
   "source": [
    "# Câu hỏi 12: Vẽ biểu đồ tuyến kí mô tả diễn tiến SGOT cho tất cả bệnh nhân có từ 10 lần khám trở lên và có SGOT tăng cao hơn 50%\n",
    "\n",
    "method groupby trong pandas không chỉ dùng để làm thống kê hay hoán chuyển dữ liệu, nó còn có thể dùng để vẽ biểu đồ.\n",
    "\n",
    "Trong thí dụ này, Nhi viết 1 hàm rời draw_line, nó sẽ kiểm tra dataframe đầu vào : có độ dài lớn hơn hay bằng 10, SGOT không chứa NA, và có bất cứ giá trị biến Rise nào cao hơn 50%, nếu thỏa cả 3 điều kiện, sẽ vẽ 1 lineplot với trục hoành là year (thời gian chính xác giữa 2 lần khám, và trục tung là SGOT"
   ]
  },
  {
   "cell_type": "code",
   "execution_count": 208,
   "id": "becoming-avatar",
   "metadata": {},
   "outputs": [],
   "source": [
    "import seaborn as sns\n",
    "sns.set_palette('viridis')\n",
    "\n",
    "def draw_line(x):\n",
    "    if (len(x) >= 10) & (x['Rise'].isna().sum()==0) & (any(x['Rise']) > 0.5):\n",
    "        plt.plot(x['year'].values, x['SGOT'].values,'-', alpha = 0.3)"
   ]
  },
  {
   "cell_type": "code",
   "execution_count": 209,
   "id": "genetic-empty",
   "metadata": {
    "scrolled": false
   },
   "outputs": [
    {
     "data": {
      "image/png": "[encoded data removed]",
      "text/plain": [
       "<Figure size 648x432 with 1 Axes>"
      ]
     },
     "metadata": {
      "needs_background": "light"
     },
     "output_type": "display_data"
    }
   ],
   "source": [
    "plt.rcParams[\"figure.figsize\"] = (9,6)\n",
    "plt.ylim(0,500)\n",
    "df.groupby('id').apply(draw_line)\n",
    "plt.xlabel('Thời gian (năm)')\n",
    "plt.ylabel('SGOT')\n",
    "plt.show()"
   ]
  },
  {
   "cell_type": "markdown",
   "id": "abroad-bracelet",
   "metadata": {},
   "source": [
    "# Tổng kết\n",
    "\n",
    "Qua bài thực hành này, ta đã rút ra một số kinh nghiệm về công dụng của những method groupby, aggregate, apply, transform mà thư viện pandas cung cấp, cho phép giải quyết nhiều vấn đề trên dữ liệu hỗn hợp (panel data). Chúc các bạn thực hành vui."
   ]
  }
 ],
 "metadata": {
  "kernelspec": {
   "display_name": "Python 3",
   "language": "python",
   "name": "python3"
  },
  "language_info": {
   "codemirror_mode": {
    "name": "ipython",
    "version": 3
   },
   "file_extension": ".py",
   "mimetype": "text/x-python",
   "name": "python",
   "nbconvert_exporter": "python",
   "pygments_lexer": "ipython3",
   "version": "3.8.5"
  },
  "toc": {
   "base_numbering": 1,
   "nav_menu": {},
   "number_sections": true,
   "sideBar": true,
   "skip_h1_title": false,
   "title_cell": "Table of Contents",
   "title_sidebar": "Contents",
   "toc_cell": false,
   "toc_position": {},
   "toc_section_display": true,
   "toc_window_display": false
  },
  "varInspector": {
   "cols": {
    "lenName": 16,
    "lenType": 16,
    "lenVar": 40
   },
   "kernels_config": {
    "python": {
     "delete_cmd_postfix": "",
     "delete_cmd_prefix": "del ",
     "library": "var_list.py",
     "varRefreshCmd": "print(var_dic_list())"
    },
    "r": {
     "delete_cmd_postfix": ") ",
     "delete_cmd_prefix": "rm(",
     "library": "var_list.r",
     "varRefreshCmd": "cat(var_dic_list()) "
    }
   },
   "types_to_exclude": [
    "module",
    "function",
    "builtin_function_or_method",
    "instance",
    "_Feature"
   ],
   "window_display": false
  }
 },
 "nbformat": 4,
 "nbformat_minor": 5
}
