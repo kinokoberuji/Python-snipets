{
 "cells": [
  {
   "cell_type": "markdown",
   "metadata": {},
   "source": [
    "# Tổng hợp về các thuật toán sắp xếp array trong Python\n",
    "\n",
    "### BS. Lê Ngọc Khả Nhi\n",
    "\n",
    "# Giới thiệu\n",
    "\n",
    "Sắp xếp một array dữ liệu theo thứ tự tăng dần là một thủ thuật lập trình thống kê cơ bản, thí dụ ước tính trung vị và bách phân vị, những kiểm định phi tham số... Tuy tác vụ này có thể thực hiện dễ dàng bằng các hàm/method dựng sẵn trong Python và hầu hết thư viện thống kê; việc viết code thủ công để tạo ra 1 thuật toán sắp xếp thứ tự sẽ mang lại cơ hội tuyệt vời cho phép luyện tập kỹ năng lập trình và giải quyết vấn đề.\n",
    "\n",
    "Bài toán xếp thứ tự cho 1 array hoặc list é một trường hợp thú vị, vì mặc dù mục tiêu chỉ có một, nhưng lại có nhiều giải pháp khác nhau. Trong bài thực hành này, Nhi sẽ phân tích tất cả 6 thuật toán khác nhau cho bài toán này. Mỗi cách có thể đơn giản hay phức tạp về cơ chế/ý tưởng, dễ hay khó về nội dung code khi triển khai, và có hiệu năng cao/thấp khác nhau về tốc độ thi hành. "
   ]
  },
  {
   "cell_type": "markdown",
   "metadata": {},
   "source": [
    "# Chuẩn bị decorator đo lường tốc độ thi hành"
   ]
  },
  {
   "cell_type": "code",
   "execution_count": 31,
   "metadata": {},
   "outputs": [],
   "source": [
    "import time\n",
    "\n",
    "def timing_dec(target_func):\n",
    "    def timing(*args, **kwargs):\n",
    "        start = time.perf_counter()\n",
    "        action = target_func(*args, **kwargs)\n",
    "        print(f\"Thi hành mất {time.perf_counter() - start:.5f} giây\")\n",
    "    return timing"
   ]
  },
  {
   "cell_type": "markdown",
   "metadata": {},
   "source": [
    "# Bubble sort: Sắp xếp bong bóng\n",
    "\n",
    "Đây là thuật toán đơn giản nhất cả về cơ chế và code, \n",
    "\n",
    "**Tóm tắt cơ chế hoạt động:** \n",
    "\n",
    "**Mục tiêu:** di chuyển tuần tự những giá trị cao nhất về bên phải array; như vậy, phần được xếp thứ tự đúng sẽ \"nổi\" dần lên như hình ảnh bong bóng sủi bọt từ đáy lên mặt nước. \n",
    "\n",
    "**Tiến trình** của buuble sort rất đơn giản\n",
    "\n",
    "1) Xuất phát tại vị trí đầu tiên (index = 0)\n",
    "\n",
    "2) Sử dụng một vòng lặp để di chuyển dọc theo array từ vị trí đầu tiên (index = 0) đến áp chót (index = len(array) - 1)\n",
    "\n",
    "3) Tại mỗi vị trí, so sánh giá trị hiện thời (index = i) và giá trị liền kề bên phải nó (index = i+1); nếu giá trị bên phải nhỏ hơn; hoán chuyển vị trí 2 con số này cho nhau. Tiếp tục cho đến vị trí áp chót\n",
    "\n",
    "\"Khẩu quyết\": Nhắm vào phần tử bên phải\n",
    "\n",
    "Những **khái niệm về ngôn ngữ Python** có thể học được khi code thuật toán bubble sort gồm:\n",
    "\n",
    "1) Array indexing, đặc biệt di chuyển theo chiều bên phải\n",
    "\n",
    "2) Vòng lăp for và while\n",
    "\n",
    "3) So sánh lớn/nhỏ hơn\n",
    "\n",
    "4) Sử dụng tuple để hoán chuyển nhanh 2 objects\n",
    "\n",
    "5) Sử dụng boolean variable để kiểm soát vòng lặp\n",
    "\n",
    "**Đánh giá hiệu năng của thuật toán:**\n",
    "\n",
    "1) Trường hợp tốt nhất: O(n) về thời gian, O(1) về không gian\n",
    "\n",
    "2) Trường hợp xấu nhất: O(n^2) thời gian, O(1) về không gian\n",
    "\n",
    "3) Trung bình: O(n^2) thời gian, O(1) không gian\n",
    "\n",
    "**Nhận định:**\n",
    "\n",
    "Đơn giản về cơ chế và kỹ thuật code, nhưng kém hiệu quả nhất về tốc độ thi hành; ưu điểm là thao tác tại chỗ do đó hiệu quả cao nhất về không gian lưu trữ."
   ]
  },
  {
   "cell_type": "code",
   "execution_count": 44,
   "metadata": {},
   "outputs": [],
   "source": [
    "def bubble_sort(array, descending = True):\n",
    "    c = 0\n",
    "    while c < len(array):\n",
    "        is_sorted = True\n",
    "        for i in range(len(array) - 1 - c):\n",
    "            if array[i + 1] < array[i]:\n",
    "                is_sorted = False\n",
    "                array[i], array[i+1] = array[i+1], array[i]\n",
    "        c += 1\n",
    "\n",
    "    return array if descending else array[::-1]"
   ]
  },
  {
   "cell_type": "code",
   "execution_count": 48,
   "metadata": {},
   "outputs": [
    {
     "name": "stdout",
     "output_type": "stream",
     "text": [
      "[5, 10, 3, 8, 6, 7, 2, 4, 1]\n"
     ]
    },
    {
     "data": {
      "text/plain": [
       "[1, 2, 3, 4, 5, 6, 7, 8, 10]"
      ]
     },
     "execution_count": 48,
     "metadata": {},
     "output_type": "execute_result"
    }
   ],
   "source": [
    "small_case = [5,10,3,8,6,7,2,4,1,]\n",
    "\n",
    "print(small_case)\n",
    "\n",
    "bubble_sort(small_case)"
   ]
  },
  {
   "cell_type": "code",
   "execution_count": 49,
   "metadata": {},
   "outputs": [],
   "source": [
    "@timing_dec\n",
    "def bubble_sort(array, descending = True):\n",
    "    c = 0\n",
    "    while c < len(array):\n",
    "        is_sorted = True\n",
    "        for i in range(len(array) - 1 - c):\n",
    "            if array[i + 1] < array[i]:\n",
    "                is_sorted = False\n",
    "                array[i], array[i+1] = array[i+1], array[i]\n",
    "        c += 1\n",
    "\n",
    "    return array if descending else array[::-1]\n",
    "\n",
    "\n",
    "small_case = [5,10,3,8,6,7,2,4,1,]\n",
    "medium_case = list(random.randint(1,1000) for _ in range(10000))\n",
    "big_case = list(random.randint(1,1000) for _ in range(100000))"
   ]
  },
  {
   "cell_type": "code",
   "execution_count": 50,
   "metadata": {},
   "outputs": [
    {
     "name": "stdout",
     "output_type": "stream",
     "text": [
      "Thi hành mất 0.00001 giây\n"
     ]
    }
   ],
   "source": [
    "bubble_sort(small_case)"
   ]
  },
  {
   "cell_type": "code",
   "execution_count": 35,
   "metadata": {},
   "outputs": [
    {
     "name": "stdout",
     "output_type": "stream",
     "text": [
      "Thi hành mất 7.28780 giây\n"
     ]
    }
   ],
   "source": [
    "bubble_sort(list(medium_case))"
   ]
  },
  {
   "cell_type": "code",
   "execution_count": 38,
   "metadata": {},
   "outputs": [
    {
     "name": "stdout",
     "output_type": "stream",
     "text": [
      "Thi hành mất 749.80550 giây\n"
     ]
    }
   ],
   "source": [
    "bubble_sort(list(big_case))"
   ]
  },
  {
   "cell_type": "markdown",
   "metadata": {},
   "source": [
    "# Insertion sort : Sắp xếp chèn\n",
    "\n",
    "Đây là thuật toán đơn giản. Cơ chế hoạt động của selection sort tương tự như bubble_sort, có thể nói đây là một phiên bản đảo ngược của bubble sort.\n",
    "\n",
    "**Tóm tắt cơ chế hoạt động:** \n",
    "\n",
    "**Mục tiêu:** Di chuyển mỗi phần tử sao cho nó cùng phần bên trái của nó được xếp thứ tự, hay nói cách khác: chèn phần tử hiện hành vào vị trí phù hợp trong 1 chuỗi (bên trái) đã xếp thứ tự. Chuỗi này sẽ mở rộng cho đến khi chiếm trọn array ban đầu.\n",
    "\n",
    "**Tiến trình** :\n",
    "\n",
    "1) Xuất phát tại vị trí thứ 2 trong array (index = 1)\n",
    "\n",
    "2) Di chuyển dọc theo array từ vị trí thứ 2 (i = 1) đến cuối cùng (i = len(array)), định vị giá trị hiện hành j tại i\n",
    "\n",
    "3) Sử dụng 1 vòng lặp thứ hai để thử chèn giá trị hiện hành j vào danh sách tất cả giá trị bên trái của nó (đã được xếp thứ tự), bằng cách so sánh tuần tự giá trị tại j và tại j-1 ngay bên trái nó, nếu thứ tự sắp xếp chưa đúng, ta hoán chuyển vị trí giữa giá trị j và j-1; sau đó cập nhật j về bên trái 1 bước (j = j-1); Tiếp tục cho đến hết array\n",
    "\n",
    "\"Khẩu quyết\": Nhìn về bên trái\n",
    "\n",
    "Những **khái niệm về ngôn ngữ Python** có thể học được khi code thuật toán insertion sort gồm:\n",
    "\n",
    "1) Array indexing, đặc biệt di chuyển sang trái\n",
    "\n",
    "2) Vòng lăp for và while\n",
    "\n",
    "3) So sánh lớn/nhỏ hơn\n",
    "\n",
    "4) Sử dụng tuple để hoán chuyển nhanh 2 objects\n",
    "\n",
    "Ngoài ra, ta luyện tập được tư duy đảo ngược 1 quy trình đã có\n",
    "\n",
    "**Đánh giá hiệu năng của thuật toán:**\n",
    "\n",
    "1) Trường hợp tốt nhất: O(n) về thời gian, O(1) về không gian\n",
    "\n",
    "2) Trường hợp xấu nhất: O(n^2) thời gian, O(1) về không gian\n",
    "\n",
    "3) Trung bình: O(n^2) thời gian, O(1) không gian\n",
    "\n",
    "**Nhận định:**\n",
    "\n",
    "Cơ chế hoạt động tương tự như bubble sort và cũng khá đơn giản, tuy nhiên kỹ thuật code khó hơn và yêu cầu sự cẩn trọng khi đặt index cho array. \n",
    "\n",
    "Hiệu quả không tốt hơn bubble sort, cả 2 đều kém hiệu quả nhất về tốc độ thi hành; ưu điểm là thao tác tại chỗ do đó hiệu quả cao nhất về không gian lưu trữ."
   ]
  },
  {
   "cell_type": "code",
   "execution_count": 128,
   "metadata": {},
   "outputs": [],
   "source": [
    "def insertion_sort(array, descending = True):\n",
    "    for i in range(1, len(array)):\n",
    "        j = i\n",
    "        while j > 0 and array[j] < array[j-1]:\n",
    "            array[j], array[j-1] =  array[j-1], array[j]\n",
    "            j -= 1\n",
    "    return array if descending else array[::-1]"
   ]
  },
  {
   "cell_type": "code",
   "execution_count": 129,
   "metadata": {},
   "outputs": [
    {
     "name": "stdout",
     "output_type": "stream",
     "text": [
      "[5, 10, 3, 8, 6, 7, 2, 4, 1]\n"
     ]
    },
    {
     "data": {
      "text/plain": [
       "[1, 2, 3, 4, 5, 6, 7, 8, 10]"
      ]
     },
     "execution_count": 129,
     "metadata": {},
     "output_type": "execute_result"
    }
   ],
   "source": [
    "small_case = [5,10,3,8,6,7,2,4,1,]\n",
    "\n",
    "print(small_case)\n",
    "\n",
    "insertion_sort(small_case)"
   ]
  },
  {
   "cell_type": "code",
   "execution_count": 130,
   "metadata": {},
   "outputs": [],
   "source": [
    "@timing_dec\n",
    "def insertion_sort(array, descending = True):\n",
    "    for i in range(1, len(array)):\n",
    "        j = i\n",
    "        while j > 0 and array[j] < array[j-1]:\n",
    "            array[j], array[j-1] =  array[j-1], array[j]\n",
    "            j -= 1\n",
    "    return array if descending else array[::-1]\n",
    "\n",
    "small_case = [5,10,3,8,6,7,2,4,1,]\n",
    "medium_case = list(random.randint(1,1000) for _ in range(10000))\n",
    "big_case = list(random.randint(1,1000) for _ in range(100000))"
   ]
  },
  {
   "cell_type": "code",
   "execution_count": 131,
   "metadata": {},
   "outputs": [
    {
     "name": "stdout",
     "output_type": "stream",
     "text": [
      "Thi hành mất 0.00001 giây\n"
     ]
    }
   ],
   "source": [
    "insertion_sort(small_case)"
   ]
  },
  {
   "cell_type": "code",
   "execution_count": 132,
   "metadata": {},
   "outputs": [
    {
     "name": "stdout",
     "output_type": "stream",
     "text": [
      "Thi hành mất 6.20434 giây\n"
     ]
    }
   ],
   "source": [
    "insertion_sort(medium_case)"
   ]
  },
  {
   "cell_type": "code",
   "execution_count": 133,
   "metadata": {},
   "outputs": [
    {
     "name": "stdout",
     "output_type": "stream",
     "text": [
      "Thi hành mất 637.25517 giây\n"
     ]
    }
   ],
   "source": [
    "insertion_sort(big_case)"
   ]
  },
  {
   "cell_type": "markdown",
   "metadata": {},
   "source": [
    "# Selection sort : Sắp xếp chọn\n",
    "\n",
    "**Mục tiêu:**\n",
    "\n",
    "Đây là một biến thể của insertion sort, cơ chế tương tự, đó là giả định phân chia array cần xếp thứ tự thành 2 phần, phần bên trái ĐÃ được xếp thứ tự, và phần bên phải CHƯA được xếp thứ tự, mục tiêu là mở rộng phần bên trái cho đến khi chiếm trọn kích thước array gốc.\n",
    "\n",
    "Tuy mục tiêu giống nhau, nhưng cách giải quyết khác, đó là xác định phần tử có giá trị nhỏ nhất trong tập hợp chưa xếp thứ tự (phần bên phải), và hoán chuyển nó với phần tử đầu tiên của phần bên phải (vì ta biết chắc rằng phần bên trái đã xếp thứ tự đúng)  \n",
    "\n",
    "**Tiến trình :**\n",
    "\n",
    "1) Xuất phát tại vị trí đầu tiên trong array (index = 0), giả định như nó là phần bên trái (đã xếp thứ tự đúng), xem nó là giá trị hiện hành. Như vậy giá trị hiện hành luôn là vị trí đầu tiên của phần bên phải (chưa xếp thứ tự).\n",
    "\n",
    "2) Sử dụng 1 vòng lặp di chuyển từ vị trí hiện hành + 1 đến vị trí áp chót (len(array)-1) của phần bên phải, tìm giá trị nhỏ nhất bằng cách so sánh giá trị hiện hành với toàn bộ giá trị bên phải nó\n",
    "\n",
    "4) Một khi tìm ra giá trị nhỏ nhất, hoán chuyển nó với giá trị hiện hành; sau đó cập nhật giá trị hiện hành mới, bằng cách dời qua phải 1 bước: +=1\n",
    "\n",
    "Như vậy, phần bên trái được mở rộng thêm 1, phần bên phải bị rút ngắn đi 1. Tiếp tục cho đến khi toàn bộ phần bên phải biến mất, và phần bên trái chiếm trọn array.\n",
    "\n",
    "\"Khẩu quyết\": Chỉ nhìn về bên phải, đi tìm giá trị nhỏ nhất.\n",
    "\n",
    "Những **khái niệm** về ngôn ngữ Python có thể học được khi code thuật toán selection sort gồm:\n",
    "\n",
    "1) Array indexing, đặc biệt di chuyển sang phải\n",
    "\n",
    "2) Vòng lăp for và while\n",
    "\n",
    "3) So sánh lớn/nhỏ hơn\n",
    "\n",
    "4) Sử dụng tuple để hoán chuyển nhanh 2 objects\n",
    "\n",
    "Ngoài ra, ta luyện tập được tư duy chia bài toán thành 2 phần : đã và chưa được giải quyết, và chỉ tập trung giải quyết phần thứ 2.\n",
    "\n",
    "**Đánh giá hiệu năng của thuật toán:**\n",
    "\n",
    "1) Trường hợp tốt nhất: O(n^2) về thời gian, O(1) về không gian\n",
    "\n",
    "2) Trường hợp xấu nhất: O(n^2) thời gian, O(1) về không gian\n",
    "\n",
    "3) Trung bình: O(n^2) thời gian, O(1) không gian\n",
    "\n",
    "**Nhận định:**\n",
    "\n",
    "Cơ chế hoạt động tương tự như insertion sort, nhưng cách giải quyết khéo hơn, nhờ cấu trúc giải pháp tốt nên kỹ thuật code đơn giản hơn.\n",
    "\n",
    "Hiệu quả không tốt hơn bubble sort và insertion sort, cả 3 đều kém hiệu quả nhất về tốc độ thi hành; ưu điểm là thao tác tại chỗ do đó hiệu quả cao nhất về không gian lưu trữ."
   ]
  },
  {
   "cell_type": "code",
   "execution_count": 53,
   "metadata": {},
   "outputs": [],
   "source": [
    "def selection_sort(array, descending = True):\n",
    "    cur_idx = 0\n",
    "    while cur_idx < len(array) - 1:\n",
    "        min_val_pos = cur_idx\n",
    "        for i in range(cur_idx + 1, len(array)):\n",
    "            if array[i] < array[min_val_pos]:\n",
    "                min_val_pos = i\n",
    "        array[cur_idx],array[min_val_pos] = array[min_val_pos], array[cur_idx]\n",
    "        cur_idx += 1\n",
    "            \n",
    "    return array if descending else array[::-1]"
   ]
  },
  {
   "cell_type": "code",
   "execution_count": 54,
   "metadata": {},
   "outputs": [
    {
     "name": "stdout",
     "output_type": "stream",
     "text": [
      "[5, 10, 3, 8, 6, 7, 2, 4, 1]\n"
     ]
    },
    {
     "data": {
      "text/plain": [
       "[1, 2, 3, 4, 5, 6, 7, 8, 10]"
      ]
     },
     "execution_count": 54,
     "metadata": {},
     "output_type": "execute_result"
    }
   ],
   "source": [
    "small_case = [5,10,3,8,6,7,2,4,1,]\n",
    "\n",
    "print(small_case)\n",
    "\n",
    "selection_sort(small_case)"
   ]
  },
  {
   "cell_type": "code",
   "execution_count": 134,
   "metadata": {},
   "outputs": [],
   "source": [
    "@timing_dec\n",
    "def selection_sort(array, descending = True):\n",
    "    cur_idx = 0\n",
    "    while cur_idx < len(array) - 1:\n",
    "        min_val_pos = cur_idx\n",
    "        for i in range(cur_idx + 1, len(array)):\n",
    "            if array[i] < array[min_val_pos]:\n",
    "                min_val_pos = i\n",
    "        array[cur_idx],array[min_val_pos] = array[min_val_pos], array[cur_idx]\n",
    "        cur_idx += 1\n",
    "            \n",
    "    return array if descending else array[::-1]"
   ]
  },
  {
   "cell_type": "code",
   "execution_count": 135,
   "metadata": {},
   "outputs": [
    {
     "name": "stdout",
     "output_type": "stream",
     "text": [
      "Thi hành mất 0.00001 giây\n"
     ]
    }
   ],
   "source": [
    "selection_sort(small_case)"
   ]
  },
  {
   "cell_type": "code",
   "execution_count": 136,
   "metadata": {},
   "outputs": [
    {
     "name": "stdout",
     "output_type": "stream",
     "text": [
      "Thi hành mất 2.74594 giây\n"
     ]
    }
   ],
   "source": [
    "selection_sort(medium_case)"
   ]
  },
  {
   "cell_type": "code",
   "execution_count": 137,
   "metadata": {},
   "outputs": [
    {
     "name": "stdout",
     "output_type": "stream",
     "text": [
      "Thi hành mất 308.88208 giây\n"
     ]
    }
   ],
   "source": [
    "selection_sort(big_case)"
   ]
  },
  {
   "cell_type": "markdown",
   "metadata": {},
   "source": [
    "# Quicksort: Sắp xếp nhanh\n",
    "\n",
    "**Cơ chế**: \n",
    "\n",
    "Ta dùng hàm đệ quy, trường hợp cơ bản của hàm đệ quy: khi array rỗng hoặc chỉ chứa 1 phần tử\n",
    "\n",
    "Chọn một vị trí ngẫu nhiên trên array ban đầu, dùng nó làm tiêu chí phân chia array thành 3 bộ phận A,B,C\n",
    "\n",
    "A) Chứa toàn những phần tử nhỏ hơn giá trị mục tiêu\n",
    "\n",
    "B) Chứa toàn những phần tử bằng với giá trị mục tiêu\n",
    "\n",
    "C) Chứa toàn những phần tử lớn hơn giá trị mục tiêu\n",
    "\n",
    "Sau đó gọi hàm đệ quy cho phần A, C; và ghép nối 3 kết quả lại với nhau\n",
    "\n",
    "Những **khái niệm** về ngôn ngữ Python có thể học được khi code thuật toán quick sort gồm:\n",
    "\n",
    "1) Lập trình hàm đệ quy\n",
    "\n",
    "2) Chọn mẫu ngẫu nhiên bằng hàm random.choice\n",
    "\n",
    "3) List comprehension và điều kiện if\n",
    "\n",
    "Lưu ý: Tính năng list comprehension của Python làm cho code rất đẹp và ngắn gọn trong việc tạo ra 3 phần tử A,B,C nói trên\n",
    "\n",
    "4) Ghép nối list\n",
    "\n",
    "**Hiệu năng**\n",
    "\n",
    "1) Trường hợp tốt nhất: O(n*log((n)) về thời gian, O(log(n)) về không gian\n",
    "\n",
    "2) Trường hợp xấu nhất: O(n^2) về thời gian, O(log(n)) về không gian\n",
    "\n",
    "3) Trung bình: O(n*log((n)) thời gian, O(log(n)) về không gian\n",
    "\n",
    "**Nhận định**:\n",
    "\n",
    "Một giải pháp rất thông minh và hiệu quả về mặt thời gian. Đặc biệt là ngôn ngữ Python cho phép triển khai thuật toán một cách vô cùng đơn giản, ngắn gọn (code ngắn nhất trong tất cả thuật toán sorting)."
   ]
  },
  {
   "cell_type": "code",
   "execution_count": 84,
   "metadata": {},
   "outputs": [],
   "source": [
    "def quick_sort(array):\n",
    "    \n",
    "    if len(array) <= 1:\n",
    "        return array\n",
    "    \n",
    "    pivot_point = random.choice(array)\n",
    "    less_part = [i for i in array if i < pivot_point]\n",
    "    equal_part = [i for i in array if i == pivot_point]\n",
    "    greater_part = [i for i in array if i > pivot_point]\n",
    "    \n",
    "    return quick_sort(less_part) + equal_part + quick_sort(greater_part)"
   ]
  },
  {
   "cell_type": "code",
   "execution_count": 85,
   "metadata": {},
   "outputs": [
    {
     "name": "stdout",
     "output_type": "stream",
     "text": [
      "[5, 10, 3, 8, 6, 7, 2, 4, 1]\n"
     ]
    },
    {
     "data": {
      "text/plain": [
       "[1, 2, 3, 4, 5, 6, 7, 8, 10]"
      ]
     },
     "execution_count": 85,
     "metadata": {},
     "output_type": "execute_result"
    }
   ],
   "source": [
    "small_case = [5,10,3,8,6,7,2,4,1,]\n",
    "\n",
    "print(small_case)\n",
    "\n",
    "quick_sort(small_case)"
   ]
  },
  {
   "cell_type": "code",
   "execution_count": 97,
   "metadata": {},
   "outputs": [],
   "source": [
    "small_case = [5,10,3,8,6,7,2,4,1,]\n",
    "medium_case = list(random.randint(1,1000) for _ in range(10000))\n",
    "big_case = list(random.randint(1,1000) for _ in range(100000))"
   ]
  },
  {
   "cell_type": "code",
   "execution_count": 86,
   "metadata": {},
   "outputs": [
    {
     "name": "stdout",
     "output_type": "stream",
     "text": [
      "Thi hành mất 0.00007 giây\n"
     ]
    }
   ],
   "source": [
    "start = time.perf_counter()\n",
    "quick_sort(small_case)\n",
    "print(f\"Thi hành mất {time.perf_counter() - start:.5f} giây\")"
   ]
  },
  {
   "cell_type": "code",
   "execution_count": 88,
   "metadata": {},
   "outputs": [
    {
     "name": "stdout",
     "output_type": "stream",
     "text": [
      "Thi hành mất 0.01685 giây\n"
     ]
    }
   ],
   "source": [
    "start = time.perf_counter()\n",
    "quick_sort(medium_case)\n",
    "print(f\"Thi hành mất {time.perf_counter() - start:.5f} giây\")"
   ]
  },
  {
   "cell_type": "code",
   "execution_count": 98,
   "metadata": {},
   "outputs": [
    {
     "name": "stdout",
     "output_type": "stream",
     "text": [
      "Thi hành mất 0.12301 giây\n"
     ]
    }
   ],
   "source": [
    "start = time.perf_counter()\n",
    "quick_sort(big_case)\n",
    "print(f\"Thi hành mất {time.perf_counter() - start:.5f} giây\")"
   ]
  },
  {
   "cell_type": "markdown",
   "metadata": {},
   "source": [
    "# Merge sort: Sắp xếp ghép nối\n",
    "\n",
    "**Cơ chế**\n",
    "\n",
    "Thuật toán này hoạt động theo cơ chế đệ quy, dựa vào tính chất: có thể ghép nối 2 array đã được xếp thứ tự để có một array theo thứ tự đúng.\n",
    "\n",
    "**Mục tiêu:** Chia nhỏ array cần sắp xếp thành 2 phần bên trái/phải, sau đó lại chia mỗi phần này thành 2,...; xếp thứ tự cho mỗi phần rồi ghép chúng lại với nhau \n",
    "\n",
    "**Tiến trình :**\n",
    "\n",
    "Thuật toán merge sort được triển khai với 2 hàm, 1 helper_function có công dụng và bên ngoài là 1 hàm đệ quy.\n",
    "\n",
    "**A) Hàm đệ quy merge_sort:**\n",
    "\n",
    "Trường hợp cơ bản: hàm dừng lại trên array rỗng hay chỉ gồm 1 phần tử.\n",
    "\n",
    "Khi array có kích thước > 1, ta sẽ cắt nó thành 2 phần: bên trái và bên phải, so với vị trí trung tâm của array (index = len(array) //2)\n",
    "\n",
    "Sau đó dùng hàm helper_function để ghép nối 2 kết quả của quy trình sắp xếp đệ quy cho 2 array trái và phải. \n",
    "\n",
    "**B) Hàm helper function:**\n",
    "\n",
    "Trước hết, tạo một array rỗng chứa kết quả: output\n",
    "\n",
    "Ta khảo sát đồng thời 2 bộ phận Trái và phải (L,R)\n",
    "\n",
    "Khi output chưa chiếm trọn kích thước tổng của L và R, ta còn tiếp tục quy trình sau:\n",
    "\n",
    "Kiểm tra sự tồn tại của 2 phần tử nhỏ nhất của L và R, với giả định là cả L và R đều đã được xếp thứ tự đúng - nên 2 phần tử nhó nhất của chúng sẽ nằm ở vị trí đầu tiên index = 0\n",
    "\n",
    "So sánh 2 phần tử R_min và L_min: \n",
    "\n",
    "nếu L_min < R_min, ta ghép L_min vào danh sách output, sau đó cập nhật L_min bằng giá trị tiếp theo L_min + 1\n",
    "\n",
    "nếu R_min <= L_min, ta ghép R_min vào danh sách output, sau đó cập nhật R_min bằng giá trị tiếp theo R_min + 1\n",
    "\n",
    "Xuất kết quả output\n",
    "\n",
    "Những **khái niệm** về ngôn ngữ Python có thể học được khi code thuật toán selection sort gồm:\n",
    "\n",
    "1) Lập trình hàm đệ quy\n",
    "\n",
    "2) List slicing và indexing\n",
    "\n",
    "3) Vòng lặp while\n",
    "\n",
    "4) Điều kiện if/else\n",
    "\n",
    "5) Phép chia interger\n",
    "\n",
    "6) Ghép nối list bằng method append\n",
    "\n",
    "**Đánh giá hiệu năng của thuật toán:**\n",
    "\n",
    "1) Trường hợp tốt nhất: O(n * log(n)) về thời gian, O(n) về không gian\n",
    "\n",
    "2) Trường hợp xấu nhất: O(n * log(n)) thời gian, O(n) về không gian\n",
    "\n",
    "3) Trung bình: O(n * log(n)) thời gian, O(n) không gian\n",
    "\n",
    "**Nhận định:**\n",
    "\n",
    "Đây là một giải pháp rất 'thông minh', ổn định và có hiệu suất về thời gian cao. Nó giúp luyện tập tư duy giải quyết vấn đề theo nguyên tác đệ quy, chia bài toán thành những bài toán nhỏ hơn và ghép kết quả lại với nhau. Kỹ thuật code phức tạp nhất trong số các thuật toán sorting. "
   ]
  },
  {
   "cell_type": "code",
   "execution_count": 91,
   "metadata": {},
   "outputs": [],
   "source": [
    "def merge_sort(array):\n",
    "    if len(array) <= 1:\n",
    "        return array\n",
    "    \n",
    "    middle = len(array)//2\n",
    "    \n",
    "    left, right = array[:middle], array[middle:]\n",
    "    \n",
    "    return merge_sort_helper(merge_sort(left), merge_sort(right))\n",
    "\n",
    "def merge_sort_helper(left, right):\n",
    "    \n",
    "    output = []\n",
    "    \n",
    "    left_idx, right_idx = 0, 0\n",
    "    \n",
    "    while len(output) < len(left) + len(right):\n",
    "        \n",
    "        left_item = left[left_idx] if left_idx < len(left) else float('inf')\n",
    "        right_item = right[right_idx] if right_idx < len(right) else float('inf')\n",
    "        \n",
    "        if left_item < right_item:\n",
    "            output.append(left_item)\n",
    "            left_idx +=1\n",
    "        else:\n",
    "            output.append(right_item)\n",
    "            right_idx +=1\n",
    "            \n",
    "    return output"
   ]
  },
  {
   "cell_type": "code",
   "execution_count": 92,
   "metadata": {},
   "outputs": [
    {
     "name": "stdout",
     "output_type": "stream",
     "text": [
      "[5, 10, 3, 8, 6, 7, 2, 4, 1]\n"
     ]
    },
    {
     "data": {
      "text/plain": [
       "[1, 2, 3, 4, 5, 6, 7, 8, 10]"
      ]
     },
     "execution_count": 92,
     "metadata": {},
     "output_type": "execute_result"
    }
   ],
   "source": [
    "small_case = [5,10,3,8,6,7,2,4,1,]\n",
    "\n",
    "print(small_case)\n",
    "\n",
    "merge_sort(small_case)"
   ]
  },
  {
   "cell_type": "code",
   "execution_count": 99,
   "metadata": {},
   "outputs": [],
   "source": [
    "small_case = [5,10,3,8,6,7,2,4,1,]\n",
    "medium_case = list(random.randint(1,1000) for _ in range(10000))\n",
    "big_case = list(random.randint(1,1000) for _ in range(100000))"
   ]
  },
  {
   "cell_type": "code",
   "execution_count": 94,
   "metadata": {},
   "outputs": [
    {
     "name": "stdout",
     "output_type": "stream",
     "text": [
      "Thi hành mất 0.00016 giây\n"
     ]
    }
   ],
   "source": [
    "start = time.perf_counter()\n",
    "merge_sort(small_case)\n",
    "print(f\"Thi hành mất {time.perf_counter() - start:.5f} giây\")"
   ]
  },
  {
   "cell_type": "code",
   "execution_count": 95,
   "metadata": {},
   "outputs": [
    {
     "name": "stdout",
     "output_type": "stream",
     "text": [
      "Thi hành mất 0.05646 giây\n"
     ]
    }
   ],
   "source": [
    "start = time.perf_counter()\n",
    "merge_sort(medium_case)\n",
    "print(f\"Thi hành mất {time.perf_counter() - start:.5f} giây\")"
   ]
  },
  {
   "cell_type": "code",
   "execution_count": 100,
   "metadata": {},
   "outputs": [
    {
     "name": "stdout",
     "output_type": "stream",
     "text": [
      "Thi hành mất 0.65421 giây\n"
     ]
    }
   ],
   "source": [
    "start = time.perf_counter()\n",
    "merge_sort(big_case)\n",
    "print(f\"Thi hành mất {time.perf_counter() - start:.5f} giây\")"
   ]
  },
  {
   "cell_type": "markdown",
   "metadata": {},
   "source": [
    "# Timsort: thuật toán sắp xếp của Tim Peters\n",
    "\n",
    "Đây là thuật toán sắp xếp tối ưu, do Tim Peters xây dựng vào năm 2002; method sort của Python dùng thuật toán này. Nó kết hợp cả 2 phương pháp merge sort và insertion sort.\n",
    "\n",
    "**Cơ chế**\n",
    "\n",
    "Ý tưởng là chia nhỏ array cần xếp thứ tự thành nhiều bộ phận, dùng insertion sort để xếp thứ tự cho mỗi bộ phận này, sau đó dùng merge sort để ghép chúng lại với nhau cho đến khi toàn bộ array được xếp thứ tự.\n",
    "\n",
    "**Quy trình**\n",
    "\n",
    "Thuật toán được triển khai với 3 hàm:\n",
    "\n",
    "A) Một bản cải biên của hàm instertion_sort cho phép nó hoạt động trên 1 bộ phận của array, được \n",
    "giới hạn bằng 2 đầu left_idx và right_idx, như vậy ta sẽ áp dụng insertion_sort từ vị trí left_idx + 1 cho đến right_idx + 1\n",
    "\n",
    "B) Hàm merge_sort_helper trong merge_sort\n",
    "\n",
    "C) Hàm chính Tim_sort với quy trình:\n",
    "\n",
    "1) Xuất phát từ vị trí đầu tiên (index = 0), chọn trước kích thước cơ bản của mỗi bộ phận nhỏ (min_sub) và chia nhỏ array thành nhiều phần có kích thước = min_sub. Ta áp dụng hàm insertion short (A) cho mỗi bộ phận này\n",
    "\n",
    "2) Di chuyển dọc theo danh sách những bộ phận đã được xếp thứ tự, và lần lượt ghép nối 2 bộ phận với nhau, sử dụng hàm merge_sort_helper\n",
    "\n",
    "**Những khái niệm** lập trình học được:\n",
    "\n",
    "1) Lập trình hàm: chia nhỏ quy trình thành nhiều công đoạn, viết hàm giải quyết mỗi công đoạn và phối hợp lại với nhau\n",
    "\n",
    "2) list slicing và indexing\n",
    "\n",
    "3) Vòng lặp for và while\n",
    "\n",
    "4) Điều kiện if/else\n",
    "\n",
    "5) Ghép nối list bằng method append\n",
    "\n",
    "**Đánh giá hiệu năng**\n",
    "\n",
    "1) Trường hợp tốt nhất: O(n) về thời gian (tối ưu), O(n) về không gian \n",
    "\n",
    "2) Trường hợp xấu nhất: O(n * log(n)) thời gian, O(n) về không gian\n",
    "\n",
    "3) Trung bình: O(n * log(n)) thời gian, O(n) không gian\n",
    "\n",
    "**Nhận định**\n",
    "\n",
    "Thuật toán Tim sort giữ lại những đặc tính tốt nhất của mỗi phương pháp insertion_sort và merge_sort, ở trường hợp tốt nhất, nó đạt hiệu năng O(n) như intsertion_sort, ở trường hợp xấu nhất nó vẫn đạt tốc độ tối ưu là O(n log((n)). Tuy cơ chế có vẻ đơn giản, việc triển khai tương đối phức tạp, và hiệu năng sẽ phụ thuộc vào tham số kích thước của subsection, quy định số phân đoạn được chia ra. Con số này sẽ phân chia gánh nặng giữa 2 công đoạn insertion_sort và merge_sort và hiệu năng của sự phân chia này có tính đánh đổi/bù trừ. Khi array có kích thước lớn, ta nên dùng kích thước subsection lớn tương ứng."
   ]
  },
  {
   "cell_type": "code",
   "execution_count": 111,
   "metadata": {},
   "outputs": [],
   "source": [
    "def insertion_sort(array, left_idx = 0, right_idx = None):\n",
    "    if right_idx is None:\n",
    "        right_idx = len(array) - 1\n",
    "        \n",
    "    for i in range(left_idx + 1, right_idx + 1): \n",
    "        cur_item = array[i]\n",
    "        j = i - 1 \n",
    "\n",
    "        while (j >= left_idx and cur_item < array[j]): \n",
    "            array[j + 1] = array[j] \n",
    "            j -= 1 \n",
    "        \n",
    "        array[j + 1] = cur_item\n",
    "\n",
    "    return array\n",
    "\n",
    "def Tim_sort(array, min_sub = 16):\n",
    "\n",
    "    for i in range(0, len(array), min_sub):\n",
    "        insertion_sort(array, i, min((i + min_sub - 1), len(array) - 1))\n",
    "\n",
    "    size = min_sub\n",
    "    \n",
    "    while size < len(array):    \n",
    "        for start in range(0, len(array), size * 2):\n",
    "            midpoint = start + size - 1\n",
    "            end = min((start + size * 2 - 1), (len(array) - 1))\n",
    "\n",
    "            merged_array = merge_sort_helper(\n",
    "                array[start:midpoint + 1], \n",
    "                array[midpoint + 1:end + 1])\n",
    "            \n",
    "            array[start:start + len(merged_array)] = merged_array\n",
    "        size *= 2\n",
    "    \n",
    "    return array"
   ]
  },
  {
   "cell_type": "code",
   "execution_count": 112,
   "metadata": {},
   "outputs": [
    {
     "name": "stdout",
     "output_type": "stream",
     "text": [
      "[5, 10, 3, 8, 6, 7, 2, 4, 1]\n"
     ]
    },
    {
     "data": {
      "text/plain": [
       "[1, 2, 3, 4, 5, 6, 7, 8, 10]"
      ]
     },
     "execution_count": 112,
     "metadata": {},
     "output_type": "execute_result"
    }
   ],
   "source": [
    "small_case = [5,10,3,8,6,7,2,4,1,]\n",
    "\n",
    "print(small_case)\n",
    "\n",
    "Tim_sort(small_case)"
   ]
  },
  {
   "cell_type": "code",
   "execution_count": 113,
   "metadata": {},
   "outputs": [],
   "source": [
    "small_case = [5,10,3,8,6,7,2,4,1,]\n",
    "medium_case = list(random.randint(1,1000) for _ in range(10000))\n",
    "big_case = list(random.randint(1,1000) for _ in range(100000))"
   ]
  },
  {
   "cell_type": "code",
   "execution_count": 127,
   "metadata": {},
   "outputs": [
    {
     "name": "stdout",
     "output_type": "stream",
     "text": [
      "Thi hành mất 0.00005 giây\n"
     ]
    }
   ],
   "source": [
    "start = time.perf_counter()\n",
    "Tim_sort(small_case, min_sub = 10)\n",
    "print(f\"Thi hành mất {time.perf_counter() - start:.5f} giây\")"
   ]
  },
  {
   "cell_type": "code",
   "execution_count": 126,
   "metadata": {},
   "outputs": [
    {
     "name": "stdout",
     "output_type": "stream",
     "text": [
      "Thi hành mất 0.02198 giây\n"
     ]
    }
   ],
   "source": [
    "start = time.perf_counter()\n",
    "Tim_sort(medium_case, min_sub = 1000)\n",
    "print(f\"Thi hành mất {time.perf_counter() - start:.5f} giây\")"
   ]
  },
  {
   "cell_type": "code",
   "execution_count": 125,
   "metadata": {},
   "outputs": [
    {
     "name": "stdout",
     "output_type": "stream",
     "text": [
      "Thi hành mất 0.19589 giây\n"
     ]
    }
   ],
   "source": [
    "start = time.perf_counter()\n",
    "Tim_sort(big_case, min_sub = 10000)\n",
    "print(f\"Thi hành mất {time.perf_counter() - start:.5f} giây\")"
   ]
  },
  {
   "cell_type": "markdown",
   "metadata": {},
   "source": [
    "# Tổng kết\n",
    "\n",
    "Bài thực hành đã hết. Thông điệp chính trong bài này, đó là khi giải quyết bài toán xếp thứ tự, mục tiêu của chúng ta không phải là \"reinventing the wheel\" (trên thực tế ta không bao giờ phải code thủ công một việc đơn giản thế này), nhưng là để tập luyện một số kỹ năng lập trình trên array data structure. Xếp thứ tự là một bài toán độc đáo vì nó cho phép ta luyện tập khá nhiều chiêu thức, từ vòng lặp, slicing/indexing, flow control, list comprehension đến lập trình hàm đệ quy... Chúc các bạn thực hành vui."
   ]
  }
 ],
 "metadata": {
  "kernelspec": {
   "display_name": "Python 3",
   "language": "python",
   "name": "python3"
  },
  "language_info": {
   "codemirror_mode": {
    "name": "ipython",
    "version": 3
   },
   "file_extension": ".py",
   "mimetype": "text/x-python",
   "name": "python",
   "nbconvert_exporter": "python",
   "pygments_lexer": "ipython3",
   "version": "3.8.5"
  },
  "toc": {
   "base_numbering": 1,
   "nav_menu": {},
   "number_sections": true,
   "sideBar": true,
   "skip_h1_title": false,
   "title_cell": "Table of Contents",
   "title_sidebar": "Contents",
   "toc_cell": false,
   "toc_position": {},
   "toc_section_display": true,
   "toc_window_display": false
  }
 },
 "nbformat": 4,
 "nbformat_minor": 4
}
